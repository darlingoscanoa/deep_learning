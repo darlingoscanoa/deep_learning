{
 "cells": [
  {
   "cell_type": "markdown",
   "metadata": {},
   "source": [
    "# Training Neural Networks with Keras\n",
    "\n",
    "Welcome to the first practical session of the course! In this session, we will learn how to train neural networks with Keras. We will start with a simple example of a feedforward neural network for classification and then we will study the impact of the initialization of the weights on the convergence of the training algorithm.\n",
    "\n",
    "Keras is a high-level neural network API, built on top of TensorFlow 2.0. It provides a user-friendly interface to build, train and deploy deep learning models. Keras is designed to be modular, fast and easy to use.\n",
    "\n",
    "Throughout this course, we will focus on using Keras and TensorFlow for building and training neural networks. However, there are other popular deep learning frameworks such as PyTorch, MXNet, CNTK, etc. that you can also use to build and train neural networks.\n",
    "\n",
    "In order to use our code on Google Colab, we will need to ensure that any required packages are installed. We will use the following packages in this session:\n",
    "\n",
    "- `tensorflow`: an open-source library for numerical computation and large-scale machine learning.\n",
    "- `matplotlib`: a plotting library for the Python programming language and its numerical mathematics extension NumPy.\n",
    "- `numpy`: a library for scientific computing in Python.\n",
    "- `scikit-learn`: a machine learning library for the Python programming language.\n",
    "- `pandas`: a library providing high-performance, easy-to-use data structures and data analysis tools for the Python programming language.\n",
    "\n",
    "Today, we will be working with the famous MNIST dataset. MNIST (Modified National Institute of Standards and Technology) is a database of low resolution images of handwritten digits. The history here is interesting - the dataset was originally created in the 1980s, when researchers from the aforementioned institute collected samples from American Census Bureau employees and high school students. The dataset was then modified in the 1990s (hence the M in MNIST), and has since become a popular benchmark for machine learning algorithms. \n",
    "\n",
    "The dataset contains images, each of which is a 28x28 grayscale image of a handwritten digit. The goal is to classify each image into one of the 10 possible classes (0-9).\n",
    "\n",
    "![MNIST](https://upload.wikimedia.org/wikipedia/commons/2/27/MnistExamples.png)\n",
    "\n",
    "The Scikit-Learn library provides a convenient function to download and load the MNIST dataset. The following cell will download the dataset. Then we will take a look at the shape of the data."
   ]
  },
  {
   "cell_type": "code",
   "execution_count": 1,
   "metadata": {},
   "outputs": [],
   "source": [
    "import matplotlib.pyplot as plt\n",
    "import numpy as np\n",
    "\n",
    "from sklearn.datasets import load_digits\n",
    "\n",
    "digits = load_digits()"
   ]
  },
  {
   "cell_type": "code",
   "execution_count": 2,
   "metadata": {},
   "outputs": [
    {
     "data": {
      "text/plain": [
       "(1797, 8, 8)"
      ]
     },
     "execution_count": 2,
     "metadata": {},
     "output_type": "execute_result"
    }
   ],
   "source": [
    "digits.images.shape"
   ]
  },
  {
   "cell_type": "markdown",
   "metadata": {
    "collapsed": false
   },
   "source": [
    "This means that we have 1797 images, each of which is a 8x8 image. For basic image processing, we will need to flatten the images into a 1D array. In this case, Scikit-Learn has already provided the data in this format too:"
   ]
  },
  {
   "cell_type": "code",
   "execution_count": 3,
   "metadata": {},
   "outputs": [
    {
     "data": {
      "text/plain": [
       "(1797, 64)"
      ]
     },
     "execution_count": 3,
     "metadata": {},
     "output_type": "execute_result"
    }
   ],
   "source": [
    "digits.data.shape"
   ]
  },
  {
   "cell_type": "markdown",
   "metadata": {
    "collapsed": false
   },
   "source": [
    "For each image, we also have the corresponding label (or target, or class) in `digits.target`:"
   ]
  },
  {
   "cell_type": "code",
   "execution_count": 4,
   "metadata": {},
   "outputs": [
    {
     "data": {
      "text/plain": [
       "(1797,)"
      ]
     },
     "execution_count": 4,
     "metadata": {},
     "output_type": "execute_result"
    }
   ],
   "source": [
    "digits.target.shape"
   ]
  },
  {
   "cell_type": "markdown",
   "metadata": {
    "collapsed": false
   },
   "source": [
    "We can take a look at some random images from the dataset. The following cell will select 9 random images and plot them in a 3x3 grid (meaning that you can rerun the cell to see different images)."
   ]
  },
  {
   "cell_type": "code",
   "execution_count": 5,
   "metadata": {},
   "outputs": [
    {
     "data": {
      "image/png": "[encoded data removed]",
      "text/plain": [
       "<Figure size 600x600 with 9 Axes>"
      ]
     },
     "metadata": {},
     "output_type": "display_data"
    }
   ],
   "source": [
    "# Selecting 9 random indices\n",
    "random_indices = np.random.choice(len(digits.images), 9, replace=False)\n",
    "\n",
    "# Creating a 3x3 grid plot\n",
    "fig, axes = plt.subplots(3, 3, figsize=(6, 6))\n",
    "\n",
    "for i, ax in enumerate(axes.flat):\n",
    "    ax.imshow(digits.images[random_indices[i]], cmap=plt.cm.gray_r, interpolation='nearest')\n",
    "    ax.set_title(f\"Label: {digits.target[random_indices[i]]}\")\n",
    "\n",
    "    # Removing axis labels\n",
    "    ax.set_xticks([])\n",
    "    ax.set_yticks([])\n",
    "\n",
    "plt.show()"
   ]
  },
  {
   "cell_type": "markdown",
   "metadata": {
    "collapsed": false
   },
   "source": [
    "As you can see, these images are very low resolution. This is because they were originally scanned from paper forms, and then scaled down to 8x8 pixels. This is a common problem in machine learning - the quality of the data is often a limiting factor in the performance of the model. In this case, the low resolution of the images makes it difficult to distinguish between some digits, even for humans. For example, the following images are all labelled as 9, but they look very different:"
   ]
  },
  {
   "cell_type": "code",
   "execution_count": 6,
   "metadata": {
    "collapsed": false
   },
   "outputs": [
    {
     "data": {
      "image/png": "[encoded data removed]",
      "text/plain": [
       "<Figure size 600x600 with 9 Axes>"
      ]
     },
     "metadata": {},
     "output_type": "display_data"
    }
   ],
   "source": [
    "# Selecting 9 random indices of images labelled as 9\n",
    "random_indices = np.random.choice(np.where(digits.target == 9)[0], 9, replace=False)\n",
    "\n",
    "# Creating a 3x3 grid plot\n",
    "fig, axes = plt.subplots(3, 3, figsize=(6, 6))\n",
    "\n",
    "for i, ax in enumerate(axes.flat):\n",
    "    ax.imshow(digits.images[random_indices[i]], cmap=plt.cm.gray_r, interpolation='nearest')\n",
    "    ax.set_title(f\"Label: {digits.target[random_indices[i]]}\")\n",
    "\n",
    "    # Removing axis labels\n",
    "    ax.set_xticks([])\n",
    "    ax.set_yticks([])\n",
    "    \n",
    "plt.show()"
   ]
  },
  {
   "cell_type": "markdown",
   "metadata": {
    "collapsed": false
   },
   "source": [
    "While we are plotting the samples as images, remember that our model is only going to see a 1D array of numbers. "
   ]
  },
  {
   "cell_type": "markdown",
   "metadata": {},
   "source": [
    "## Train / Test Split\n",
    "\n",
    "In order to understand how well our model performs on _new_ data, we need to split our dataset into a training set and a test set. The training set will be used to train the model, and the test set will be used to evaluate the performance of the model.\n",
    "\n",
    "Let's keep some held-out data to be able to measure the generalization performance of our model. "
   ]
  },
  {
   "cell_type": "code",
   "execution_count": 7,
   "metadata": {},
   "outputs": [],
   "source": [
    "from sklearn.model_selection import train_test_split\n",
    "\n",
    "\n",
    "X_train, X_test, y_train, y_test = train_test_split(\n",
    "    digits.data, \n",
    "    digits.target,\n",
    "    test_size=0.2, # 20% of the data is used for testing\n",
    "    random_state=42 # Providing a value here means getting the same \"random\" split every time\n",
    ")"
   ]
  },
  {
   "cell_type": "markdown",
   "metadata": {
    "collapsed": false
   },
   "source": [
    "Let's confirm that the data has been split correctly:"
   ]
  },
  {
   "cell_type": "code",
   "execution_count": 8,
   "metadata": {
    "collapsed": false
   },
   "outputs": [
    {
     "name": "stdout",
     "output_type": "stream",
     "text": [
      "X_train shape: (1437, 64)\n",
      "y_train shape: (1437,)\n",
      "X_test shape: (360, 64)\n",
      "y_test shape: (360,)\n"
     ]
    }
   ],
   "source": [
    "print(f'X_train shape: {X_train.shape}')\n",
    "print(f'y_train shape: {y_train.shape}')\n",
    "print(f'X_test shape: {X_test.shape}')\n",
    "print(f'y_test shape: {y_test.shape}')"
   ]
  },
  {
   "cell_type": "markdown",
   "metadata": {
    "collapsed": false
   },
   "source": [
    "This is what we expected to see. It's always good to check as you go, to make sure that you haven't made a mistake somewhere - this is something that working in a notebook like this makes it easy to do."
   ]
  },
  {
   "cell_type": "markdown",
   "metadata": {},
   "source": [
    "## Preprocessing of the Target Data\n",
    "\n",
    "The labels that we have are integers between 0 and 9. However, we want to train a neural network to classify the images into one of 10 classes. It can be a little counter-intuitive because we are dealing with numbers, but our classes are not ordinal.\n",
    "\n",
    "What do we mean by that? Let's imagine we were trying to predict the height of a building (separated into classes) from images. If a given building was actually 10m tall, and our model predicted 9m, we would consider that to be a better prediction than if it predicted 1m. This is because the classes are ordinal - there is meaning in the difference between the classes.\n",
    "\n",
    "In our case, even though we are dealing with numbers, the classes are not ordinal. If a given image is actually a 9, and our model predicts 8, we would consider that to be just as bad as if it predicted 1. This is because the classes are not ordered, and the difference between the classes is not meaningful.\n",
    "\n",
    "Because of this, we need to convert our labels from an integer value into a one-hot encoded vector. This means that each label will be represented as a vector of length 10, with a 1 in the position corresponding to the class, and 0s everywhere else. For example, the label 9 would be represented as `[0, 0, 0, 0, 0, 0, 0, 0, 0, 1]`. This is a common way of representing categorical data in machine learning. By doing this, we ensure that our model is taught the correct relationship between the classes."
   ]
  },
  {
   "cell_type": "code",
   "execution_count": 9,
   "metadata": {},
   "outputs": [
    {
     "name": "stdout",
     "output_type": "stream",
     "text": [
      "Before one-hot encoding: 6\n",
      "After one-hot encoding: [0. 0. 0. 0. 0. 0. 1. 0. 0. 0.]\n"
     ]
    }
   ],
   "source": [
    "from tensorflow.keras.utils import to_categorical\n",
    "\n",
    "print(f'Before one-hot encoding: {y_train[0]}')\n",
    "y_train = to_categorical(y_train, num_classes=10)\n",
    "y_test = to_categorical(y_test, num_classes=10)\n",
    "print(f'After one-hot encoding: {y_train[0]}')"
   ]
  },
  {
   "cell_type": "markdown",
   "metadata": {},
   "source": [
    "## Feed Forward Neural Networks with Keras\n",
    "\n",
    "Now that we have prepared our data, it's time to build a simple neural network! In this section, we will use the Keras API to build a simple feed forward neural network. We will then train the model on the MNIST dataset, and evaluate its performance on the test set.\n",
    "\n",
    "In most modern deep learning frameworks, the process of building a model can be broken down into a few steps:\n",
    "\n",
    "- Define the model architecture: this is where we define the layers of the model, and how they are connected to each other.\n",
    "- Compile the model: this is where we define the loss function, the optimizer, and the metrics that we want to use to evaluate the model.\n",
    "- Train the model: this is where we train the model on the training data.\n",
    "\n",
    "Let's start with defining the model architecture. There are two ways to do this in Keras - the Sequential API and the Functional API. The Sequential API is the simplest way to build a model, and is suitable for most use cases. The Functional API is more flexible, and allows you to build more complex models. We will start with the Sequential API, and then we will look at the Functional API later in the course.\n",
    "\n",
    "Our simple neural network will be \"fully-connected\". This means that each neuron in a given layer is connected to every neuron in the next layer. This is also known as a \"dense\" layer. We will use the `Dense` class from Keras to define our layers."
   ]
  },
  {
   "cell_type": "code",
   "execution_count": 10,
   "metadata": {
    "collapsed": false
   },
   "outputs": [
    {
     "name": "stdout",
     "output_type": "stream",
     "text": [
      "Model: \"sequential\"\n",
      "_________________________________________________________________\n",
      " Layer (type)                Output Shape              Param #   \n",
      "=================================================================\n",
      " dense (Dense)               (None, 64)                4160      \n",
      "                                                                 \n",
      " dense_1 (Dense)             (None, 64)                4160      \n",
      "                                                                 \n",
      " dense_2 (Dense)             (None, 10)                650       \n",
      "                                                                 \n",
      "=================================================================\n",
      "Total params: 8,970\n",
      "Trainable params: 8,970\n",
      "Non-trainable params: 0\n",
      "_________________________________________________________________\n"
     ]
    }
   ],
   "source": [
    "from tensorflow.keras.models import Sequential\n",
    "from tensorflow.keras.layers import Dense\n",
    "\n",
    "model = Sequential()\n",
    "\n",
    "# Input layer\n",
    "model.add(Dense(64, activation='relu', input_shape=(64,))) # 64 neurons, ReLU activation, input shape of 64\n",
    "\n",
    "# Hidden layer\n",
    "model.add(Dense(64, activation='relu')) # 64 neurons, ReLU activation\n",
    "\n",
    "# Output layer\n",
    "model.add(Dense(10, activation='softmax')) # 10 neurons, softmax activation\n",
    "\n",
    "model.summary()"
   ]
  },
  {
   "cell_type": "markdown",
   "metadata": {
    "collapsed": false
   },
   "source": [
    "Congratulations! You have just built your first neural network with Keras. As we can confirm from the `model.summary()` output, our model has 3 layers. The first layer has 64 neurons, the second layer has 64 neurons, and the output layer has 10 neurons. The output layer uses the softmax activation function, which is commonly used for multi-class classification problems. The other layers use the ReLU activation function, which is commonly used for hidden layers in neural networks.\n",
    "\n",
    "Next, we need to compile the model. This is where we define the loss function, the optimizer, and the metrics that we want to use to evaluate the model. We will use the `compile` method of the model to do this."
   ]
  },
  {
   "cell_type": "code",
   "execution_count": 12,
   "metadata": {
    "collapsed": false
   },
   "outputs": [],
   "source": [
    "model.compile(\n",
    "    loss='categorical_crossentropy', # Loss function\n",
    "    optimizer='sgd', # Optimizer\n",
    "    metrics=['accuracy'] # Metrics to evaluate the model\n",
    ")"
   ]
  },
  {
   "cell_type": "markdown",
   "metadata": {
    "collapsed": false
   },
   "source": [
    "Because we are predicting which class a sample belongs to, we will use the `categorical_crossentropy` function. This loss function is commonly used for multi-class classification problems. \n",
    "\n",
    "For our optimizer, we are using the standard stochastic gradient descent (SGD) algorithm. This is a simple optimizer that works well for many problems. We will look at more advanced optimizers later in the course.\n",
    "\n",
    "Finally, we are using the `accuracy` metric to evaluate the model. This is a common metric for classification problems, and it is simply the fraction of samples that are correctly classified. This is an easier metric for us to understand, but it's not quite as useful for actually training the model (for example, it doesn't tell us how \"confident\" the model is in its predictions).\n",
    "\n",
    "Now that we have (a) defined the model architecture and (b) compiled the model, we are ready to train the model. We will use the `fit` method of the model to do this."
   ]
  },
  {
   "cell_type": "code",
   "execution_count": 13,
   "metadata": {
    "collapsed": false
   },
   "outputs": [
    {
     "name": "stdout",
     "output_type": "stream",
     "text": [
      "Epoch 1/5\n",
      "36/36 [==============================] - 1s 14ms/step - loss: 1.2897 - accuracy: 0.6710 - val_loss: 0.6192 - val_accuracy: 0.8125\n",
      "Epoch 2/5\n",
      "36/36 [==============================] - 0s 4ms/step - loss: 0.3764 - accuracy: 0.8912 - val_loss: 0.4221 - val_accuracy: 0.8785\n",
      "Epoch 3/5\n",
      "36/36 [==============================] - 0s 4ms/step - loss: 0.2472 - accuracy: 0.9312 - val_loss: 0.3442 - val_accuracy: 0.8924\n",
      "Epoch 4/5\n",
      "36/36 [==============================] - 0s 4ms/step - loss: 0.1871 - accuracy: 0.9539 - val_loss: 0.3075 - val_accuracy: 0.8993\n",
      "Epoch 5/5\n",
      "36/36 [==============================] - 0s 4ms/step - loss: 0.1572 - accuracy: 0.9556 - val_loss: 0.3117 - val_accuracy: 0.9028\n"
     ]
    },
    {
     "data": {
      "text/plain": [
       "<keras.callbacks.History at 0x1afffeabcd0>"
      ]
     },
     "execution_count": 13,
     "metadata": {},
     "output_type": "execute_result"
    }
   ],
   "source": [
    "model.fit(\n",
    "    X_train, # Training data\n",
    "    y_train, # Training labels\n",
    "    epochs=5, # Number of epochs\n",
    "    batch_size=32, # Number of samples per batch\n",
    "    validation_split=0.2 # Use 20% of the data for validation\n",
    ")"
   ]
  },
  {
   "cell_type": "markdown",
   "metadata": {
    "collapsed": false
   },
   "source": [
    "We have now trained our model! We can see that the model has been trained for 5 epochs, and the loss and accuracy have been printed for each epoch. We can also see that the model has been evaluated on the validation data at the end of each epoch. This is useful for us to see how the model is performing on data that it hasn't seen during training.\n",
    "\n",
    "Once the model is trained, it's time to evaluate the model on the test set. We can use the `evaluate` method of the model to do this. If you were building a model for a real-world application, this is the very last thing you would do, and the result here would be the figure you'd report in your paper or presentation."
   ]
  },
  {
   "cell_type": "code",
   "execution_count": 14,
   "metadata": {
    "collapsed": false
   },
   "outputs": [
    {
     "name": "stdout",
     "output_type": "stream",
     "text": [
      "12/12 [==============================] - 0s 3ms/step - loss: 0.2335 - accuracy: 0.9250\n",
      "Loss:     0.23\n",
      "Accuracy: 92.50%\n"
     ]
    }
   ],
   "source": [
    "loss, accuracy = model.evaluate(X_test, y_test)\n",
    "\n",
    "print(f'Loss:     {loss:.2f}')\n",
    "print(f'Accuracy: {accuracy*100:.2f}%')"
   ]
  },
  {
   "cell_type": "markdown",
   "metadata": {
    "collapsed": false
   },
   "source": [
    "Hopefully you have achieved an accuracy of around 95%. This is pretty good, but we can do better! In the next section, we will look at how we can improve the performance of our model by using a more advanced optimizer. But before we get there, let's do one other thing - let's look at the predictions that our model is making on the test set. When you are building a model, it's often useful to have a look at some of the examples your model is getting wrong. Sometimes this can reveal problems with the data, or it can give you ideas for how to improve your model."
   ]
  },
  {
   "cell_type": "code",
   "execution_count": 15,
   "metadata": {
    "collapsed": false
   },
   "outputs": [
    {
     "name": "stdout",
     "output_type": "stream",
     "text": [
      "12/12 [==============================] - 0s 2ms/step\n"
     ]
    },
    {
     "data": {
      "image/png": "[encoded data removed]",
      "text/plain": [
       "<Figure size 600x600 with 9 Axes>"
      ]
     },
     "metadata": {},
     "output_type": "display_data"
    }
   ],
   "source": [
    "# Get the predictions for the test data\n",
    "predictions = model.predict(X_test)\n",
    "\n",
    "# Get the index of the largest probability (i.e. the predicted class)\n",
    "predicted_classes = np.argmax(predictions, axis=1)\n",
    "true_classes = np.argmax(y_test, axis=1)\n",
    "misclassified_indices = np.where(predicted_classes != true_classes)[0]\n",
    "\n",
    "# Get the misclassified samples themselves\n",
    "misclassified_samples = X_test[misclassified_indices]\n",
    "misclassified_labels = np.argmax(y_test[misclassified_indices], axis=1)\n",
    "\n",
    "# Pick 9 random misclassified samples\n",
    "random_indices = np.random.choice(len(misclassified_indices), 9, replace=False)\n",
    "\n",
    "fig, axes = plt.subplots(3, 3, figsize=(6, 6))\n",
    "for i, ax in enumerate(axes.flat):\n",
    "    ax.imshow(misclassified_samples[random_indices[i]].reshape(8, 8), cmap=plt.cm.gray_r, interpolation='nearest')\n",
    "    ax.set_title(f\"Pred: {predicted_classes[misclassified_indices[random_indices[i]]]}, Real: {misclassified_labels[random_indices[i]]}\")\n",
    "\n",
    "    # Removing axis labels\n",
    "    ax.set_xticks([])\n",
    "    ax.set_yticks([])\n",
    "    \n",
    "plt.show()"
   ]
  },
  {
   "cell_type": "markdown",
   "metadata": {
    "collapsed": false
   },
   "source": [
    "What do you think? Would you have made the same mistakes as the model? Determining whether the mistakes are \"understandable\" is a rough way of seeing if you could improve the model further, or if this is the best you can do with the data you have."
   ]
  },
  {
   "cell_type": "markdown",
   "metadata": {},
   "source": [
    "### b) Exercises: Impact of the Optimizer\n",
    "\n",
    "In this section, you will play around with the optimizer and see how it affects the performance of the model. We will start with the standard SGD optimizer, and then we will look at more advanced optimizers.\n",
    "\n",
    "1. Try decreasing the learning rate of the SGD optimizer by a factor of 10, or 100. What do you observe?\n",
    "2. Try increasing the learning rate of the SGD optimizer. What happens?\n",
    "3. The SGD optimizer has a momentum parameter. In a nutshell, this parameter controls how much the gradient from the previous step affects the current step. Try enabling momentum in the SGD optimizer with a value of 0.9. What happens?\n",
    "  \n",
    "**Notes**: \n",
    "\n",
    "The keras API documentation is available at:\n",
    "\n",
    "https://www.tensorflow.org/api_docs/python/tf/keras\n",
    "\n",
    "It is also possible to learn more about the parameters of a class by using the question mark: type and evaluate:\n",
    "\n",
    "```python\n",
    "optimizers.SGD?\n",
    "```\n",
    "\n",
    "in a jupyter notebook cell.\n",
    "\n",
    "It is also possible to type the beginning of a function call / constructor and type \"shift-tab\" after the opening paren:\n",
    "\n",
    "```python\n",
    "optimizers.SGD(<shift-tab>\n",
    "```"
   ]
  },
  {
   "cell_type": "code",
   "execution_count": 27,
   "metadata": {},
   "outputs": [
    {
     "name": "stdout",
     "output_type": "stream",
     "text": [
      "Model: \"sequential_3\"\n",
      "_________________________________________________________________\n",
      " Layer (type)                Output Shape              Param #   \n",
      "=================================================================\n",
      " dense_9 (Dense)             (None, 64)                4160      \n",
      "                                                                 \n",
      " dense_10 (Dense)            (None, 64)                4160      \n",
      "                                                                 \n",
      " dense_11 (Dense)            (None, 10)                650       \n",
      "                                                                 \n",
      "=================================================================\n",
      "Total params: 8,970\n",
      "Trainable params: 8,970\n",
      "Non-trainable params: 0\n",
      "_________________________________________________________________\n"
     ]
    }
   ],
   "source": [
    "# 1. Decreasing the learning rate\n",
    "from tensorflow.keras.optimizers import SGD\n",
    "\n",
    "model = Sequential()\n",
    "\n",
    "# Input layer\n",
    "model.add(Dense(64, activation='relu', input_shape=(64,))) # 64 neurons, ReLU activation, input shape of 64\n",
    "\n",
    "# Hidden layer\n",
    "model.add(Dense(64, activation='relu')) # 64 neurons, ReLU activation\n",
    "\n",
    "# Output layer\n",
    "model.add(Dense(10, activation='softmax')) # 10 neurons, softmax activation\n",
    "\n",
    "model.summary()"
   ]
  },
  {
   "cell_type": "code",
   "execution_count": 28,
   "metadata": {},
   "outputs": [],
   "source": [
    "#as the default learning rate is 0.01, then we are going to decrease it by a factor of 10, which mean it will be 0.001\n",
    "optimizer = SGD(learning_rate=0.001, decay=0.0001)"
   ]
  },
  {
   "cell_type": "code",
   "execution_count": 29,
   "metadata": {},
   "outputs": [],
   "source": [
    "model.compile(\n",
    "    loss='categorical_crossentropy', # Loss function\n",
    "    optimizer=optimizer, # Optimizer\n",
    "    metrics=['accuracy'] # Metrics to evaluate the model\n",
    ")"
   ]
  },
  {
   "cell_type": "code",
   "execution_count": 30,
   "metadata": {},
   "outputs": [
    {
     "name": "stdout",
     "output_type": "stream",
     "text": [
      "Epoch 1/50\n",
      "36/36 [==============================] - 1s 12ms/step - loss: 3.4480 - accuracy: 0.2080 - val_loss: 2.1183 - val_accuracy: 0.3264\n",
      "Epoch 2/50\n",
      "36/36 [==============================] - 0s 4ms/step - loss: 1.8053 - accuracy: 0.4178 - val_loss: 1.6217 - val_accuracy: 0.4444\n",
      "Epoch 3/50\n",
      "36/36 [==============================] - 0s 4ms/step - loss: 1.4470 - accuracy: 0.5222 - val_loss: 1.3155 - val_accuracy: 0.5903\n",
      "Epoch 4/50\n",
      "36/36 [==============================] - 0s 4ms/step - loss: 1.2063 - accuracy: 0.6092 - val_loss: 1.1080 - val_accuracy: 0.6493\n",
      "Epoch 5/50\n",
      "36/36 [==============================] - 0s 4ms/step - loss: 1.0238 - accuracy: 0.6623 - val_loss: 0.9531 - val_accuracy: 0.7049\n",
      "Epoch 6/50\n",
      "36/36 [==============================] - 0s 5ms/step - loss: 0.8855 - accuracy: 0.7250 - val_loss: 0.8356 - val_accuracy: 0.7292\n",
      "Epoch 7/50\n",
      "36/36 [==============================] - 0s 4ms/step - loss: 0.7827 - accuracy: 0.7563 - val_loss: 0.7472 - val_accuracy: 0.7778\n",
      "Epoch 8/50\n",
      "36/36 [==============================] - 0s 4ms/step - loss: 0.6959 - accuracy: 0.7859 - val_loss: 0.6759 - val_accuracy: 0.8090\n",
      "Epoch 9/50\n",
      "36/36 [==============================] - 0s 6ms/step - loss: 0.6289 - accuracy: 0.8050 - val_loss: 0.6241 - val_accuracy: 0.8299\n",
      "Epoch 10/50\n",
      "36/36 [==============================] - 0s 4ms/step - loss: 0.5746 - accuracy: 0.8294 - val_loss: 0.5724 - val_accuracy: 0.8333\n",
      "Epoch 11/50\n",
      "36/36 [==============================] - 0s 4ms/step - loss: 0.5261 - accuracy: 0.8451 - val_loss: 0.5342 - val_accuracy: 0.8403\n",
      "Epoch 12/50\n",
      "36/36 [==============================] - 0s 6ms/step - loss: 0.4870 - accuracy: 0.8555 - val_loss: 0.4994 - val_accuracy: 0.8542\n",
      "Epoch 13/50\n",
      "36/36 [==============================] - 0s 5ms/step - loss: 0.4543 - accuracy: 0.8642 - val_loss: 0.4718 - val_accuracy: 0.8681\n",
      "Epoch 14/50\n",
      "36/36 [==============================] - 0s 4ms/step - loss: 0.4246 - accuracy: 0.8764 - val_loss: 0.4508 - val_accuracy: 0.8646\n",
      "Epoch 15/50\n",
      "36/36 [==============================] - 0s 5ms/step - loss: 0.3967 - accuracy: 0.8895 - val_loss: 0.4346 - val_accuracy: 0.8785\n",
      "Epoch 16/50\n",
      "36/36 [==============================] - 0s 4ms/step - loss: 0.3754 - accuracy: 0.8964 - val_loss: 0.4164 - val_accuracy: 0.8854\n",
      "Epoch 17/50\n",
      "36/36 [==============================] - 0s 5ms/step - loss: 0.3536 - accuracy: 0.9043 - val_loss: 0.3976 - val_accuracy: 0.8854\n",
      "Epoch 18/50\n",
      "36/36 [==============================] - 0s 5ms/step - loss: 0.3353 - accuracy: 0.9051 - val_loss: 0.3834 - val_accuracy: 0.8854\n",
      "Epoch 19/50\n",
      "36/36 [==============================] - 0s 4ms/step - loss: 0.3182 - accuracy: 0.9130 - val_loss: 0.3672 - val_accuracy: 0.8854\n",
      "Epoch 20/50\n",
      "36/36 [==============================] - 0s 5ms/step - loss: 0.3038 - accuracy: 0.9164 - val_loss: 0.3589 - val_accuracy: 0.8819\n",
      "Epoch 21/50\n",
      "36/36 [==============================] - 0s 5ms/step - loss: 0.2903 - accuracy: 0.9234 - val_loss: 0.3458 - val_accuracy: 0.8889\n",
      "Epoch 22/50\n",
      "36/36 [==============================] - 0s 5ms/step - loss: 0.2779 - accuracy: 0.9278 - val_loss: 0.3404 - val_accuracy: 0.8958\n",
      "Epoch 23/50\n",
      "36/36 [==============================] - 0s 4ms/step - loss: 0.2657 - accuracy: 0.9339 - val_loss: 0.3282 - val_accuracy: 0.9028\n",
      "Epoch 24/50\n",
      "36/36 [==============================] - 0s 5ms/step - loss: 0.2557 - accuracy: 0.9356 - val_loss: 0.3259 - val_accuracy: 0.9028\n",
      "Epoch 25/50\n",
      "36/36 [==============================] - 0s 4ms/step - loss: 0.2463 - accuracy: 0.9408 - val_loss: 0.3136 - val_accuracy: 0.9097\n",
      "Epoch 26/50\n",
      "36/36 [==============================] - 0s 4ms/step - loss: 0.2363 - accuracy: 0.9391 - val_loss: 0.3143 - val_accuracy: 0.9062\n",
      "Epoch 27/50\n",
      "36/36 [==============================] - 0s 5ms/step - loss: 0.2280 - accuracy: 0.9487 - val_loss: 0.3008 - val_accuracy: 0.9028\n",
      "Epoch 28/50\n",
      "36/36 [==============================] - 0s 4ms/step - loss: 0.2201 - accuracy: 0.9504 - val_loss: 0.2923 - val_accuracy: 0.9097\n",
      "Epoch 29/50\n",
      "36/36 [==============================] - 0s 4ms/step - loss: 0.2134 - accuracy: 0.9521 - val_loss: 0.2905 - val_accuracy: 0.9097\n",
      "Epoch 30/50\n",
      "36/36 [==============================] - 0s 5ms/step - loss: 0.2072 - accuracy: 0.9582 - val_loss: 0.2852 - val_accuracy: 0.9097\n",
      "Epoch 31/50\n",
      "36/36 [==============================] - 0s 5ms/step - loss: 0.2005 - accuracy: 0.9591 - val_loss: 0.2832 - val_accuracy: 0.9097\n",
      "Epoch 32/50\n",
      "36/36 [==============================] - 0s 4ms/step - loss: 0.1950 - accuracy: 0.9617 - val_loss: 0.2783 - val_accuracy: 0.9097\n",
      "Epoch 33/50\n",
      "36/36 [==============================] - 0s 5ms/step - loss: 0.1890 - accuracy: 0.9600 - val_loss: 0.2724 - val_accuracy: 0.9132\n",
      "Epoch 34/50\n",
      "36/36 [==============================] - 0s 4ms/step - loss: 0.1837 - accuracy: 0.9626 - val_loss: 0.2721 - val_accuracy: 0.9167\n",
      "Epoch 35/50\n",
      "36/36 [==============================] - 0s 5ms/step - loss: 0.1794 - accuracy: 0.9643 - val_loss: 0.2684 - val_accuracy: 0.9167\n",
      "Epoch 36/50\n",
      "36/36 [==============================] - 0s 5ms/step - loss: 0.1742 - accuracy: 0.9652 - val_loss: 0.2611 - val_accuracy: 0.9201\n",
      "Epoch 37/50\n",
      "36/36 [==============================] - 0s 4ms/step - loss: 0.1698 - accuracy: 0.9652 - val_loss: 0.2582 - val_accuracy: 0.9236\n",
      "Epoch 38/50\n",
      "36/36 [==============================] - 0s 4ms/step - loss: 0.1652 - accuracy: 0.9652 - val_loss: 0.2588 - val_accuracy: 0.9167\n",
      "Epoch 39/50\n",
      "36/36 [==============================] - 0s 5ms/step - loss: 0.1626 - accuracy: 0.9678 - val_loss: 0.2520 - val_accuracy: 0.9271\n",
      "Epoch 40/50\n",
      "36/36 [==============================] - 0s 4ms/step - loss: 0.1581 - accuracy: 0.9669 - val_loss: 0.2520 - val_accuracy: 0.9236\n",
      "Epoch 41/50\n",
      "36/36 [==============================] - 0s 5ms/step - loss: 0.1544 - accuracy: 0.9695 - val_loss: 0.2474 - val_accuracy: 0.9236\n",
      "Epoch 42/50\n",
      "36/36 [==============================] - 0s 5ms/step - loss: 0.1513 - accuracy: 0.9721 - val_loss: 0.2457 - val_accuracy: 0.9236\n",
      "Epoch 43/50\n",
      "36/36 [==============================] - 0s 4ms/step - loss: 0.1484 - accuracy: 0.9721 - val_loss: 0.2435 - val_accuracy: 0.9236\n",
      "Epoch 44/50\n",
      "36/36 [==============================] - 0s 5ms/step - loss: 0.1449 - accuracy: 0.9721 - val_loss: 0.2432 - val_accuracy: 0.9271\n",
      "Epoch 45/50\n",
      "36/36 [==============================] - 0s 5ms/step - loss: 0.1424 - accuracy: 0.9730 - val_loss: 0.2383 - val_accuracy: 0.9271\n",
      "Epoch 46/50\n",
      "36/36 [==============================] - 0s 4ms/step - loss: 0.1394 - accuracy: 0.9739 - val_loss: 0.2353 - val_accuracy: 0.9271\n",
      "Epoch 47/50\n",
      "36/36 [==============================] - 0s 5ms/step - loss: 0.1367 - accuracy: 0.9748 - val_loss: 0.2348 - val_accuracy: 0.9271\n",
      "Epoch 48/50\n",
      "36/36 [==============================] - 0s 5ms/step - loss: 0.1343 - accuracy: 0.9756 - val_loss: 0.2333 - val_accuracy: 0.9271\n",
      "Epoch 49/50\n",
      "36/36 [==============================] - 0s 5ms/step - loss: 0.1314 - accuracy: 0.9756 - val_loss: 0.2318 - val_accuracy: 0.9271\n",
      "Epoch 50/50\n",
      "36/36 [==============================] - 0s 4ms/step - loss: 0.1292 - accuracy: 0.9765 - val_loss: 0.2318 - val_accuracy: 0.9271\n"
     ]
    },
    {
     "data": {
      "text/plain": [
       "<keras.callbacks.History at 0x1af84ef6fd0>"
      ]
     },
     "execution_count": 30,
     "metadata": {},
     "output_type": "execute_result"
    }
   ],
   "source": [
    "model.fit(\n",
    "    X_train, # Training data\n",
    "    y_train, # Training labels\n",
    "    epochs=50, # Number of epochs\n",
    "    batch_size=32, # Number of samples per batch\n",
    "    validation_split=0.2 # Use 20% of the data for validation\n",
    ")"
   ]
  },
  {
   "cell_type": "code",
   "execution_count": 31,
   "metadata": {},
   "outputs": [
    {
     "name": "stdout",
     "output_type": "stream",
     "text": [
      "12/12 [==============================] - 0s 2ms/step - loss: 0.1648 - accuracy: 0.9556\n",
      "Loss:     0.16\n",
      "Accuracy: 95.56%\n"
     ]
    }
   ],
   "source": [
    "loss, accuracy = model.evaluate(X_test, y_test)\n",
    "\n",
    "print(f'Loss:     {loss:.2f}')\n",
    "print(f'Accuracy: {accuracy*100:.2f}%')"
   ]
  },
  {
   "cell_type": "code",
   "execution_count": 32,
   "metadata": {},
   "outputs": [
    {
     "name": "stdout",
     "output_type": "stream",
     "text": [
      "12/12 [==============================] - 0s 2ms/step\n"
     ]
    },
    {
     "data": {
      "image/png": "[encoded data removed]",
      "text/plain": [
       "<Figure size 600x600 with 9 Axes>"
      ]
     },
     "metadata": {},
     "output_type": "display_data"
    }
   ],
   "source": [
    "# Get the predictions for the test data\n",
    "predictions = model.predict(X_test)\n",
    "\n",
    "# Get the index of the largest probability (i.e. the predicted class)\n",
    "predicted_classes = np.argmax(predictions, axis=1)\n",
    "true_classes = np.argmax(y_test, axis=1)\n",
    "misclassified_indices = np.where(predicted_classes != true_classes)[0]\n",
    "\n",
    "# Get the misclassified samples themselves\n",
    "misclassified_samples = X_test[misclassified_indices]\n",
    "misclassified_labels = np.argmax(y_test[misclassified_indices], axis=1)\n",
    "\n",
    "# Pick 9 random misclassified samples\n",
    "random_indices = np.random.choice(len(misclassified_indices), 9, replace=False)\n",
    "\n",
    "fig, axes = plt.subplots(3, 3, figsize=(6, 6))\n",
    "for i, ax in enumerate(axes.flat):\n",
    "    ax.imshow(misclassified_samples[random_indices[i]].reshape(8, 8), cmap=plt.cm.gray_r, interpolation='nearest')\n",
    "    ax.set_title(f\"Pred: {predicted_classes[misclassified_indices[random_indices[i]]]}, Real: {misclassified_labels[random_indices[i]]}\")\n",
    "\n",
    "    # Removing axis labels\n",
    "    ax.set_xticks([])\n",
    "    ax.set_yticks([])\n",
    "    \n",
    "plt.show()"
   ]
  },
  {
   "cell_type": "code",
   "execution_count": null,
   "metadata": {},
   "outputs": [],
   "source": [
    "# 2. Increasing the learning rate\n",
    "\n",
    "model = Sequential()\n",
    "\n",
    "# Input layer\n",
    "model.add(Dense(64, activation='relu', input_shape=(64,))) # 64 neurons, ReLU activation, input shape of 64\n",
    "\n",
    "# Hidden layer\n",
    "model.add(Dense(64, activation='relu')) # 64 neurons, ReLU activation\n",
    "\n",
    "# Output layer\n",
    "model.add(Dense(10, activation='softmax')) # 10 neurons, softmax activation\n",
    "\n",
    "model.summary()"
   ]
  },
  {
   "cell_type": "code",
   "execution_count": 33,
   "metadata": {},
   "outputs": [
    {
     "name": "stdout",
     "output_type": "stream",
     "text": [
      "Epoch 1/50\n",
      "36/36 [==============================] - 1s 14ms/step - loss: 4.7178 - accuracy: 0.2742 - val_loss: 1.9433 - val_accuracy: 0.3056\n",
      "Epoch 2/50\n",
      "36/36 [==============================] - 0s 5ms/step - loss: 1.8072 - accuracy: 0.3438 - val_loss: 1.8424 - val_accuracy: 0.2674\n",
      "Epoch 3/50\n",
      "36/36 [==============================] - 0s 5ms/step - loss: 1.7070 - accuracy: 0.3473 - val_loss: 1.6030 - val_accuracy: 0.3750\n",
      "Epoch 4/50\n",
      "36/36 [==============================] - 0s 5ms/step - loss: 1.6235 - accuracy: 0.3673 - val_loss: 1.6793 - val_accuracy: 0.3229\n",
      "Epoch 5/50\n",
      "36/36 [==============================] - 0s 5ms/step - loss: 1.4909 - accuracy: 0.4030 - val_loss: 1.4392 - val_accuracy: 0.4444\n",
      "Epoch 6/50\n",
      "36/36 [==============================] - 0s 8ms/step - loss: 1.4536 - accuracy: 0.4308 - val_loss: 1.4346 - val_accuracy: 0.4097\n",
      "Epoch 7/50\n",
      "36/36 [==============================] - 0s 5ms/step - loss: 1.3563 - accuracy: 0.4621 - val_loss: 1.3672 - val_accuracy: 0.4653\n",
      "Epoch 8/50\n",
      "36/36 [==============================] - 0s 5ms/step - loss: 1.3627 - accuracy: 0.4708 - val_loss: 1.3546 - val_accuracy: 0.4965\n",
      "Epoch 9/50\n",
      "36/36 [==============================] - 0s 5ms/step - loss: 1.2991 - accuracy: 0.5057 - val_loss: 1.2473 - val_accuracy: 0.4722\n",
      "Epoch 10/50\n",
      "36/36 [==============================] - 0s 5ms/step - loss: 1.5780 - accuracy: 0.4299 - val_loss: 1.4347 - val_accuracy: 0.4132\n",
      "Epoch 11/50\n",
      "36/36 [==============================] - 0s 5ms/step - loss: 1.4969 - accuracy: 0.4195 - val_loss: 1.2574 - val_accuracy: 0.5208\n",
      "Epoch 12/50\n",
      "36/36 [==============================] - 0s 5ms/step - loss: 1.3470 - accuracy: 0.4665 - val_loss: 1.5013 - val_accuracy: 0.4583\n",
      "Epoch 13/50\n",
      "36/36 [==============================] - 0s 5ms/step - loss: 1.2664 - accuracy: 0.5100 - val_loss: 1.0919 - val_accuracy: 0.5938\n",
      "Epoch 14/50\n",
      "36/36 [==============================] - 0s 5ms/step - loss: 1.0381 - accuracy: 0.6101 - val_loss: 1.0493 - val_accuracy: 0.6701\n",
      "Epoch 15/50\n",
      "36/36 [==============================] - 0s 5ms/step - loss: 1.1173 - accuracy: 0.5866 - val_loss: 1.4664 - val_accuracy: 0.5347\n",
      "Epoch 16/50\n",
      "36/36 [==============================] - 0s 6ms/step - loss: 1.0501 - accuracy: 0.5918 - val_loss: 0.9189 - val_accuracy: 0.6771\n",
      "Epoch 17/50\n",
      "36/36 [==============================] - 0s 5ms/step - loss: 0.9158 - accuracy: 0.6675 - val_loss: 0.8646 - val_accuracy: 0.7292\n",
      "Epoch 18/50\n",
      "36/36 [==============================] - 0s 5ms/step - loss: 0.8610 - accuracy: 0.6858 - val_loss: 1.4821 - val_accuracy: 0.5486\n",
      "Epoch 19/50\n",
      "36/36 [==============================] - 0s 5ms/step - loss: 1.0206 - accuracy: 0.6554 - val_loss: 2.4544 - val_accuracy: 0.4549\n",
      "Epoch 20/50\n",
      "36/36 [==============================] - 0s 5ms/step - loss: 0.9655 - accuracy: 0.6710 - val_loss: 0.7935 - val_accuracy: 0.7604\n",
      "Epoch 21/50\n",
      "36/36 [==============================] - 0s 5ms/step - loss: 0.7075 - accuracy: 0.7380 - val_loss: 0.9978 - val_accuracy: 0.6215\n",
      "Epoch 22/50\n",
      "36/36 [==============================] - 0s 5ms/step - loss: 0.7033 - accuracy: 0.7363 - val_loss: 0.6926 - val_accuracy: 0.7847\n",
      "Epoch 23/50\n",
      "36/36 [==============================] - 0s 5ms/step - loss: 0.9940 - accuracy: 0.6832 - val_loss: 0.7533 - val_accuracy: 0.7674\n",
      "Epoch 24/50\n",
      "36/36 [==============================] - 0s 5ms/step - loss: 0.6758 - accuracy: 0.7546 - val_loss: 0.9702 - val_accuracy: 0.6597\n",
      "Epoch 25/50\n",
      "36/36 [==============================] - 0s 5ms/step - loss: 0.6293 - accuracy: 0.7685 - val_loss: 0.7124 - val_accuracy: 0.7396\n",
      "Epoch 26/50\n",
      "36/36 [==============================] - 0s 5ms/step - loss: 0.7781 - accuracy: 0.7476 - val_loss: 0.8726 - val_accuracy: 0.7465\n",
      "Epoch 27/50\n",
      "36/36 [==============================] - 0s 5ms/step - loss: 0.5330 - accuracy: 0.8164 - val_loss: 0.5694 - val_accuracy: 0.8125\n",
      "Epoch 28/50\n",
      "36/36 [==============================] - 0s 5ms/step - loss: 0.5924 - accuracy: 0.8111 - val_loss: 0.5646 - val_accuracy: 0.8160\n",
      "Epoch 29/50\n",
      "36/36 [==============================] - 0s 6ms/step - loss: 0.4498 - accuracy: 0.8668 - val_loss: 0.4995 - val_accuracy: 0.8403\n",
      "Epoch 30/50\n",
      "36/36 [==============================] - 0s 5ms/step - loss: 0.3983 - accuracy: 0.8677 - val_loss: 0.6591 - val_accuracy: 0.8021\n",
      "Epoch 31/50\n",
      "36/36 [==============================] - 0s 7ms/step - loss: 0.4835 - accuracy: 0.8407 - val_loss: 0.9868 - val_accuracy: 0.7292\n",
      "Epoch 32/50\n",
      "36/36 [==============================] - 0s 5ms/step - loss: 0.3470 - accuracy: 0.8964 - val_loss: 1.1068 - val_accuracy: 0.6528\n",
      "Epoch 33/50\n",
      "36/36 [==============================] - 0s 5ms/step - loss: 0.5273 - accuracy: 0.8320 - val_loss: 1.0528 - val_accuracy: 0.7431\n",
      "Epoch 34/50\n",
      "36/36 [==============================] - 0s 5ms/step - loss: 0.3936 - accuracy: 0.8764 - val_loss: 0.4021 - val_accuracy: 0.8854\n",
      "Epoch 35/50\n",
      "36/36 [==============================] - 0s 5ms/step - loss: 0.3562 - accuracy: 0.8921 - val_loss: 0.5029 - val_accuracy: 0.8576\n",
      "Epoch 36/50\n",
      "36/36 [==============================] - 0s 5ms/step - loss: 0.4069 - accuracy: 0.8581 - val_loss: 0.7815 - val_accuracy: 0.7778\n",
      "Epoch 37/50\n",
      "36/36 [==============================] - 0s 5ms/step - loss: 0.3799 - accuracy: 0.8721 - val_loss: 0.4887 - val_accuracy: 0.8681\n",
      "Epoch 38/50\n",
      "36/36 [==============================] - 0s 5ms/step - loss: 0.3620 - accuracy: 0.8790 - val_loss: 0.7807 - val_accuracy: 0.7986\n",
      "Epoch 39/50\n",
      "36/36 [==============================] - 0s 5ms/step - loss: 0.3390 - accuracy: 0.8895 - val_loss: 0.4754 - val_accuracy: 0.8646\n",
      "Epoch 40/50\n",
      "36/36 [==============================] - 0s 5ms/step - loss: 0.3380 - accuracy: 0.8877 - val_loss: 0.6431 - val_accuracy: 0.8264\n",
      "Epoch 41/50\n",
      "36/36 [==============================] - 0s 5ms/step - loss: 0.4331 - accuracy: 0.8460 - val_loss: 0.6560 - val_accuracy: 0.8160\n",
      "Epoch 42/50\n",
      "36/36 [==============================] - 0s 5ms/step - loss: 0.6837 - accuracy: 0.8050 - val_loss: 0.4387 - val_accuracy: 0.8681\n",
      "Epoch 43/50\n",
      "36/36 [==============================] - 0s 5ms/step - loss: 0.3451 - accuracy: 0.8895 - val_loss: 0.5124 - val_accuracy: 0.8438\n",
      "Epoch 44/50\n",
      "36/36 [==============================] - 0s 5ms/step - loss: 0.3045 - accuracy: 0.8947 - val_loss: 0.6080 - val_accuracy: 0.8403\n",
      "Epoch 45/50\n",
      "36/36 [==============================] - 0s 5ms/step - loss: 0.3367 - accuracy: 0.8964 - val_loss: 0.4981 - val_accuracy: 0.8438\n",
      "Epoch 46/50\n",
      "36/36 [==============================] - 0s 5ms/step - loss: 0.2726 - accuracy: 0.9147 - val_loss: 0.4296 - val_accuracy: 0.8715\n",
      "Epoch 47/50\n",
      "36/36 [==============================] - 0s 5ms/step - loss: 0.2658 - accuracy: 0.9121 - val_loss: 0.6069 - val_accuracy: 0.8472\n",
      "Epoch 48/50\n",
      "36/36 [==============================] - 0s 5ms/step - loss: 0.3792 - accuracy: 0.8869 - val_loss: 0.4305 - val_accuracy: 0.8819\n",
      "Epoch 49/50\n",
      "36/36 [==============================] - 0s 5ms/step - loss: 0.3223 - accuracy: 0.8921 - val_loss: 0.4406 - val_accuracy: 0.8715\n",
      "Epoch 50/50\n",
      "36/36 [==============================] - 0s 5ms/step - loss: 0.3864 - accuracy: 0.8851 - val_loss: 0.5016 - val_accuracy: 0.8611\n",
      "12/12 [==============================] - 0s 2ms/step - loss: 0.3953 - accuracy: 0.8917\n",
      "Loss:     0.40\n",
      "Accuracy: 89.17%\n"
     ]
    }
   ],
   "source": [
    "#now i will increase from the default learning rate of 0.01 to 0.1 (10 ratio)\n",
    "\n",
    "optimizer = SGD(learning_rate=0.1, decay=0.0001)\n",
    "\n",
    "model.compile(\n",
    "    loss='categorical_crossentropy', # Loss function\n",
    "    optimizer=optimizer, # Optimizer\n",
    "    metrics=['accuracy'] # Metrics to evaluate the model\n",
    ")\n",
    "\n",
    "model.fit(\n",
    "    X_train, # Training data\n",
    "    y_train, # Training labels\n",
    "    epochs=50, # Number of epochs\n",
    "    batch_size=32, # Number of samples per batch\n",
    "    validation_split=0.2 # Use 20% of the data for validation\n",
    ")\n",
    "\n",
    "loss, accuracy = model.evaluate(X_test, y_test)\n",
    "\n",
    "print(f'Loss:     {loss:.2f}')\n",
    "print(f'Accuracy: {accuracy*100:.2f}%')"
   ]
  },
  {
   "cell_type": "code",
   "execution_count": 34,
   "metadata": {},
   "outputs": [
    {
     "name": "stdout",
     "output_type": "stream",
     "text": [
      "12/12 [==============================] - 0s 2ms/step - loss: 0.3953 - accuracy: 0.8917\n",
      "Loss:     0.40\n",
      "Accuracy: 89.17%\n"
     ]
    }
   ],
   "source": [
    "loss, accuracy = model.evaluate(X_test, y_test)\n",
    "\n",
    "print(f'Loss:     {loss:.2f}')\n",
    "print(f'Accuracy: {accuracy*100:.2f}%')"
   ]
  },
  {
   "cell_type": "markdown",
   "metadata": {},
   "source": [
    "Increasing the learning rate was worse"
   ]
  },
  {
   "cell_type": "code",
   "execution_count": 38,
   "metadata": {},
   "outputs": [
    {
     "name": "stdout",
     "output_type": "stream",
     "text": [
      "Model: \"sequential_6\"\n",
      "_________________________________________________________________\n",
      " Layer (type)                Output Shape              Param #   \n",
      "=================================================================\n",
      " dense_18 (Dense)            (None, 64)                4160      \n",
      "                                                                 \n",
      " dense_19 (Dense)            (None, 64)                4160      \n",
      "                                                                 \n",
      " dense_20 (Dense)            (None, 10)                650       \n",
      "                                                                 \n",
      "=================================================================\n",
      "Total params: 8,970\n",
      "Trainable params: 8,970\n",
      "Non-trainable params: 0\n",
      "_________________________________________________________________\n",
      "Epoch 1/50\n",
      "36/36 [==============================] - 1s 14ms/step - loss: 1.6265 - accuracy: 0.5674 - val_loss: 0.6789 - val_accuracy: 0.7917\n",
      "Epoch 2/50\n",
      "36/36 [==============================] - 0s 5ms/step - loss: 0.4555 - accuracy: 0.8695 - val_loss: 0.4572 - val_accuracy: 0.8611\n",
      "Epoch 3/50\n",
      "36/36 [==============================] - 0s 5ms/step - loss: 0.2970 - accuracy: 0.9104 - val_loss: 0.3546 - val_accuracy: 0.8924\n",
      "Epoch 4/50\n",
      "36/36 [==============================] - 0s 8ms/step - loss: 0.2091 - accuracy: 0.9487 - val_loss: 0.3110 - val_accuracy: 0.9132\n",
      "Epoch 5/50\n",
      "36/36 [==============================] - 0s 5ms/step - loss: 0.1556 - accuracy: 0.9608 - val_loss: 0.2564 - val_accuracy: 0.9236\n",
      "Epoch 6/50\n",
      "36/36 [==============================] - 0s 5ms/step - loss: 0.1262 - accuracy: 0.9678 - val_loss: 0.2387 - val_accuracy: 0.9271\n",
      "Epoch 7/50\n",
      "36/36 [==============================] - 0s 6ms/step - loss: 0.1075 - accuracy: 0.9730 - val_loss: 0.2122 - val_accuracy: 0.9306\n",
      "Epoch 8/50\n",
      "36/36 [==============================] - 0s 5ms/step - loss: 0.0910 - accuracy: 0.9765 - val_loss: 0.1959 - val_accuracy: 0.9340\n",
      "Epoch 9/50\n",
      "36/36 [==============================] - 0s 5ms/step - loss: 0.0742 - accuracy: 0.9835 - val_loss: 0.1943 - val_accuracy: 0.9375\n",
      "Epoch 10/50\n",
      "36/36 [==============================] - 0s 5ms/step - loss: 0.0643 - accuracy: 0.9939 - val_loss: 0.1903 - val_accuracy: 0.9444\n",
      "Epoch 11/50\n",
      "36/36 [==============================] - 0s 5ms/step - loss: 0.0584 - accuracy: 0.9913 - val_loss: 0.1855 - val_accuracy: 0.9306\n",
      "Epoch 12/50\n",
      "36/36 [==============================] - 0s 5ms/step - loss: 0.0513 - accuracy: 0.9948 - val_loss: 0.1704 - val_accuracy: 0.9514\n",
      "Epoch 13/50\n",
      "36/36 [==============================] - 0s 5ms/step - loss: 0.0478 - accuracy: 0.9965 - val_loss: 0.1610 - val_accuracy: 0.9514\n",
      "Epoch 14/50\n",
      "36/36 [==============================] - 0s 5ms/step - loss: 0.0411 - accuracy: 0.9956 - val_loss: 0.1617 - val_accuracy: 0.9479\n",
      "Epoch 15/50\n",
      "36/36 [==============================] - 0s 5ms/step - loss: 0.0390 - accuracy: 0.9965 - val_loss: 0.1559 - val_accuracy: 0.9514\n",
      "Epoch 16/50\n",
      "36/36 [==============================] - 0s 5ms/step - loss: 0.0346 - accuracy: 0.9974 - val_loss: 0.1650 - val_accuracy: 0.9479\n",
      "Epoch 17/50\n",
      "36/36 [==============================] - 0s 5ms/step - loss: 0.0319 - accuracy: 0.9974 - val_loss: 0.1558 - val_accuracy: 0.9479\n",
      "Epoch 18/50\n",
      "36/36 [==============================] - 0s 5ms/step - loss: 0.0309 - accuracy: 0.9965 - val_loss: 0.1490 - val_accuracy: 0.9479\n",
      "Epoch 19/50\n",
      "36/36 [==============================] - 0s 5ms/step - loss: 0.0274 - accuracy: 0.9991 - val_loss: 0.1504 - val_accuracy: 0.9479\n",
      "Epoch 20/50\n",
      "36/36 [==============================] - 0s 5ms/step - loss: 0.0259 - accuracy: 0.9991 - val_loss: 0.1452 - val_accuracy: 0.9514\n",
      "Epoch 21/50\n",
      "36/36 [==============================] - 0s 5ms/step - loss: 0.0239 - accuracy: 0.9991 - val_loss: 0.1489 - val_accuracy: 0.9514\n",
      "Epoch 22/50\n",
      "36/36 [==============================] - 0s 5ms/step - loss: 0.0223 - accuracy: 0.9983 - val_loss: 0.1469 - val_accuracy: 0.9583\n",
      "Epoch 23/50\n",
      "36/36 [==============================] - 0s 5ms/step - loss: 0.0214 - accuracy: 1.0000 - val_loss: 0.1473 - val_accuracy: 0.9514\n",
      "Epoch 24/50\n",
      "36/36 [==============================] - 0s 6ms/step - loss: 0.0199 - accuracy: 1.0000 - val_loss: 0.1417 - val_accuracy: 0.9514\n",
      "Epoch 25/50\n",
      "36/36 [==============================] - 0s 5ms/step - loss: 0.0198 - accuracy: 0.9991 - val_loss: 0.1425 - val_accuracy: 0.9514\n",
      "Epoch 26/50\n",
      "36/36 [==============================] - 0s 5ms/step - loss: 0.0176 - accuracy: 0.9991 - val_loss: 0.1389 - val_accuracy: 0.9479\n",
      "Epoch 27/50\n",
      "36/36 [==============================] - 0s 5ms/step - loss: 0.0172 - accuracy: 0.9991 - val_loss: 0.1437 - val_accuracy: 0.9514\n",
      "Epoch 28/50\n",
      "36/36 [==============================] - 0s 5ms/step - loss: 0.0165 - accuracy: 0.9991 - val_loss: 0.1404 - val_accuracy: 0.9479\n",
      "Epoch 29/50\n",
      "36/36 [==============================] - 0s 5ms/step - loss: 0.0147 - accuracy: 1.0000 - val_loss: 0.1451 - val_accuracy: 0.9583\n",
      "Epoch 30/50\n",
      "36/36 [==============================] - 0s 5ms/step - loss: 0.0147 - accuracy: 0.9991 - val_loss: 0.1435 - val_accuracy: 0.9514\n",
      "Epoch 31/50\n",
      "36/36 [==============================] - 0s 5ms/step - loss: 0.0143 - accuracy: 1.0000 - val_loss: 0.1412 - val_accuracy: 0.9618\n",
      "Epoch 32/50\n",
      "36/36 [==============================] - 0s 5ms/step - loss: 0.0136 - accuracy: 1.0000 - val_loss: 0.1408 - val_accuracy: 0.9549\n",
      "Epoch 33/50\n",
      "36/36 [==============================] - 0s 5ms/step - loss: 0.0130 - accuracy: 1.0000 - val_loss: 0.1433 - val_accuracy: 0.9618\n",
      "Epoch 34/50\n",
      "36/36 [==============================] - 0s 5ms/step - loss: 0.0130 - accuracy: 1.0000 - val_loss: 0.1403 - val_accuracy: 0.9549\n",
      "Epoch 35/50\n",
      "36/36 [==============================] - 0s 5ms/step - loss: 0.0119 - accuracy: 1.0000 - val_loss: 0.1404 - val_accuracy: 0.9549\n",
      "Epoch 36/50\n",
      "36/36 [==============================] - 0s 6ms/step - loss: 0.0119 - accuracy: 1.0000 - val_loss: 0.1394 - val_accuracy: 0.9549\n",
      "Epoch 37/50\n",
      "36/36 [==============================] - 0s 6ms/step - loss: 0.0112 - accuracy: 1.0000 - val_loss: 0.1394 - val_accuracy: 0.9618\n",
      "Epoch 38/50\n",
      "36/36 [==============================] - 0s 5ms/step - loss: 0.0111 - accuracy: 1.0000 - val_loss: 0.1434 - val_accuracy: 0.9514\n",
      "Epoch 39/50\n",
      "36/36 [==============================] - 0s 5ms/step - loss: 0.0106 - accuracy: 1.0000 - val_loss: 0.1359 - val_accuracy: 0.9653\n",
      "Epoch 40/50\n",
      "36/36 [==============================] - 0s 5ms/step - loss: 0.0102 - accuracy: 1.0000 - val_loss: 0.1404 - val_accuracy: 0.9618\n",
      "Epoch 41/50\n",
      "36/36 [==============================] - 0s 6ms/step - loss: 0.0101 - accuracy: 1.0000 - val_loss: 0.1379 - val_accuracy: 0.9618\n",
      "Epoch 42/50\n",
      "36/36 [==============================] - 0s 5ms/step - loss: 0.0098 - accuracy: 1.0000 - val_loss: 0.1381 - val_accuracy: 0.9583\n",
      "Epoch 43/50\n",
      "36/36 [==============================] - 0s 5ms/step - loss: 0.0093 - accuracy: 1.0000 - val_loss: 0.1406 - val_accuracy: 0.9549\n",
      "Epoch 44/50\n",
      "36/36 [==============================] - 0s 5ms/step - loss: 0.0091 - accuracy: 1.0000 - val_loss: 0.1391 - val_accuracy: 0.9583\n",
      "Epoch 45/50\n",
      "36/36 [==============================] - 0s 5ms/step - loss: 0.0090 - accuracy: 1.0000 - val_loss: 0.1399 - val_accuracy: 0.9618\n",
      "Epoch 46/50\n",
      "36/36 [==============================] - 0s 5ms/step - loss: 0.0087 - accuracy: 1.0000 - val_loss: 0.1381 - val_accuracy: 0.9653\n",
      "Epoch 47/50\n",
      "36/36 [==============================] - 0s 5ms/step - loss: 0.0084 - accuracy: 1.0000 - val_loss: 0.1411 - val_accuracy: 0.9549\n",
      "Epoch 48/50\n",
      "36/36 [==============================] - 0s 5ms/step - loss: 0.0081 - accuracy: 1.0000 - val_loss: 0.1392 - val_accuracy: 0.9618\n",
      "Epoch 49/50\n",
      "36/36 [==============================] - 0s 5ms/step - loss: 0.0079 - accuracy: 1.0000 - val_loss: 0.1372 - val_accuracy: 0.9618\n",
      "Epoch 50/50\n",
      "36/36 [==============================] - 0s 5ms/step - loss: 0.0078 - accuracy: 1.0000 - val_loss: 0.1391 - val_accuracy: 0.9618\n"
     ]
    },
    {
     "data": {
      "text/plain": [
       "<keras.callbacks.History at 0x1af87e75b50>"
      ]
     },
     "execution_count": 38,
     "metadata": {},
     "output_type": "execute_result"
    }
   ],
   "source": [
    "# 3. SGD with momentum\n",
    "\n",
    "model = Sequential()\n",
    "\n",
    "# Input layer\n",
    "model.add(Dense(64, activation='relu', input_shape=(64,))) # 64 neurons, ReLU activation, input shape of 64\n",
    "\n",
    "# Hidden layer\n",
    "model.add(Dense(64, activation='relu')) # 64 neurons, ReLU activation\n",
    "\n",
    "# Output layer\n",
    "model.add(Dense(10, activation='softmax')) # 10 neurons, softmax activation\n",
    "\n",
    "model.summary()\n",
    "\n",
    "####################################################################################\n",
    "\n",
    "optimizer = SGD(learning_rate=0.01, decay=0.0001, momentum=0.1) # Adding momentum from default 0.0 to 0.1\n",
    "model.compile(\n",
    "    loss='categorical_crossentropy', # Loss function\n",
    "    optimizer=optimizer, # Optimizer\n",
    "    metrics=['accuracy'] # Metrics to evaluate the model\n",
    ")\n",
    "\n",
    "model.fit(\n",
    "    X_train, # Training data\n",
    "    y_train, # Training labels\n",
    "    epochs=50, # Number of epochs\n",
    "    batch_size=32, # Number of samples per batch\n",
    "    validation_split=0.2 # Use 20% of the data for validation\n",
    ")\n",
    "\n"
   ]
  },
  {
   "cell_type": "markdown",
   "metadata": {},
   "source": [
    "Next, let's try a more advanced optimizer. Adam is likely the most popular optimizer for deep learning. It is an adaptive learning rate optimizer, which means that it automatically adjusts the learning rate based on how the training is going. This can be very useful, as it means that we don't need to manually tune the learning rate. Let's see how it performs on our model.\n",
    "\n",
    "\n",
    "1. Replace the SGD optimizer by the Adam optimizer from keras and run it\n",
    "  with the default parameters.\n",
    "\n",
    "2. Add another hidden layer with ReLU activation and 64 neurons. Does it improve the model performance?\n"
   ]
  },
  {
   "cell_type": "code",
   "execution_count": 39,
   "metadata": {},
   "outputs": [
    {
     "name": "stdout",
     "output_type": "stream",
     "text": [
      "12/12 [==============================] - 0s 3ms/step - loss: 0.0757 - accuracy: 0.9750\n",
      "Loss:     0.08\n",
      "Accuracy: 97.50%\n"
     ]
    }
   ],
   "source": [
    "loss, accuracy = model.evaluate(X_test, y_test)\n",
    "\n",
    "print(f'Loss:     {loss:.2f}')\n",
    "print(f'Accuracy: {accuracy*100:.2f}%')"
   ]
  },
  {
   "attachments": {
    "image.png": {
     "image/png": "[encoded data removed]"
    }
   },
   "cell_type": "markdown",
   "metadata": {},
   "source": [
    "It improve a lot! as one paper refer:\n",
    "\n",
    "https://distill.pub/2017/momentum/\n",
    "\n",
    "![image.png](attachment:image.png)"
   ]
  },
  {
   "cell_type": "code",
   "execution_count": 40,
   "metadata": {},
   "outputs": [],
   "source": [
    "# Adam optimizer\n",
    "from tensorflow.keras.optimizers import Adam"
   ]
  },
  {
   "cell_type": "code",
   "execution_count": 41,
   "metadata": {},
   "outputs": [
    {
     "name": "stdout",
     "output_type": "stream",
     "text": [
      "Model: \"sequential_7\"\n",
      "_________________________________________________________________\n",
      " Layer (type)                Output Shape              Param #   \n",
      "=================================================================\n",
      " dense_21 (Dense)            (None, 64)                4160      \n",
      "                                                                 \n",
      " dense_22 (Dense)            (None, 64)                4160      \n",
      "                                                                 \n",
      " dense_23 (Dense)            (None, 10)                650       \n",
      "                                                                 \n",
      "=================================================================\n",
      "Total params: 8,970\n",
      "Trainable params: 8,970\n",
      "Non-trainable params: 0\n",
      "_________________________________________________________________\n"
     ]
    }
   ],
   "source": [
    "model = Sequential()\n",
    "\n",
    "# Input layer\n",
    "model.add(Dense(64, activation='relu', input_shape=(64,))) # 64 neurons, ReLU activation, input shape of 64\n",
    "\n",
    "# Hidden layer\n",
    "model.add(Dense(64, activation='relu')) # 64 neurons, ReLU activation\n",
    "\n",
    "# Output layer\n",
    "model.add(Dense(10, activation='softmax')) # 10 neurons, softmax activation\n",
    "\n",
    "model.summary()"
   ]
  },
  {
   "cell_type": "code",
   "execution_count": 43,
   "metadata": {},
   "outputs": [
    {
     "name": "stdout",
     "output_type": "stream",
     "text": [
      "Epoch 1/50\n",
      "36/36 [==============================] - 1s 14ms/step - loss: 0.1874 - accuracy: 0.9391 - val_loss: 0.3033 - val_accuracy: 0.9132\n",
      "Epoch 2/50\n",
      "36/36 [==============================] - 0s 5ms/step - loss: 0.1076 - accuracy: 0.9626 - val_loss: 0.3341 - val_accuracy: 0.9236\n",
      "Epoch 3/50\n",
      "36/36 [==============================] - 0s 5ms/step - loss: 0.1219 - accuracy: 0.9661 - val_loss: 0.3008 - val_accuracy: 0.9201\n",
      "Epoch 4/50\n",
      "36/36 [==============================] - 0s 5ms/step - loss: 0.1065 - accuracy: 0.9600 - val_loss: 0.3315 - val_accuracy: 0.9375\n",
      "Epoch 5/50\n",
      "36/36 [==============================] - 0s 5ms/step - loss: 0.1216 - accuracy: 0.9652 - val_loss: 0.4077 - val_accuracy: 0.9201\n",
      "Epoch 6/50\n",
      "36/36 [==============================] - 0s 8ms/step - loss: 0.2411 - accuracy: 0.9304 - val_loss: 0.2617 - val_accuracy: 0.9271\n",
      "Epoch 7/50\n",
      "36/36 [==============================] - 0s 5ms/step - loss: 0.1012 - accuracy: 0.9721 - val_loss: 0.2036 - val_accuracy: 0.9444\n",
      "Epoch 8/50\n",
      "36/36 [==============================] - 0s 5ms/step - loss: 0.0864 - accuracy: 0.9721 - val_loss: 0.2569 - val_accuracy: 0.9514\n",
      "Epoch 9/50\n",
      "36/36 [==============================] - 0s 6ms/step - loss: 0.0604 - accuracy: 0.9809 - val_loss: 0.3149 - val_accuracy: 0.9444\n",
      "Epoch 10/50\n",
      "36/36 [==============================] - 0s 6ms/step - loss: 0.0672 - accuracy: 0.9809 - val_loss: 0.2431 - val_accuracy: 0.9514\n",
      "Epoch 11/50\n",
      "36/36 [==============================] - 0s 5ms/step - loss: 0.0285 - accuracy: 0.9904 - val_loss: 0.2993 - val_accuracy: 0.9340\n",
      "Epoch 12/50\n",
      "36/36 [==============================] - 0s 5ms/step - loss: 0.0234 - accuracy: 0.9939 - val_loss: 0.3181 - val_accuracy: 0.9583\n",
      "Epoch 13/50\n",
      "36/36 [==============================] - 0s 6ms/step - loss: 0.0190 - accuracy: 0.9939 - val_loss: 0.1941 - val_accuracy: 0.9410\n",
      "Epoch 14/50\n",
      "36/36 [==============================] - 0s 5ms/step - loss: 0.0061 - accuracy: 0.9983 - val_loss: 0.1614 - val_accuracy: 0.9618\n",
      "Epoch 15/50\n",
      "36/36 [==============================] - 0s 5ms/step - loss: 0.0036 - accuracy: 1.0000 - val_loss: 0.1855 - val_accuracy: 0.9514\n",
      "Epoch 16/50\n",
      "36/36 [==============================] - 0s 5ms/step - loss: 0.0011 - accuracy: 1.0000 - val_loss: 0.1812 - val_accuracy: 0.9618\n",
      "Epoch 17/50\n",
      "36/36 [==============================] - 0s 5ms/step - loss: 6.5318e-04 - accuracy: 1.0000 - val_loss: 0.1667 - val_accuracy: 0.9618\n",
      "Epoch 18/50\n",
      "36/36 [==============================] - 0s 6ms/step - loss: 3.2286e-04 - accuracy: 1.0000 - val_loss: 0.1696 - val_accuracy: 0.9618\n",
      "Epoch 19/50\n",
      "36/36 [==============================] - 0s 5ms/step - loss: 2.5891e-04 - accuracy: 1.0000 - val_loss: 0.1702 - val_accuracy: 0.9618\n",
      "Epoch 20/50\n",
      "36/36 [==============================] - 0s 5ms/step - loss: 2.2219e-04 - accuracy: 1.0000 - val_loss: 0.1698 - val_accuracy: 0.9618\n",
      "Epoch 21/50\n",
      "36/36 [==============================] - 0s 5ms/step - loss: 2.0076e-04 - accuracy: 1.0000 - val_loss: 0.1714 - val_accuracy: 0.9618\n",
      "Epoch 22/50\n",
      "36/36 [==============================] - 0s 5ms/step - loss: 1.8045e-04 - accuracy: 1.0000 - val_loss: 0.1715 - val_accuracy: 0.9618\n",
      "Epoch 23/50\n",
      "36/36 [==============================] - 0s 5ms/step - loss: 1.6606e-04 - accuracy: 1.0000 - val_loss: 0.1717 - val_accuracy: 0.9618\n",
      "Epoch 24/50\n",
      "36/36 [==============================] - 0s 5ms/step - loss: 1.5113e-04 - accuracy: 1.0000 - val_loss: 0.1709 - val_accuracy: 0.9653\n",
      "Epoch 25/50\n",
      "36/36 [==============================] - 0s 5ms/step - loss: 1.3835e-04 - accuracy: 1.0000 - val_loss: 0.1720 - val_accuracy: 0.9653\n",
      "Epoch 26/50\n",
      "36/36 [==============================] - 0s 5ms/step - loss: 1.3000e-04 - accuracy: 1.0000 - val_loss: 0.1720 - val_accuracy: 0.9653\n",
      "Epoch 27/50\n",
      "36/36 [==============================] - 0s 5ms/step - loss: 1.1978e-04 - accuracy: 1.0000 - val_loss: 0.1717 - val_accuracy: 0.9653\n",
      "Epoch 28/50\n",
      "36/36 [==============================] - 0s 5ms/step - loss: 1.1089e-04 - accuracy: 1.0000 - val_loss: 0.1727 - val_accuracy: 0.9653\n",
      "Epoch 29/50\n",
      "36/36 [==============================] - 0s 5ms/step - loss: 1.0379e-04 - accuracy: 1.0000 - val_loss: 0.1727 - val_accuracy: 0.9653\n",
      "Epoch 30/50\n",
      "36/36 [==============================] - 0s 5ms/step - loss: 9.7235e-05 - accuracy: 1.0000 - val_loss: 0.1729 - val_accuracy: 0.9653\n",
      "Epoch 31/50\n",
      "36/36 [==============================] - 0s 5ms/step - loss: 9.1754e-05 - accuracy: 1.0000 - val_loss: 0.1734 - val_accuracy: 0.9653\n",
      "Epoch 32/50\n",
      "36/36 [==============================] - 0s 5ms/step - loss: 8.6456e-05 - accuracy: 1.0000 - val_loss: 0.1733 - val_accuracy: 0.9653\n",
      "Epoch 33/50\n",
      "36/36 [==============================] - 0s 5ms/step - loss: 8.2613e-05 - accuracy: 1.0000 - val_loss: 0.1738 - val_accuracy: 0.9618\n",
      "Epoch 34/50\n",
      "36/36 [==============================] - 0s 5ms/step - loss: 7.7791e-05 - accuracy: 1.0000 - val_loss: 0.1742 - val_accuracy: 0.9618\n",
      "Epoch 35/50\n",
      "36/36 [==============================] - 0s 5ms/step - loss: 7.4075e-05 - accuracy: 1.0000 - val_loss: 0.1742 - val_accuracy: 0.9618\n",
      "Epoch 36/50\n",
      "36/36 [==============================] - 0s 5ms/step - loss: 6.9631e-05 - accuracy: 1.0000 - val_loss: 0.1747 - val_accuracy: 0.9618\n",
      "Epoch 37/50\n",
      "36/36 [==============================] - 0s 6ms/step - loss: 6.6577e-05 - accuracy: 1.0000 - val_loss: 0.1748 - val_accuracy: 0.9618\n",
      "Epoch 38/50\n",
      "36/36 [==============================] - 0s 6ms/step - loss: 6.3123e-05 - accuracy: 1.0000 - val_loss: 0.1744 - val_accuracy: 0.9618\n",
      "Epoch 39/50\n",
      "36/36 [==============================] - 0s 8ms/step - loss: 6.0644e-05 - accuracy: 1.0000 - val_loss: 0.1755 - val_accuracy: 0.9618\n",
      "Epoch 40/50\n",
      "36/36 [==============================] - 0s 5ms/step - loss: 5.7206e-05 - accuracy: 1.0000 - val_loss: 0.1753 - val_accuracy: 0.9618\n",
      "Epoch 41/50\n",
      "36/36 [==============================] - 0s 5ms/step - loss: 5.5238e-05 - accuracy: 1.0000 - val_loss: 0.1763 - val_accuracy: 0.9618\n",
      "Epoch 42/50\n",
      "36/36 [==============================] - 0s 5ms/step - loss: 5.2422e-05 - accuracy: 1.0000 - val_loss: 0.1762 - val_accuracy: 0.9618\n",
      "Epoch 43/50\n",
      "36/36 [==============================] - 0s 5ms/step - loss: 5.0178e-05 - accuracy: 1.0000 - val_loss: 0.1760 - val_accuracy: 0.9618\n",
      "Epoch 44/50\n",
      "36/36 [==============================] - 0s 7ms/step - loss: 4.8156e-05 - accuracy: 1.0000 - val_loss: 0.1764 - val_accuracy: 0.9618\n",
      "Epoch 45/50\n",
      "36/36 [==============================] - 0s 5ms/step - loss: 4.6129e-05 - accuracy: 1.0000 - val_loss: 0.1766 - val_accuracy: 0.9618\n",
      "Epoch 46/50\n",
      "36/36 [==============================] - 0s 5ms/step - loss: 4.4364e-05 - accuracy: 1.0000 - val_loss: 0.1772 - val_accuracy: 0.9618\n",
      "Epoch 47/50\n",
      "36/36 [==============================] - 0s 5ms/step - loss: 4.2501e-05 - accuracy: 1.0000 - val_loss: 0.1778 - val_accuracy: 0.9618\n",
      "Epoch 48/50\n",
      "36/36 [==============================] - 0s 5ms/step - loss: 4.1073e-05 - accuracy: 1.0000 - val_loss: 0.1780 - val_accuracy: 0.9618\n",
      "Epoch 49/50\n",
      "36/36 [==============================] - 0s 5ms/step - loss: 3.9594e-05 - accuracy: 1.0000 - val_loss: 0.1778 - val_accuracy: 0.9618\n",
      "Epoch 50/50\n",
      "36/36 [==============================] - 0s 5ms/step - loss: 3.8135e-05 - accuracy: 1.0000 - val_loss: 0.1780 - val_accuracy: 0.9618\n"
     ]
    },
    {
     "data": {
      "text/plain": [
       "<keras.callbacks.History at 0x1af896769a0>"
      ]
     },
     "execution_count": 43,
     "metadata": {},
     "output_type": "execute_result"
    }
   ],
   "source": [
    "optimizer = Adam(learning_rate=0.01, decay=0.0001)\n",
    "model.compile(\n",
    "    loss='categorical_crossentropy', # Loss function\n",
    "    optimizer= optimizer, # Optimizer\n",
    "    metrics=['accuracy'] # Metrics to evaluate the model\n",
    ")\n",
    "\n",
    "model.fit(\n",
    "    X_train, # Training data\n",
    "    y_train, # Training labels\n",
    "    epochs=50, # Number of epochs\n",
    "    batch_size=32, # Number of samples per batch\n",
    "    validation_split=0.2 # Use 20% of the data for validation\n",
    ")\n"
   ]
  },
  {
   "cell_type": "code",
   "execution_count": 44,
   "metadata": {},
   "outputs": [
    {
     "name": "stdout",
     "output_type": "stream",
     "text": [
      "12/12 [==============================] - 0s 3ms/step - loss: 0.1224 - accuracy: 0.9722\n",
      "Loss:     0.12\n",
      "Accuracy: 97.22%\n"
     ]
    }
   ],
   "source": [
    "loss, accuracy = model.evaluate(X_test, y_test)\n",
    "\n",
    "print(f'Loss:     {loss:.2f}')\n",
    "print(f'Accuracy: {accuracy*100:.2f}%')"
   ]
  },
  {
   "cell_type": "markdown",
   "metadata": {},
   "source": [
    "Adam optimizer also improve alot the accuracy"
   ]
  },
  {
   "cell_type": "code",
   "execution_count": 45,
   "metadata": {},
   "outputs": [
    {
     "name": "stdout",
     "output_type": "stream",
     "text": [
      "Model: \"sequential_8\"\n",
      "_________________________________________________________________\n",
      " Layer (type)                Output Shape              Param #   \n",
      "=================================================================\n",
      " dense_24 (Dense)            (None, 64)                4160      \n",
      "                                                                 \n",
      " dense_25 (Dense)            (None, 64)                4160      \n",
      "                                                                 \n",
      " dense_26 (Dense)            (None, 64)                4160      \n",
      "                                                                 \n",
      " dense_27 (Dense)            (None, 10)                650       \n",
      "                                                                 \n",
      "=================================================================\n",
      "Total params: 13,130\n",
      "Trainable params: 13,130\n",
      "Non-trainable params: 0\n",
      "_________________________________________________________________\n"
     ]
    }
   ],
   "source": [
    "# 2. Add another hidden layer with ReLU activation and 64 neurons. Does it improve the model performance?\n",
    "\n",
    "model = Sequential()\n",
    "\n",
    "# Input layer\n",
    "model.add(Dense(64, activation='relu', input_shape=(64,))) # 64 neurons, ReLU activation, input shape of 64\n",
    "\n",
    "# Hidden layer\n",
    "model.add(Dense(64, activation='relu')) # 64 neurons, ReLU activation\n",
    "\n",
    "# Extra Hidden layer\n",
    "model.add(Dense(64, activation='relu')) # 64 neurons, ReLU activation\n",
    "\n",
    "# Output layer\n",
    "model.add(Dense(10, activation='softmax')) # 10 neurons, softmax activation\n",
    "\n",
    "model.summary()"
   ]
  },
  {
   "cell_type": "code",
   "execution_count": 46,
   "metadata": {},
   "outputs": [
    {
     "name": "stdout",
     "output_type": "stream",
     "text": [
      "Epoch 1/50\n",
      "36/36 [==============================] - 1s 13ms/step - loss: 1.5280 - accuracy: 0.5692 - val_loss: 0.7718 - val_accuracy: 0.7917\n",
      "Epoch 2/50\n",
      "36/36 [==============================] - 0s 5ms/step - loss: 0.5711 - accuracy: 0.8329 - val_loss: 0.5679 - val_accuracy: 0.8264\n",
      "Epoch 3/50\n",
      "36/36 [==============================] - 0s 5ms/step - loss: 0.3804 - accuracy: 0.8851 - val_loss: 0.4169 - val_accuracy: 0.8646\n",
      "Epoch 4/50\n",
      "36/36 [==============================] - 0s 6ms/step - loss: 0.2670 - accuracy: 0.9260 - val_loss: 0.3684 - val_accuracy: 0.8785\n",
      "Epoch 5/50\n",
      "36/36 [==============================] - 0s 6ms/step - loss: 0.2145 - accuracy: 0.9443 - val_loss: 0.3117 - val_accuracy: 0.9201\n",
      "Epoch 6/50\n",
      "36/36 [==============================] - 0s 6ms/step - loss: 0.1714 - accuracy: 0.9530 - val_loss: 0.2850 - val_accuracy: 0.9167\n",
      "Epoch 7/50\n",
      "36/36 [==============================] - 0s 6ms/step - loss: 0.1401 - accuracy: 0.9669 - val_loss: 0.2522 - val_accuracy: 0.9062\n",
      "Epoch 8/50\n",
      "36/36 [==============================] - 0s 6ms/step - loss: 0.1211 - accuracy: 0.9687 - val_loss: 0.2624 - val_accuracy: 0.9167\n",
      "Epoch 9/50\n",
      "36/36 [==============================] - 0s 5ms/step - loss: 0.1033 - accuracy: 0.9704 - val_loss: 0.2198 - val_accuracy: 0.9236\n",
      "Epoch 10/50\n",
      "36/36 [==============================] - 0s 6ms/step - loss: 0.0936 - accuracy: 0.9774 - val_loss: 0.2482 - val_accuracy: 0.9132\n",
      "Epoch 11/50\n",
      "36/36 [==============================] - 0s 6ms/step - loss: 0.0790 - accuracy: 0.9852 - val_loss: 0.2011 - val_accuracy: 0.9271\n",
      "Epoch 12/50\n",
      "36/36 [==============================] - 0s 6ms/step - loss: 0.0714 - accuracy: 0.9861 - val_loss: 0.1913 - val_accuracy: 0.9306\n",
      "Epoch 13/50\n",
      "36/36 [==============================] - 0s 6ms/step - loss: 0.0614 - accuracy: 0.9904 - val_loss: 0.1916 - val_accuracy: 0.9340\n",
      "Epoch 14/50\n",
      "36/36 [==============================] - 0s 6ms/step - loss: 0.0591 - accuracy: 0.9922 - val_loss: 0.1796 - val_accuracy: 0.9340\n",
      "Epoch 15/50\n",
      "36/36 [==============================] - 0s 6ms/step - loss: 0.0526 - accuracy: 0.9913 - val_loss: 0.1933 - val_accuracy: 0.9340\n",
      "Epoch 16/50\n",
      "36/36 [==============================] - 0s 6ms/step - loss: 0.0462 - accuracy: 0.9948 - val_loss: 0.1747 - val_accuracy: 0.9306\n",
      "Epoch 17/50\n",
      "36/36 [==============================] - 0s 5ms/step - loss: 0.0420 - accuracy: 0.9974 - val_loss: 0.1733 - val_accuracy: 0.9375\n",
      "Epoch 18/50\n",
      "36/36 [==============================] - 0s 5ms/step - loss: 0.0398 - accuracy: 0.9948 - val_loss: 0.1656 - val_accuracy: 0.9340\n",
      "Epoch 19/50\n",
      "36/36 [==============================] - 0s 5ms/step - loss: 0.0357 - accuracy: 0.9965 - val_loss: 0.1647 - val_accuracy: 0.9444\n",
      "Epoch 20/50\n",
      "36/36 [==============================] - 0s 5ms/step - loss: 0.0335 - accuracy: 0.9956 - val_loss: 0.1569 - val_accuracy: 0.9444\n",
      "Epoch 21/50\n",
      "36/36 [==============================] - 0s 5ms/step - loss: 0.0323 - accuracy: 0.9974 - val_loss: 0.1636 - val_accuracy: 0.9479\n",
      "Epoch 22/50\n",
      "36/36 [==============================] - 0s 5ms/step - loss: 0.0289 - accuracy: 0.9983 - val_loss: 0.1561 - val_accuracy: 0.9479\n",
      "Epoch 23/50\n",
      "36/36 [==============================] - 0s 6ms/step - loss: 0.0263 - accuracy: 0.9991 - val_loss: 0.1553 - val_accuracy: 0.9444\n",
      "Epoch 24/50\n",
      "36/36 [==============================] - 0s 5ms/step - loss: 0.0244 - accuracy: 0.9991 - val_loss: 0.1551 - val_accuracy: 0.9444\n",
      "Epoch 25/50\n",
      "36/36 [==============================] - 0s 5ms/step - loss: 0.0228 - accuracy: 0.9991 - val_loss: 0.1524 - val_accuracy: 0.9479\n",
      "Epoch 26/50\n",
      "36/36 [==============================] - 0s 6ms/step - loss: 0.0216 - accuracy: 0.9991 - val_loss: 0.1505 - val_accuracy: 0.9479\n",
      "Epoch 27/50\n",
      "36/36 [==============================] - 0s 6ms/step - loss: 0.0207 - accuracy: 0.9983 - val_loss: 0.1474 - val_accuracy: 0.9549\n",
      "Epoch 28/50\n",
      "36/36 [==============================] - 0s 6ms/step - loss: 0.0195 - accuracy: 0.9991 - val_loss: 0.1497 - val_accuracy: 0.9444\n",
      "Epoch 29/50\n",
      "36/36 [==============================] - 0s 6ms/step - loss: 0.0191 - accuracy: 0.9983 - val_loss: 0.1471 - val_accuracy: 0.9549\n",
      "Epoch 30/50\n",
      "36/36 [==============================] - 0s 5ms/step - loss: 0.0169 - accuracy: 0.9991 - val_loss: 0.1473 - val_accuracy: 0.9514\n",
      "Epoch 31/50\n",
      "36/36 [==============================] - 0s 7ms/step - loss: 0.0163 - accuracy: 0.9991 - val_loss: 0.1475 - val_accuracy: 0.9479\n",
      "Epoch 32/50\n",
      "36/36 [==============================] - 0s 6ms/step - loss: 0.0152 - accuracy: 0.9991 - val_loss: 0.1476 - val_accuracy: 0.9479\n",
      "Epoch 33/50\n",
      "36/36 [==============================] - 0s 5ms/step - loss: 0.0151 - accuracy: 0.9991 - val_loss: 0.1452 - val_accuracy: 0.9514\n",
      "Epoch 34/50\n",
      "36/36 [==============================] - 0s 7ms/step - loss: 0.0143 - accuracy: 0.9991 - val_loss: 0.1486 - val_accuracy: 0.9479\n",
      "Epoch 35/50\n",
      "36/36 [==============================] - 0s 6ms/step - loss: 0.0137 - accuracy: 0.9991 - val_loss: 0.1445 - val_accuracy: 0.9514\n",
      "Epoch 36/50\n",
      "36/36 [==============================] - 0s 6ms/step - loss: 0.0142 - accuracy: 0.9991 - val_loss: 0.1457 - val_accuracy: 0.9479\n",
      "Epoch 37/50\n",
      "36/36 [==============================] - 0s 5ms/step - loss: 0.0121 - accuracy: 0.9991 - val_loss: 0.1402 - val_accuracy: 0.9514\n",
      "Epoch 38/50\n",
      "36/36 [==============================] - 0s 7ms/step - loss: 0.0115 - accuracy: 0.9991 - val_loss: 0.1398 - val_accuracy: 0.9479\n",
      "Epoch 39/50\n",
      "36/36 [==============================] - 0s 8ms/step - loss: 0.0106 - accuracy: 1.0000 - val_loss: 0.1434 - val_accuracy: 0.9514\n",
      "Epoch 40/50\n",
      "36/36 [==============================] - 0s 6ms/step - loss: 0.0107 - accuracy: 0.9991 - val_loss: 0.1432 - val_accuracy: 0.9514\n",
      "Epoch 41/50\n",
      "36/36 [==============================] - 0s 5ms/step - loss: 0.0102 - accuracy: 1.0000 - val_loss: 0.1425 - val_accuracy: 0.9549\n",
      "Epoch 42/50\n",
      "36/36 [==============================] - 0s 6ms/step - loss: 0.0101 - accuracy: 0.9991 - val_loss: 0.1416 - val_accuracy: 0.9514\n",
      "Epoch 43/50\n",
      "36/36 [==============================] - 0s 5ms/step - loss: 0.0092 - accuracy: 1.0000 - val_loss: 0.1401 - val_accuracy: 0.9549\n",
      "Epoch 44/50\n",
      "36/36 [==============================] - 0s 6ms/step - loss: 0.0092 - accuracy: 1.0000 - val_loss: 0.1398 - val_accuracy: 0.9514\n",
      "Epoch 45/50\n",
      "36/36 [==============================] - 0s 5ms/step - loss: 0.0087 - accuracy: 1.0000 - val_loss: 0.1422 - val_accuracy: 0.9479\n",
      "Epoch 46/50\n",
      "36/36 [==============================] - 0s 7ms/step - loss: 0.0084 - accuracy: 1.0000 - val_loss: 0.1399 - val_accuracy: 0.9514\n",
      "Epoch 47/50\n",
      "36/36 [==============================] - 0s 5ms/step - loss: 0.0081 - accuracy: 1.0000 - val_loss: 0.1412 - val_accuracy: 0.9514\n",
      "Epoch 48/50\n",
      "36/36 [==============================] - 0s 5ms/step - loss: 0.0082 - accuracy: 1.0000 - val_loss: 0.1426 - val_accuracy: 0.9514\n",
      "Epoch 49/50\n",
      "36/36 [==============================] - 0s 6ms/step - loss: 0.0077 - accuracy: 1.0000 - val_loss: 0.1390 - val_accuracy: 0.9514\n",
      "Epoch 50/50\n",
      "36/36 [==============================] - 0s 5ms/step - loss: 0.0071 - accuracy: 1.0000 - val_loss: 0.1416 - val_accuracy: 0.9514\n"
     ]
    },
    {
     "data": {
      "text/plain": [
       "<keras.callbacks.History at 0x1af87e2cd60>"
      ]
     },
     "execution_count": 46,
     "metadata": {},
     "output_type": "execute_result"
    }
   ],
   "source": [
    "model.compile(\n",
    "    loss='categorical_crossentropy', # Loss function\n",
    "    optimizer='sgd', # Optimizer\n",
    "    metrics=['accuracy'] # Metrics to evaluate the model\n",
    ")\n",
    "\n",
    "\n",
    "model.fit(\n",
    "    X_train, # Training data\n",
    "    y_train, # Training labels\n",
    "    epochs=50, # Number of epochs\n",
    "    batch_size=32, # Number of samples per batch\n",
    "    validation_split=0.2 # Use 20% of the data for validation\n",
    ")\n"
   ]
  },
  {
   "cell_type": "code",
   "execution_count": 47,
   "metadata": {},
   "outputs": [
    {
     "name": "stdout",
     "output_type": "stream",
     "text": [
      "12/12 [==============================] - 0s 3ms/step - loss: 0.1534 - accuracy: 0.9528\n",
      "Loss:     0.15\n",
      "Accuracy: 95.28%\n"
     ]
    }
   ],
   "source": [
    "loss, accuracy = model.evaluate(X_test, y_test)\n",
    "\n",
    "print(f'Loss:     {loss:.2f}')\n",
    "print(f'Accuracy: {accuracy*100:.2f}%')"
   ]
  },
  {
   "cell_type": "markdown",
   "metadata": {},
   "source": [
    "One additional layer improve a good level but no so much for this additional complexity to the model and the cost for those calculations in comparison with the previous improvements"
   ]
  },
  {
   "cell_type": "markdown",
   "metadata": {},
   "source": [
    "### Exercises: Forward Pass and Generalization\n",
    "\n",
    "Let's look in more detail at how the model makes predictions on the test set. We will walk through each step of making predictions, examining exactly what's going on.\n",
    "\n",
    "To start, we will apply our model to the test set, and look at what we get as output:"
   ]
  },
  {
   "cell_type": "code",
   "execution_count": 48,
   "metadata": {},
   "outputs": [
    {
     "data": {
      "text/plain": [
       "<tf.Tensor: shape=(5, 10), dtype=float32, numpy=\n",
       "array([[2.2672484e-05, 2.7705107e-06, 2.0646208e-07, 2.1113035e-05,\n",
       "        3.5937301e-05, 4.0513544e-07, 9.9852413e-01, 2.6306436e-05,\n",
       "        1.2703802e-03, 9.6034717e-05],\n",
       "       [3.0879561e-05, 2.5657563e-09, 1.4913040e-07, 5.8288301e-06,\n",
       "        7.3701862e-08, 1.8366958e-03, 2.8808917e-09, 1.0737700e-07,\n",
       "        3.1885710e-07, 9.9812585e-01],\n",
       "       [6.1795979e-10, 1.3202586e-08, 3.6959586e-06, 9.9997681e-01,\n",
       "        1.1733886e-09, 8.4994447e-08, 4.9023095e-07, 3.0577712e-07,\n",
       "        1.3095498e-06, 1.7224011e-05],\n",
       "       [1.4130909e-03, 5.5052687e-06, 2.3412010e-06, 8.9433808e-05,\n",
       "        2.7991945e-03, 2.1853572e-04, 2.9076718e-05, 9.9205053e-01,\n",
       "        7.5501193e-06, 3.3847603e-03],\n",
       "       [5.1200419e-07, 2.6986218e-08, 9.9531591e-01, 4.2778798e-03,\n",
       "        3.2010044e-07, 5.2048534e-09, 2.7248552e-06, 1.3465478e-06,\n",
       "        1.3329941e-04, 2.6803219e-04]], dtype=float32)>"
      ]
     },
     "execution_count": 48,
     "metadata": {},
     "output_type": "execute_result"
    }
   ],
   "source": [
    "predictions_tf = model(X_test)\n",
    "predictions_tf[:5]"
   ]
  },
  {
   "cell_type": "code",
   "execution_count": 49,
   "metadata": {},
   "outputs": [
    {
     "data": {
      "text/plain": [
       "(tensorflow.python.framework.ops.EagerTensor, TensorShape([360, 10]))"
      ]
     },
     "execution_count": 49,
     "metadata": {},
     "output_type": "execute_result"
    }
   ],
   "source": [
    "type(predictions_tf), predictions_tf.shape"
   ]
  },
  {
   "cell_type": "markdown",
   "metadata": {},
   "source": [
    "The raw output of the model is a tensor of shape `(360, 10)`. This means that we have 360 samples, and for each sample we have 10 values. Each of these values represents the probability that the sample belongs to a given class. This means that we have 10 probabilities for each sample, and the sum of these probabilities is 1. We can confirm this by summing the probabilities for each sample:"
   ]
  },
  {
   "cell_type": "code",
   "execution_count": 50,
   "metadata": {},
   "outputs": [
    {
     "data": {
      "text/plain": [
       "<tf.Tensor: shape=(5,), dtype=float32, numpy=\n",
       "array([0.99999994, 0.9999999 , 0.99999994, 1.        , 1.0000001 ],\n",
       "      dtype=float32)>"
      ]
     },
     "execution_count": 50,
     "metadata": {},
     "output_type": "execute_result"
    }
   ],
   "source": [
    "import tensorflow as tf\n",
    "\n",
    "tf.reduce_sum(predictions_tf, axis=1)[:5]"
   ]
  },
  {
   "cell_type": "markdown",
   "metadata": {
    "collapsed": false
   },
   "source": [
    "...okay, there might be a small rounding error here and there. This is to do with how floating point numbers are represented in computers, and it's not something we need to worry about for now."
   ]
  },
  {
   "cell_type": "markdown",
   "metadata": {},
   "source": [
    "We can also extract the label with the highest probability using the tensorflow API:"
   ]
  },
  {
   "cell_type": "code",
   "execution_count": 51,
   "metadata": {},
   "outputs": [
    {
     "data": {
      "text/plain": [
       "<tf.Tensor: shape=(5,), dtype=int64, numpy=array([6, 9, 3, 7, 2], dtype=int64)>"
      ]
     },
     "execution_count": 51,
     "metadata": {},
     "output_type": "execute_result"
    }
   ],
   "source": [
    "predicted_labels_tf = tf.argmax(predictions_tf, axis=1)\n",
    "predicted_labels_tf[:5]"
   ]
  },
  {
   "cell_type": "markdown",
   "metadata": {
    "collapsed": false
   },
   "source": [
    "One helpful aspect of this approach is that we don't just get the prediction, but also a sense of how confident the model is in its prediction. To see this in practice, let's take a look at some of the predictions the model is highly confident about (i.e. a lot of the probability mass is on one class):"
   ]
  },
  {
   "cell_type": "code",
   "execution_count": 52,
   "metadata": {
    "collapsed": false
   },
   "outputs": [
    {
     "data": {
      "image/png": "[encoded data removed]",
      "text/plain": [
       "<Figure size 600x600 with 9 Axes>"
      ]
     },
     "metadata": {},
     "output_type": "display_data"
    }
   ],
   "source": [
    "# Get the values corresponding to the predicted labels for each sample\n",
    "predicted_values_tf = tf.reduce_max(predictions_tf, axis=1)\n",
    "\n",
    "# Get the indices of the samples with the highest predicted values\n",
    "most_confident_indices_tf = tf.argsort(predicted_values_tf, direction='DESCENDING').numpy()[:9]\n",
    "\n",
    "# Get the 9 most confident samples\n",
    "most_confident_samples_tf = X_test[most_confident_indices_tf]\n",
    "\n",
    "# Get the true labels for the 9 most confident samples\n",
    "most_confident_labels_tf = np.argmax(y_test[most_confident_indices_tf], axis=1)\n",
    "\n",
    "# Plot the 9 most confident samples\n",
    "fig, axes = plt.subplots(3, 3, figsize=(6, 6))\n",
    "\n",
    "for i, ax in enumerate(axes.flat):\n",
    "    ax.imshow(most_confident_samples_tf[i].reshape(8, 8), cmap=plt.cm.gray_r, interpolation='nearest')\n",
    "    ax.set_title(f\"{most_confident_labels_tf[i]}\")\n",
    "\n",
    "    # Removing axis labels\n",
    "    ax.set_xticks([])\n",
    "    ax.set_yticks([])\n",
    "    \n",
    "plt.show()"
   ]
  },
  {
   "cell_type": "markdown",
   "metadata": {},
   "source": [
    "## Impact of Initialization\n",
    "\n",
    "Let's study the impact of a bad initialization when training\n",
    "a deep feed forward network.\n",
    "\n",
    "By default, Keras dense layers use the \"Glorot Uniform\" initialization\n",
    "strategy to initialize the weight matrices:\n",
    "\n",
    "- each weight coefficient is randomly sampled from [-scale, scale]\n",
    "- scale is proportional to $\\frac{1}{\\sqrt{n_{in} + n_{out}}}$\n",
    "\n",
    "This strategy is known to work well to initialize deep neural networks\n",
    "with \"tanh\" or \"relu\" activation functions and then trained with\n",
    "standard SGD.\n",
    "\n",
    "To assess the impact of initialization let us plug an alternative init\n",
    "scheme into a 2 hidden layers networks with \"tanh\" activations.\n",
    "For the sake of the example let's use normal distributed weights\n",
    "with a manually adjustable scale (standard deviation) and see the\n",
    "impact the scale value:"
   ]
  },
  {
   "cell_type": "code",
   "execution_count": 62,
   "metadata": {},
   "outputs": [],
   "source": [
    "from tensorflow.keras import initializers\n",
    "from tensorflow.keras import optimizers\n",
    "\n",
    "input_dim = 64\n",
    "hidden_dim = 64\n",
    "output_dim = 10\n",
    "\n",
    "normal_init = initializers.TruncatedNormal(stddev=0.01, seed=42) #this is where the initialization comes from\n",
    "\n",
    "model = Sequential()\n",
    "model.add(Dense(hidden_dim, input_dim=input_dim, activation=\"tanh\",   #as we are not specifying a bias_init, the bias is initialized to zero\n",
    "                kernel_initializer=normal_init))\n",
    "model.add(Dense(hidden_dim, activation=\"tanh\",\n",
    "                kernel_initializer=normal_init))\n",
    "model.add(Dense(output_dim, activation=\"softmax\",\n",
    "                kernel_initializer=normal_init))\n",
    "\n",
    "model.compile(optimizer=optimizers.SGD(learning_rate=0.1),\n",
    "              loss='categorical_crossentropy', metrics=['accuracy'])"
   ]
  },
  {
   "cell_type": "code",
   "execution_count": 63,
   "metadata": {},
   "outputs": [
    {
     "data": {
      "text/plain": [
       "[<keras.layers.core.dense.Dense at 0x1af8bee41f0>,\n",
       " <keras.layers.core.dense.Dense at 0x1af8bee4280>,\n",
       " <keras.layers.core.dense.Dense at 0x1af8aa3a760>]"
      ]
     },
     "execution_count": 63,
     "metadata": {},
     "output_type": "execute_result"
    }
   ],
   "source": [
    "model.layers"
   ]
  },
  {
   "cell_type": "markdown",
   "metadata": {},
   "source": [
    "Let's have a look at the parameters of the first layer after initialization but before any training has happened:"
   ]
  },
  {
   "cell_type": "code",
   "execution_count": 64,
   "metadata": {},
   "outputs": [
    {
     "data": {
      "text/plain": [
       "[<tf.Variable 'dense_34/kernel:0' shape=(64, 64) dtype=float32, numpy=\n",
       " array([[ 0.00015817, -0.01590087,  0.00103594, ...,  0.00962818,\n",
       "          0.00624957,  0.00994726],\n",
       "        [ 0.0081879 ,  0.00756818, -0.00668142, ...,  0.01084459,\n",
       "         -0.00317478, -0.00549116],\n",
       "        [-0.00086618, -0.00287623,  0.00391693, ...,  0.00064558,\n",
       "         -0.00420471,  0.00174566],\n",
       "        ...,\n",
       "        [-0.0029006 , -0.0091218 ,  0.00804327, ..., -0.01407086,\n",
       "          0.00952832, -0.01348555],\n",
       "        [ 0.00375078,  0.00967842,  0.00098119, ..., -0.00413454,\n",
       "          0.01695471,  0.00025196],\n",
       "        [ 0.00459809,  0.01223094, -0.00213172, ...,  0.01246831,\n",
       "         -0.00714749, -0.00868595]], dtype=float32)>,\n",
       " <tf.Variable 'dense_34/bias:0' shape=(64,) dtype=float32, numpy=\n",
       " array([0., 0., 0., 0., 0., 0., 0., 0., 0., 0., 0., 0., 0., 0., 0., 0., 0.,\n",
       "        0., 0., 0., 0., 0., 0., 0., 0., 0., 0., 0., 0., 0., 0., 0., 0., 0.,\n",
       "        0., 0., 0., 0., 0., 0., 0., 0., 0., 0., 0., 0., 0., 0., 0., 0., 0.,\n",
       "        0., 0., 0., 0., 0., 0., 0., 0., 0., 0., 0., 0., 0.], dtype=float32)>]"
      ]
     },
     "execution_count": 64,
     "metadata": {},
     "output_type": "execute_result"
    }
   ],
   "source": [
    "model.layers[0].weights"
   ]
  },
  {
   "cell_type": "code",
   "execution_count": 65,
   "metadata": {},
   "outputs": [
    {
     "data": {
      "text/plain": [
       "array([[ 0.00015817, -0.01590087,  0.00103594, ...,  0.00962818,\n",
       "         0.00624957,  0.00994726],\n",
       "       [ 0.0081879 ,  0.00756818, -0.00668142, ...,  0.01084459,\n",
       "        -0.00317478, -0.00549116],\n",
       "       [-0.00086618, -0.00287623,  0.00391693, ...,  0.00064558,\n",
       "        -0.00420471,  0.00174566],\n",
       "       ...,\n",
       "       [-0.0029006 , -0.0091218 ,  0.00804327, ..., -0.01407086,\n",
       "         0.00952832, -0.01348555],\n",
       "       [ 0.00375078,  0.00967842,  0.00098119, ..., -0.00413454,\n",
       "         0.01695471,  0.00025196],\n",
       "       [ 0.00459809,  0.01223094, -0.00213172, ...,  0.01246831,\n",
       "        -0.00714749, -0.00868595]], dtype=float32)"
      ]
     },
     "execution_count": 65,
     "metadata": {},
     "output_type": "execute_result"
    }
   ],
   "source": [
    "w = model.layers[0].weights[0].numpy()\n",
    "w"
   ]
  },
  {
   "cell_type": "code",
   "execution_count": 66,
   "metadata": {},
   "outputs": [
    {
     "data": {
      "text/plain": [
       "0.008835949"
      ]
     },
     "execution_count": 66,
     "metadata": {},
     "output_type": "execute_result"
    }
   ],
   "source": [
    "w.std()"
   ]
  },
  {
   "cell_type": "code",
   "execution_count": 67,
   "metadata": {},
   "outputs": [
    {
     "data": {
      "text/plain": [
       "array([0., 0., 0., 0., 0., 0., 0., 0., 0., 0., 0., 0., 0., 0., 0., 0., 0.,\n",
       "       0., 0., 0., 0., 0., 0., 0., 0., 0., 0., 0., 0., 0., 0., 0., 0., 0.,\n",
       "       0., 0., 0., 0., 0., 0., 0., 0., 0., 0., 0., 0., 0., 0., 0., 0., 0.,\n",
       "       0., 0., 0., 0., 0., 0., 0., 0., 0., 0., 0., 0., 0.], dtype=float32)"
      ]
     },
     "execution_count": 67,
     "metadata": {},
     "output_type": "execute_result"
    }
   ],
   "source": [
    "b = model.layers[0].weights[1].numpy()\n",
    "b"
   ]
  },
  {
   "cell_type": "markdown",
   "metadata": {},
   "source": [
    "Bias were init to zero by default"
   ]
  },
  {
   "cell_type": "code",
   "execution_count": 68,
   "metadata": {},
   "outputs": [
    {
     "name": "stdout",
     "output_type": "stream",
     "text": [
      "Epoch 1/15\n",
      "45/45 [==============================] - 1s 2ms/step - loss: 2.2865 - accuracy: 0.2095\n",
      "Epoch 2/15\n",
      "45/45 [==============================] - 0s 3ms/step - loss: 1.7453 - accuracy: 0.4816\n",
      "Epoch 3/15\n",
      "45/45 [==============================] - 0s 2ms/step - loss: 0.9895 - accuracy: 0.7182\n",
      "Epoch 4/15\n",
      "45/45 [==============================] - 0s 2ms/step - loss: 0.5380 - accuracy: 0.8539\n",
      "Epoch 5/15\n",
      "45/45 [==============================] - 0s 2ms/step - loss: 0.3752 - accuracy: 0.9033\n",
      "Epoch 6/15\n",
      "45/45 [==============================] - 0s 2ms/step - loss: 0.2380 - accuracy: 0.9388\n",
      "Epoch 7/15\n",
      "45/45 [==============================] - 0s 3ms/step - loss: 0.1653 - accuracy: 0.9645\n",
      "Epoch 8/15\n",
      "45/45 [==============================] - 0s 2ms/step - loss: 0.1328 - accuracy: 0.9638\n",
      "Epoch 9/15\n",
      "45/45 [==============================] - 0s 2ms/step - loss: 0.1176 - accuracy: 0.9687\n",
      "Epoch 10/15\n",
      "45/45 [==============================] - 0s 3ms/step - loss: 0.1206 - accuracy: 0.9736\n",
      "Epoch 11/15\n",
      "45/45 [==============================] - 0s 3ms/step - loss: 0.0884 - accuracy: 0.9784\n",
      "Epoch 12/15\n",
      "45/45 [==============================] - 0s 3ms/step - loss: 0.0726 - accuracy: 0.9854\n",
      "Epoch 13/15\n",
      "45/45 [==============================] - 0s 3ms/step - loss: 0.0514 - accuracy: 0.9896\n",
      "Epoch 14/15\n",
      "45/45 [==============================] - 0s 3ms/step - loss: 0.0441 - accuracy: 0.9903\n",
      "Epoch 15/15\n",
      "45/45 [==============================] - 0s 3ms/step - loss: 0.0363 - accuracy: 0.9937\n"
     ]
    },
    {
     "data": {
      "image/png": "[encoded data removed]",
      "text/plain": [
       "<Figure size 1200x400 with 1 Axes>"
      ]
     },
     "metadata": {},
     "output_type": "display_data"
    }
   ],
   "source": [
    "history = model.fit(X_train, y_train, epochs=15, batch_size=32)\n",
    "\n",
    "plt.figure(figsize=(12, 4))\n",
    "plt.plot(history.history['loss'], label=\"Truncated Normal init\")\n",
    "plt.legend();"
   ]
  },
  {
   "cell_type": "markdown",
   "metadata": {},
   "source": [
    "In here we plot the \"loss\" vs \"epochs\" to see how the loss evolve in each epoch, to checkt his history. Later we could decide until how many epochs bring improvement to the business"
   ]
  },
  {
   "cell_type": "markdown",
   "metadata": {},
   "source": [
    "Once the model has been fit, the weights have been updated and notably the biases are no longer 0:"
   ]
  },
  {
   "cell_type": "code",
   "execution_count": 71,
   "metadata": {},
   "outputs": [
    {
     "data": {
      "text/plain": [
       "array([-0.00041977, -0.00255368,  0.00308548, -0.00279316,  0.00193363,\n",
       "       -0.0003561 , -0.00145862, -0.00074505,  0.00078103, -0.0020428 ,\n",
       "        0.00124075,  0.00178149,  0.0011212 ,  0.00015019, -0.00214551,\n",
       "        0.00053184,  0.00362856,  0.0012928 , -0.00200709, -0.00150442,\n",
       "        0.00136409, -0.0014579 ,  0.0020838 ,  0.00032929,  0.00399286,\n",
       "       -0.00022992,  0.00287264,  0.00164616, -0.00077358, -0.0008297 ,\n",
       "        0.00522168, -0.00103311,  0.00108977,  0.00051754, -0.00209526,\n",
       "       -0.00026322, -0.00094925, -0.00056324,  0.00017871, -0.00065712,\n",
       "        0.00028713, -0.00042515,  0.00129516,  0.0009435 ,  0.00016877,\n",
       "        0.00088861,  0.0050468 , -0.00205471, -0.00111786,  0.00231596,\n",
       "        0.00271496, -0.00031926, -0.00626767, -0.00588036,  0.00046686,\n",
       "       -0.00221004,  0.00448997,  0.00168863,  0.0024598 ,  0.00200777,\n",
       "        0.00032411,  0.00056743, -0.00402869,  0.00168078], dtype=float32)"
      ]
     },
     "execution_count": 71,
     "metadata": {},
     "output_type": "execute_result"
    }
   ],
   "source": [
    "b = model.layers[0].weights[1].numpy()   #we are going to see now the 64 bias for the 1st layer, now the trained values are different from 0\n",
    "b"
   ]
  },
  {
   "cell_type": "code",
   "execution_count": 72,
   "metadata": {},
   "outputs": [
    {
     "data": {
      "text/plain": [
       "[<tf.Variable 'dense_34/kernel:0' shape=(64, 64) dtype=float32, numpy=\n",
       " array([[ 1.58170762e-04, -1.59008689e-02,  1.03594456e-03, ...,\n",
       "          9.62818228e-03,  6.24957308e-03,  9.94726177e-03],\n",
       "        [ 8.56592227e-03, -1.28376167e-02, -1.78789962e-02, ...,\n",
       "         -6.37720851e-03, -2.03704815e-02, -2.10111141e-02],\n",
       "        [ 4.00307104e-02, -9.34268460e-02, -8.23116302e-02, ...,\n",
       "         -2.57686917e-02, -1.02088287e-01,  1.15092032e-01],\n",
       "        ...,\n",
       "        [ 4.50708345e-02, -2.66572088e-02,  1.89958379e-01, ...,\n",
       "         -1.02707155e-01, -4.25427686e-04, -1.81556076e-01],\n",
       "        [ 3.74148414e-02, -3.93978432e-02,  1.40863135e-01, ...,\n",
       "         -8.54314789e-02, -3.70307118e-02, -1.02857575e-01],\n",
       "        [ 2.89915446e-02,  1.35701578e-02,  5.42857461e-02, ...,\n",
       "          5.14935516e-02,  4.61819731e-02, -4.52247821e-02]], dtype=float32)>,\n",
       " <tf.Variable 'dense_34/bias:0' shape=(64,) dtype=float32, numpy=\n",
       " array([-0.00041977, -0.00255368,  0.00308548, -0.00279316,  0.00193363,\n",
       "        -0.0003561 , -0.00145862, -0.00074505,  0.00078103, -0.0020428 ,\n",
       "         0.00124075,  0.00178149,  0.0011212 ,  0.00015019, -0.00214551,\n",
       "         0.00053184,  0.00362856,  0.0012928 , -0.00200709, -0.00150442,\n",
       "         0.00136409, -0.0014579 ,  0.0020838 ,  0.00032929,  0.00399286,\n",
       "        -0.00022992,  0.00287264,  0.00164616, -0.00077358, -0.0008297 ,\n",
       "         0.00522168, -0.00103311,  0.00108977,  0.00051754, -0.00209526,\n",
       "        -0.00026322, -0.00094925, -0.00056324,  0.00017871, -0.00065712,\n",
       "         0.00028713, -0.00042515,  0.00129516,  0.0009435 ,  0.00016877,\n",
       "         0.00088861,  0.0050468 , -0.00205471, -0.00111786,  0.00231596,\n",
       "         0.00271496, -0.00031926, -0.00626767, -0.00588036,  0.00046686,\n",
       "        -0.00221004,  0.00448997,  0.00168863,  0.0024598 ,  0.00200777,\n",
       "         0.00032411,  0.00056743, -0.00402869,  0.00168078], dtype=float32)>]"
      ]
     },
     "execution_count": 72,
     "metadata": {},
     "output_type": "execute_result"
    }
   ],
   "source": [
    "model.layers[0].weights"
   ]
  },
  {
   "cell_type": "markdown",
   "metadata": {},
   "source": [
    "#### Questions:\n",
    "\n",
    "- Try the following initialization schemes and see whether\n",
    "  the SGD algorithm can successfully train the network or\n",
    "  not:\n",
    "  \n",
    "  - a very small e.g. `stddev=1e-3`\n",
    "  - a larger scale e.g. `stddev=1` or `10`\n",
    "  - initialize all weights to 0 (constant initialization)\n",
    "  \n",
    "- What do you observe? Can you find an explanation for those\n",
    "  outcomes?\n",
    "\n",
    "- Are more advanced solvers such as SGD with momentum or Adam able\n",
    "  to deal better with such bad initializations?"
   ]
  },
  {
   "cell_type": "code",
   "execution_count": 77,
   "metadata": {},
   "outputs": [
    {
     "name": "stdout",
     "output_type": "stream",
     "text": [
      "Epoch 1/100\n",
      "45/45 [==============================] - 1s 2ms/step - loss: 2.3037 - accuracy: 0.0821\n",
      "Epoch 2/100\n",
      "45/45 [==============================] - 0s 2ms/step - loss: 2.3031 - accuracy: 0.1002\n",
      "Epoch 3/100\n",
      "45/45 [==============================] - 0s 3ms/step - loss: 2.3034 - accuracy: 0.1023\n",
      "Epoch 4/100\n",
      "45/45 [==============================] - 0s 3ms/step - loss: 2.3033 - accuracy: 0.1072\n",
      "Epoch 5/100\n",
      "45/45 [==============================] - 0s 3ms/step - loss: 2.3030 - accuracy: 0.1044\n",
      "Epoch 6/100\n",
      "45/45 [==============================] - 0s 5ms/step - loss: 2.3031 - accuracy: 0.1072\n",
      "Epoch 7/100\n",
      "45/45 [==============================] - 0s 3ms/step - loss: 2.3030 - accuracy: 0.1030\n",
      "Epoch 8/100\n",
      "45/45 [==============================] - 0s 3ms/step - loss: 2.3029 - accuracy: 0.1072\n",
      "Epoch 9/100\n",
      "45/45 [==============================] - 0s 2ms/step - loss: 2.3017 - accuracy: 0.1065\n",
      "Epoch 10/100\n",
      "45/45 [==============================] - 0s 2ms/step - loss: 2.1370 - accuracy: 0.1865\n",
      "Epoch 11/100\n",
      "45/45 [==============================] - 0s 4ms/step - loss: 1.8172 - accuracy: 0.2192\n",
      "Epoch 12/100\n",
      "45/45 [==============================] - 0s 2ms/step - loss: 1.6595 - accuracy: 0.2665\n",
      "Epoch 13/100\n",
      "45/45 [==============================] - 0s 2ms/step - loss: 1.4588 - accuracy: 0.3493\n",
      "Epoch 14/100\n",
      "45/45 [==============================] - 0s 2ms/step - loss: 1.2126 - accuracy: 0.5414\n",
      "Epoch 15/100\n",
      "45/45 [==============================] - 0s 2ms/step - loss: 0.7914 - accuracy: 0.7620\n",
      "Epoch 16/100\n",
      "45/45 [==============================] - 0s 2ms/step - loss: 0.5257 - accuracy: 0.8490\n",
      "Epoch 17/100\n",
      "45/45 [==============================] - 0s 2ms/step - loss: 0.3783 - accuracy: 0.8984\n",
      "Epoch 18/100\n",
      "45/45 [==============================] - 0s 2ms/step - loss: 0.3003 - accuracy: 0.9241\n",
      "Epoch 19/100\n",
      "45/45 [==============================] - 0s 2ms/step - loss: 0.2386 - accuracy: 0.9436\n",
      "Epoch 20/100\n",
      "45/45 [==============================] - 0s 2ms/step - loss: 0.2070 - accuracy: 0.9520\n",
      "Epoch 21/100\n",
      "45/45 [==============================] - 0s 2ms/step - loss: 0.1523 - accuracy: 0.9680\n",
      "Epoch 22/100\n",
      "45/45 [==============================] - 0s 2ms/step - loss: 0.1664 - accuracy: 0.9562\n",
      "Epoch 23/100\n",
      "45/45 [==============================] - 0s 2ms/step - loss: 0.2129 - accuracy: 0.9388\n",
      "Epoch 24/100\n",
      "45/45 [==============================] - 0s 3ms/step - loss: 0.1709 - accuracy: 0.9541\n",
      "Epoch 25/100\n",
      "45/45 [==============================] - 0s 3ms/step - loss: 0.1755 - accuracy: 0.9471\n",
      "Epoch 26/100\n",
      "45/45 [==============================] - 0s 3ms/step - loss: 0.1323 - accuracy: 0.9687\n",
      "Epoch 27/100\n",
      "45/45 [==============================] - 0s 3ms/step - loss: 0.1319 - accuracy: 0.9610\n",
      "Epoch 28/100\n",
      "45/45 [==============================] - 0s 2ms/step - loss: 0.0960 - accuracy: 0.9729\n",
      "Epoch 29/100\n",
      "45/45 [==============================] - 0s 3ms/step - loss: 0.0822 - accuracy: 0.9798\n",
      "Epoch 30/100\n",
      "45/45 [==============================] - 0s 2ms/step - loss: 0.0938 - accuracy: 0.9687\n",
      "Epoch 31/100\n",
      "45/45 [==============================] - 0s 3ms/step - loss: 0.0584 - accuracy: 0.9882\n",
      "Epoch 32/100\n",
      "45/45 [==============================] - 0s 2ms/step - loss: 0.0670 - accuracy: 0.9784\n",
      "Epoch 33/100\n",
      "45/45 [==============================] - 0s 2ms/step - loss: 0.0466 - accuracy: 0.9882\n",
      "Epoch 34/100\n",
      "45/45 [==============================] - 0s 2ms/step - loss: 0.0493 - accuracy: 0.9896\n",
      "Epoch 35/100\n",
      "45/45 [==============================] - 0s 3ms/step - loss: 0.0379 - accuracy: 0.9944\n",
      "Epoch 36/100\n",
      "45/45 [==============================] - 0s 3ms/step - loss: 0.0333 - accuracy: 0.9916\n",
      "Epoch 37/100\n",
      "45/45 [==============================] - 0s 3ms/step - loss: 0.0281 - accuracy: 0.9951\n",
      "Epoch 38/100\n",
      "45/45 [==============================] - 0s 2ms/step - loss: 0.0274 - accuracy: 0.9923\n",
      "Epoch 39/100\n",
      "45/45 [==============================] - 0s 2ms/step - loss: 0.0207 - accuracy: 0.9972\n",
      "Epoch 40/100\n",
      "45/45 [==============================] - 0s 2ms/step - loss: 0.0126 - accuracy: 0.9993\n",
      "Epoch 41/100\n",
      "45/45 [==============================] - 0s 2ms/step - loss: 0.0137 - accuracy: 0.9986\n",
      "Epoch 42/100\n",
      "45/45 [==============================] - 0s 3ms/step - loss: 0.0101 - accuracy: 1.0000\n",
      "Epoch 43/100\n",
      "45/45 [==============================] - 0s 3ms/step - loss: 0.0083 - accuracy: 1.0000\n",
      "Epoch 44/100\n",
      "45/45 [==============================] - 0s 3ms/step - loss: 0.0074 - accuracy: 1.0000\n",
      "Epoch 45/100\n",
      "45/45 [==============================] - 0s 3ms/step - loss: 0.0072 - accuracy: 1.0000\n",
      "Epoch 46/100\n",
      "45/45 [==============================] - 0s 3ms/step - loss: 0.0066 - accuracy: 1.0000\n",
      "Epoch 47/100\n",
      "45/45 [==============================] - 0s 3ms/step - loss: 0.0062 - accuracy: 1.0000\n",
      "Epoch 48/100\n",
      "45/45 [==============================] - 0s 2ms/step - loss: 0.0058 - accuracy: 1.0000\n",
      "Epoch 49/100\n",
      "45/45 [==============================] - 0s 2ms/step - loss: 0.0056 - accuracy: 1.0000\n",
      "Epoch 50/100\n",
      "45/45 [==============================] - 0s 2ms/step - loss: 0.0053 - accuracy: 1.0000\n",
      "Epoch 51/100\n",
      "45/45 [==============================] - 0s 2ms/step - loss: 0.0051 - accuracy: 1.0000\n",
      "Epoch 52/100\n",
      "45/45 [==============================] - 0s 2ms/step - loss: 0.0049 - accuracy: 1.0000\n",
      "Epoch 53/100\n",
      "45/45 [==============================] - 0s 3ms/step - loss: 0.0047 - accuracy: 1.0000\n",
      "Epoch 54/100\n",
      "45/45 [==============================] - 0s 3ms/step - loss: 0.0045 - accuracy: 1.0000\n",
      "Epoch 55/100\n",
      "45/45 [==============================] - 0s 3ms/step - loss: 0.0043 - accuracy: 1.0000\n",
      "Epoch 56/100\n",
      "45/45 [==============================] - 0s 3ms/step - loss: 0.0041 - accuracy: 1.0000\n",
      "Epoch 57/100\n",
      "45/45 [==============================] - 0s 3ms/step - loss: 0.0040 - accuracy: 1.0000\n",
      "Epoch 58/100\n",
      "45/45 [==============================] - 0s 4ms/step - loss: 0.0039 - accuracy: 1.0000\n",
      "Epoch 59/100\n",
      "45/45 [==============================] - 0s 6ms/step - loss: 0.0038 - accuracy: 1.0000\n",
      "Epoch 60/100\n",
      "45/45 [==============================] - 0s 3ms/step - loss: 0.0036 - accuracy: 1.0000\n",
      "Epoch 61/100\n",
      "45/45 [==============================] - 0s 3ms/step - loss: 0.0035 - accuracy: 1.0000\n",
      "Epoch 62/100\n",
      "45/45 [==============================] - 0s 3ms/step - loss: 0.0034 - accuracy: 1.0000\n",
      "Epoch 63/100\n",
      "45/45 [==============================] - 0s 2ms/step - loss: 0.0033 - accuracy: 1.0000\n",
      "Epoch 64/100\n",
      "45/45 [==============================] - 0s 2ms/step - loss: 0.0032 - accuracy: 1.0000\n",
      "Epoch 65/100\n",
      "45/45 [==============================] - 0s 3ms/step - loss: 0.0031 - accuracy: 1.0000\n",
      "Epoch 66/100\n",
      "45/45 [==============================] - 0s 3ms/step - loss: 0.0031 - accuracy: 1.0000\n",
      "Epoch 67/100\n",
      "45/45 [==============================] - 0s 2ms/step - loss: 0.0030 - accuracy: 1.0000\n",
      "Epoch 68/100\n",
      "45/45 [==============================] - 0s 2ms/step - loss: 0.0029 - accuracy: 1.0000\n",
      "Epoch 69/100\n",
      "45/45 [==============================] - 0s 2ms/step - loss: 0.0028 - accuracy: 1.0000\n",
      "Epoch 70/100\n",
      "45/45 [==============================] - 0s 3ms/step - loss: 0.0028 - accuracy: 1.0000\n",
      "Epoch 71/100\n",
      "45/45 [==============================] - 0s 3ms/step - loss: 0.0027 - accuracy: 1.0000\n",
      "Epoch 72/100\n",
      "45/45 [==============================] - 0s 3ms/step - loss: 0.0026 - accuracy: 1.0000\n",
      "Epoch 73/100\n",
      "45/45 [==============================] - 0s 3ms/step - loss: 0.0026 - accuracy: 1.0000\n",
      "Epoch 74/100\n",
      "45/45 [==============================] - 0s 2ms/step - loss: 0.0025 - accuracy: 1.0000\n",
      "Epoch 75/100\n",
      "45/45 [==============================] - 0s 2ms/step - loss: 0.0025 - accuracy: 1.0000\n",
      "Epoch 76/100\n",
      "45/45 [==============================] - 0s 3ms/step - loss: 0.0024 - accuracy: 1.0000\n",
      "Epoch 77/100\n",
      "45/45 [==============================] - 0s 2ms/step - loss: 0.0024 - accuracy: 1.0000\n",
      "Epoch 78/100\n",
      "45/45 [==============================] - 0s 3ms/step - loss: 0.0023 - accuracy: 1.0000\n",
      "Epoch 79/100\n",
      "45/45 [==============================] - 0s 3ms/step - loss: 0.0023 - accuracy: 1.0000\n",
      "Epoch 80/100\n",
      "45/45 [==============================] - 0s 3ms/step - loss: 0.0022 - accuracy: 1.0000\n",
      "Epoch 81/100\n",
      "45/45 [==============================] - 0s 2ms/step - loss: 0.0022 - accuracy: 1.0000\n",
      "Epoch 82/100\n",
      "45/45 [==============================] - 0s 3ms/step - loss: 0.0021 - accuracy: 1.0000\n",
      "Epoch 83/100\n",
      "45/45 [==============================] - 0s 3ms/step - loss: 0.0021 - accuracy: 1.0000\n",
      "Epoch 84/100\n",
      "45/45 [==============================] - 0s 3ms/step - loss: 0.0021 - accuracy: 1.0000\n",
      "Epoch 85/100\n",
      "45/45 [==============================] - 0s 2ms/step - loss: 0.0020 - accuracy: 1.0000\n",
      "Epoch 86/100\n",
      "45/45 [==============================] - 0s 3ms/step - loss: 0.0020 - accuracy: 1.0000\n",
      "Epoch 87/100\n",
      "45/45 [==============================] - 0s 2ms/step - loss: 0.0020 - accuracy: 1.0000\n",
      "Epoch 88/100\n",
      "45/45 [==============================] - 0s 3ms/step - loss: 0.0019 - accuracy: 1.0000\n",
      "Epoch 89/100\n",
      "45/45 [==============================] - 0s 2ms/step - loss: 0.0019 - accuracy: 1.0000\n",
      "Epoch 90/100\n",
      "45/45 [==============================] - 0s 3ms/step - loss: 0.0019 - accuracy: 1.0000\n",
      "Epoch 91/100\n",
      "45/45 [==============================] - 0s 3ms/step - loss: 0.0018 - accuracy: 1.0000\n",
      "Epoch 92/100\n",
      "45/45 [==============================] - 0s 3ms/step - loss: 0.0018 - accuracy: 1.0000\n",
      "Epoch 93/100\n",
      "45/45 [==============================] - 0s 4ms/step - loss: 0.0018 - accuracy: 1.0000\n",
      "Epoch 94/100\n",
      "45/45 [==============================] - 0s 3ms/step - loss: 0.0017 - accuracy: 1.0000\n",
      "Epoch 95/100\n",
      "45/45 [==============================] - 0s 3ms/step - loss: 0.0017 - accuracy: 1.0000\n",
      "Epoch 96/100\n",
      "45/45 [==============================] - 0s 2ms/step - loss: 0.0017 - accuracy: 1.0000\n",
      "Epoch 97/100\n",
      "45/45 [==============================] - 0s 2ms/step - loss: 0.0017 - accuracy: 1.0000\n",
      "Epoch 98/100\n",
      "45/45 [==============================] - 0s 2ms/step - loss: 0.0016 - accuracy: 1.0000\n",
      "Epoch 99/100\n",
      "45/45 [==============================] - 0s 3ms/step - loss: 0.0016 - accuracy: 1.0000\n",
      "Epoch 100/100\n",
      "45/45 [==============================] - 0s 2ms/step - loss: 0.0016 - accuracy: 1.0000\n"
     ]
    },
    {
     "data": {
      "image/png": "[encoded data removed]",
      "text/plain": [
       "<Figure size 1200x400 with 1 Axes>"
      ]
     },
     "metadata": {},
     "output_type": "display_data"
    }
   ],
   "source": [
    "#a very small\n",
    "# std dev for the init at 0.001 (1e-3)\n",
    "\n",
    "\n",
    "from tensorflow.keras import initializers\n",
    "from tensorflow.keras import optimizers\n",
    "\n",
    "input_dim = 64\n",
    "hidden_dim = 64\n",
    "output_dim = 10\n",
    "\n",
    "normal_init = initializers.TruncatedNormal(stddev=0.001, seed=42)\n",
    "\n",
    "model = Sequential()\n",
    "model.add(Dense(hidden_dim, input_dim=input_dim, activation=\"tanh\",\n",
    "                kernel_initializer=normal_init))\n",
    "model.add(Dense(hidden_dim, activation=\"tanh\",\n",
    "                kernel_initializer=normal_init))\n",
    "model.add(Dense(output_dim, activation=\"softmax\",\n",
    "                kernel_initializer=normal_init))\n",
    "\n",
    "model.compile(optimizer=optimizers.SGD(learning_rate=0.1),\n",
    "              loss='categorical_crossentropy', metrics=['accuracy'])\n",
    "\n",
    "history = model.fit(X_train, y_train, epochs=100, batch_size=32)\n",
    "\n",
    "plt.figure(figsize=(12, 4))\n",
    "plt.plot(history.history['loss'], label=\"Truncated Normal init\")\n",
    "plt.legend();\n"
   ]
  },
  {
   "cell_type": "code",
   "execution_count": 78,
   "metadata": {},
   "outputs": [
    {
     "name": "stdout",
     "output_type": "stream",
     "text": [
      "Epoch 1/100\n",
      "45/45 [==============================] - 1s 2ms/step - loss: 98.3280 - accuracy: 0.0765\n",
      "Epoch 2/100\n",
      "45/45 [==============================] - 0s 2ms/step - loss: 72.8022 - accuracy: 0.0981\n",
      "Epoch 3/100\n",
      "45/45 [==============================] - 0s 2ms/step - loss: 51.8574 - accuracy: 0.1197\n",
      "Epoch 4/100\n",
      "45/45 [==============================] - 0s 3ms/step - loss: 40.7346 - accuracy: 0.1510\n",
      "Epoch 5/100\n",
      "45/45 [==============================] - 0s 3ms/step - loss: 32.0985 - accuracy: 0.1454\n",
      "Epoch 6/100\n",
      "45/45 [==============================] - 0s 3ms/step - loss: 25.5174 - accuracy: 0.1573\n",
      "Epoch 7/100\n",
      "45/45 [==============================] - 0s 2ms/step - loss: 20.7160 - accuracy: 0.1670\n",
      "Epoch 8/100\n",
      "45/45 [==============================] - 0s 3ms/step - loss: 17.9539 - accuracy: 0.1893\n",
      "Epoch 9/100\n",
      "45/45 [==============================] - 0s 3ms/step - loss: 19.1523 - accuracy: 0.2289\n",
      "Epoch 10/100\n",
      "45/45 [==============================] - 0s 2ms/step - loss: 16.1259 - accuracy: 0.2206\n",
      "Epoch 11/100\n",
      "45/45 [==============================] - 0s 3ms/step - loss: 12.0755 - accuracy: 0.2129\n",
      "Epoch 12/100\n",
      "45/45 [==============================] - 0s 4ms/step - loss: 11.1368 - accuracy: 0.2324\n",
      "Epoch 13/100\n",
      "45/45 [==============================] - 0s 4ms/step - loss: 10.3139 - accuracy: 0.2408\n",
      "Epoch 14/100\n",
      "45/45 [==============================] - 0s 3ms/step - loss: 10.3288 - accuracy: 0.2547\n",
      "Epoch 15/100\n",
      "45/45 [==============================] - 0s 3ms/step - loss: 9.9313 - accuracy: 0.2415\n",
      "Epoch 16/100\n",
      "45/45 [==============================] - 0s 4ms/step - loss: 9.5310 - accuracy: 0.2526\n",
      "Epoch 17/100\n",
      "45/45 [==============================] - 0s 3ms/step - loss: 7.8123 - accuracy: 0.2366\n",
      "Epoch 18/100\n",
      "45/45 [==============================] - 0s 3ms/step - loss: 6.9731 - accuracy: 0.2338\n",
      "Epoch 19/100\n",
      "45/45 [==============================] - 0s 3ms/step - loss: 6.6264 - accuracy: 0.2234\n",
      "Epoch 20/100\n",
      "45/45 [==============================] - 0s 3ms/step - loss: 6.3670 - accuracy: 0.2470\n",
      "Epoch 21/100\n",
      "45/45 [==============================] - 0s 3ms/step - loss: 6.0799 - accuracy: 0.2436\n",
      "Epoch 22/100\n",
      "45/45 [==============================] - 0s 3ms/step - loss: 5.8969 - accuracy: 0.2596\n",
      "Epoch 23/100\n",
      "45/45 [==============================] - 0s 3ms/step - loss: 5.7847 - accuracy: 0.2617\n",
      "Epoch 24/100\n",
      "45/45 [==============================] - 0s 3ms/step - loss: 5.6593 - accuracy: 0.2540\n",
      "Epoch 25/100\n",
      "45/45 [==============================] - 0s 3ms/step - loss: 5.5070 - accuracy: 0.2707\n",
      "Epoch 26/100\n",
      "45/45 [==============================] - 0s 3ms/step - loss: 5.3201 - accuracy: 0.2763\n",
      "Epoch 27/100\n",
      "45/45 [==============================] - 0s 3ms/step - loss: 5.2587 - accuracy: 0.2909\n",
      "Epoch 28/100\n",
      "45/45 [==============================] - 0s 3ms/step - loss: 5.1195 - accuracy: 0.2853\n",
      "Epoch 29/100\n",
      "45/45 [==============================] - 0s 3ms/step - loss: 5.1303 - accuracy: 0.2804\n",
      "Epoch 30/100\n",
      "45/45 [==============================] - 0s 3ms/step - loss: 4.9836 - accuracy: 0.2923\n",
      "Epoch 31/100\n",
      "45/45 [==============================] - 0s 3ms/step - loss: 4.9138 - accuracy: 0.2923\n",
      "Epoch 32/100\n",
      "45/45 [==============================] - 0s 3ms/step - loss: 4.8259 - accuracy: 0.3048\n",
      "Epoch 33/100\n",
      "45/45 [==============================] - 0s 3ms/step - loss: 4.8027 - accuracy: 0.2951\n",
      "Epoch 34/100\n",
      "45/45 [==============================] - 0s 2ms/step - loss: 4.7465 - accuracy: 0.2846\n",
      "Epoch 35/100\n",
      "45/45 [==============================] - 0s 2ms/step - loss: 4.6858 - accuracy: 0.2999\n",
      "Epoch 36/100\n",
      "45/45 [==============================] - 0s 3ms/step - loss: 4.6475 - accuracy: 0.2825\n",
      "Epoch 37/100\n",
      "45/45 [==============================] - 0s 3ms/step - loss: 4.6342 - accuracy: 0.2825\n",
      "Epoch 38/100\n",
      "45/45 [==============================] - 0s 3ms/step - loss: 4.5301 - accuracy: 0.3104\n",
      "Epoch 39/100\n",
      "45/45 [==============================] - 0s 3ms/step - loss: 4.4837 - accuracy: 0.2937\n",
      "Epoch 40/100\n",
      "45/45 [==============================] - 0s 2ms/step - loss: 4.4477 - accuracy: 0.2853\n",
      "Epoch 41/100\n",
      "45/45 [==============================] - 0s 2ms/step - loss: 4.3934 - accuracy: 0.2916\n",
      "Epoch 42/100\n",
      "45/45 [==============================] - 0s 3ms/step - loss: 4.3457 - accuracy: 0.3048\n",
      "Epoch 43/100\n",
      "45/45 [==============================] - 0s 3ms/step - loss: 4.2930 - accuracy: 0.2874\n",
      "Epoch 44/100\n",
      "45/45 [==============================] - 0s 2ms/step - loss: 4.3500 - accuracy: 0.3041\n",
      "Epoch 45/100\n",
      "45/45 [==============================] - 0s 3ms/step - loss: 4.5355 - accuracy: 0.3006\n",
      "Epoch 46/100\n",
      "45/45 [==============================] - 0s 3ms/step - loss: 4.4571 - accuracy: 0.3090\n",
      "Epoch 47/100\n",
      "45/45 [==============================] - 0s 2ms/step - loss: 4.3265 - accuracy: 0.2804\n",
      "Epoch 48/100\n",
      "45/45 [==============================] - 0s 2ms/step - loss: 4.1933 - accuracy: 0.2860\n",
      "Epoch 49/100\n",
      "45/45 [==============================] - 0s 3ms/step - loss: 4.1733 - accuracy: 0.3013\n",
      "Epoch 50/100\n",
      "45/45 [==============================] - 0s 3ms/step - loss: 4.0794 - accuracy: 0.2853\n",
      "Epoch 51/100\n",
      "45/45 [==============================] - 0s 2ms/step - loss: 3.9083 - accuracy: 0.2951\n",
      "Epoch 52/100\n",
      "45/45 [==============================] - 0s 2ms/step - loss: 3.9556 - accuracy: 0.2999\n",
      "Epoch 53/100\n",
      "45/45 [==============================] - 0s 3ms/step - loss: 3.9251 - accuracy: 0.3055\n",
      "Epoch 54/100\n",
      "45/45 [==============================] - 0s 3ms/step - loss: 3.8839 - accuracy: 0.2971\n",
      "Epoch 55/100\n",
      "45/45 [==============================] - 0s 3ms/step - loss: 3.8481 - accuracy: 0.2971\n",
      "Epoch 56/100\n",
      "45/45 [==============================] - 0s 3ms/step - loss: 3.8357 - accuracy: 0.2804\n",
      "Epoch 57/100\n",
      "45/45 [==============================] - 0s 3ms/step - loss: 3.8031 - accuracy: 0.2971\n",
      "Epoch 58/100\n",
      "45/45 [==============================] - 0s 3ms/step - loss: 3.7322 - accuracy: 0.3055\n",
      "Epoch 59/100\n",
      "45/45 [==============================] - 0s 3ms/step - loss: 3.6492 - accuracy: 0.2965\n",
      "Epoch 60/100\n",
      "45/45 [==============================] - 0s 3ms/step - loss: 3.6520 - accuracy: 0.2978\n",
      "Epoch 61/100\n",
      "45/45 [==============================] - 0s 3ms/step - loss: 3.6348 - accuracy: 0.2978\n",
      "Epoch 62/100\n",
      "45/45 [==============================] - 0s 3ms/step - loss: 3.5841 - accuracy: 0.3006\n",
      "Epoch 63/100\n",
      "45/45 [==============================] - 0s 3ms/step - loss: 3.6075 - accuracy: 0.2804\n",
      "Epoch 64/100\n",
      "45/45 [==============================] - 0s 3ms/step - loss: 3.5968 - accuracy: 0.2888\n",
      "Epoch 65/100\n",
      "45/45 [==============================] - 0s 2ms/step - loss: 3.5467 - accuracy: 0.2958\n",
      "Epoch 66/100\n",
      "45/45 [==============================] - 0s 4ms/step - loss: 3.5404 - accuracy: 0.2985\n",
      "Epoch 67/100\n",
      "45/45 [==============================] - 0s 3ms/step - loss: 3.5259 - accuracy: 0.2958\n",
      "Epoch 68/100\n",
      "45/45 [==============================] - 0s 3ms/step - loss: 3.5539 - accuracy: 0.3125\n",
      "Epoch 69/100\n",
      "45/45 [==============================] - 0s 3ms/step - loss: 3.5203 - accuracy: 0.2930\n",
      "Epoch 70/100\n",
      "45/45 [==============================] - 0s 3ms/step - loss: 3.6363 - accuracy: 0.2763\n",
      "Epoch 71/100\n",
      "45/45 [==============================] - 0s 3ms/step - loss: 3.5993 - accuracy: 0.2749\n",
      "Epoch 72/100\n",
      "45/45 [==============================] - 0s 3ms/step - loss: 3.5725 - accuracy: 0.2770\n",
      "Epoch 73/100\n",
      "45/45 [==============================] - 0s 3ms/step - loss: 3.5366 - accuracy: 0.2825\n",
      "Epoch 74/100\n",
      "45/45 [==============================] - 0s 3ms/step - loss: 3.5354 - accuracy: 0.2860\n",
      "Epoch 75/100\n",
      "45/45 [==============================] - 0s 3ms/step - loss: 3.5269 - accuracy: 0.2791\n",
      "Epoch 76/100\n",
      "45/45 [==============================] - 0s 3ms/step - loss: 3.5000 - accuracy: 0.2881\n",
      "Epoch 77/100\n",
      "45/45 [==============================] - 0s 2ms/step - loss: 3.4649 - accuracy: 0.2937\n",
      "Epoch 78/100\n",
      "45/45 [==============================] - 0s 3ms/step - loss: 3.4537 - accuracy: 0.2804\n",
      "Epoch 79/100\n",
      "45/45 [==============================] - 0s 3ms/step - loss: 3.4623 - accuracy: 0.2791\n",
      "Epoch 80/100\n",
      "45/45 [==============================] - 0s 3ms/step - loss: 3.3987 - accuracy: 0.2999\n",
      "Epoch 81/100\n",
      "45/45 [==============================] - 0s 2ms/step - loss: 3.4287 - accuracy: 0.2749\n",
      "Epoch 82/100\n",
      "45/45 [==============================] - 0s 3ms/step - loss: 3.3672 - accuracy: 0.2888\n",
      "Epoch 83/100\n",
      "45/45 [==============================] - 0s 2ms/step - loss: 3.3574 - accuracy: 0.2909\n",
      "Epoch 84/100\n",
      "45/45 [==============================] - 0s 3ms/step - loss: 3.3432 - accuracy: 0.2867\n",
      "Epoch 85/100\n",
      "45/45 [==============================] - 0s 3ms/step - loss: 3.3168 - accuracy: 0.2867\n",
      "Epoch 86/100\n",
      "45/45 [==============================] - 0s 3ms/step - loss: 3.2824 - accuracy: 0.2916\n",
      "Epoch 87/100\n",
      "45/45 [==============================] - 0s 3ms/step - loss: 3.3015 - accuracy: 0.2888\n",
      "Epoch 88/100\n",
      "45/45 [==============================] - 0s 3ms/step - loss: 3.2676 - accuracy: 0.3006\n",
      "Epoch 89/100\n",
      "45/45 [==============================] - 0s 3ms/step - loss: 3.2900 - accuracy: 0.2784\n",
      "Epoch 90/100\n",
      "45/45 [==============================] - 0s 3ms/step - loss: 3.2375 - accuracy: 0.2895\n",
      "Epoch 91/100\n",
      "45/45 [==============================] - 0s 3ms/step - loss: 3.2148 - accuracy: 0.2784\n",
      "Epoch 92/100\n",
      "45/45 [==============================] - 0s 3ms/step - loss: 3.1807 - accuracy: 0.2867\n",
      "Epoch 93/100\n",
      "45/45 [==============================] - 0s 3ms/step - loss: 3.1799 - accuracy: 0.2881\n",
      "Epoch 94/100\n",
      "45/45 [==============================] - 0s 3ms/step - loss: 3.1701 - accuracy: 0.2721\n",
      "Epoch 95/100\n",
      "45/45 [==============================] - 0s 3ms/step - loss: 3.1704 - accuracy: 0.2818\n",
      "Epoch 96/100\n",
      "45/45 [==============================] - 0s 3ms/step - loss: 3.1256 - accuracy: 0.2846\n",
      "Epoch 97/100\n",
      "45/45 [==============================] - 0s 3ms/step - loss: 3.1246 - accuracy: 0.2888\n",
      "Epoch 98/100\n",
      "45/45 [==============================] - 0s 3ms/step - loss: 3.0999 - accuracy: 0.2867\n",
      "Epoch 99/100\n",
      "45/45 [==============================] - 0s 3ms/step - loss: 3.0938 - accuracy: 0.2895\n",
      "Epoch 100/100\n",
      "45/45 [==============================] - 0s 3ms/step - loss: 3.0647 - accuracy: 0.2978\n"
     ]
    },
    {
     "data": {
      "image/png": "[encoded data removed]",
      "text/plain": [
       "<Figure size 1200x400 with 1 Axes>"
      ]
     },
     "metadata": {},
     "output_type": "display_data"
    }
   ],
   "source": [
    "#a larger scale\n",
    "# std dev for the init at 10\n",
    "\n",
    "from tensorflow.keras import initializers\n",
    "from tensorflow.keras import optimizers\n",
    "\n",
    "input_dim = 64\n",
    "hidden_dim = 64\n",
    "output_dim = 10\n",
    "\n",
    "normal_init = initializers.TruncatedNormal(stddev=10, seed=42)\n",
    "\n",
    "model = Sequential()\n",
    "model.add(Dense(hidden_dim, input_dim=input_dim, activation=\"tanh\",\n",
    "                kernel_initializer=normal_init))\n",
    "model.add(Dense(hidden_dim, activation=\"tanh\",\n",
    "                kernel_initializer=normal_init))\n",
    "model.add(Dense(output_dim, activation=\"softmax\",\n",
    "                kernel_initializer=normal_init))\n",
    "\n",
    "model.compile(optimizer=optimizers.SGD(learning_rate=0.1),\n",
    "              loss='categorical_crossentropy', metrics=['accuracy'])\n",
    "\n",
    "history = model.fit(X_train, y_train, epochs=100, batch_size=32)\n",
    "\n",
    "plt.figure(figsize=(12, 4))\n",
    "plt.plot(history.history['loss'], label=\"Truncated Normal init\")\n",
    "plt.legend();\n"
   ]
  },
  {
   "cell_type": "code",
   "execution_count": 79,
   "metadata": {},
   "outputs": [
    {
     "name": "stdout",
     "output_type": "stream",
     "text": [
      "Epoch 1/100\n",
      "45/45 [==============================] - 1s 3ms/step - loss: 2.3037 - accuracy: 0.0870\n",
      "Epoch 2/100\n",
      "45/45 [==============================] - 0s 3ms/step - loss: 2.3034 - accuracy: 0.1044\n",
      "Epoch 3/100\n",
      "45/45 [==============================] - 0s 3ms/step - loss: 2.3033 - accuracy: 0.0974\n",
      "Epoch 4/100\n",
      "45/45 [==============================] - 0s 3ms/step - loss: 2.3031 - accuracy: 0.0995\n",
      "Epoch 5/100\n",
      "45/45 [==============================] - 0s 3ms/step - loss: 2.3031 - accuracy: 0.1023\n",
      "Epoch 6/100\n",
      "45/45 [==============================] - 0s 3ms/step - loss: 2.3032 - accuracy: 0.1072\n",
      "Epoch 7/100\n",
      "45/45 [==============================] - 0s 3ms/step - loss: 2.3031 - accuracy: 0.1072\n",
      "Epoch 8/100\n",
      "45/45 [==============================] - 0s 4ms/step - loss: 2.3031 - accuracy: 0.1037\n",
      "Epoch 9/100\n",
      "45/45 [==============================] - 0s 3ms/step - loss: 2.3032 - accuracy: 0.1030\n",
      "Epoch 10/100\n",
      "45/45 [==============================] - 0s 3ms/step - loss: 2.3031 - accuracy: 0.1072\n",
      "Epoch 11/100\n",
      "45/45 [==============================] - 0s 3ms/step - loss: 2.3031 - accuracy: 0.1072\n",
      "Epoch 12/100\n",
      "45/45 [==============================] - 0s 3ms/step - loss: 2.3031 - accuracy: 0.1072\n",
      "Epoch 13/100\n",
      "45/45 [==============================] - 0s 3ms/step - loss: 2.3031 - accuracy: 0.1058\n",
      "Epoch 14/100\n",
      "45/45 [==============================] - 0s 3ms/step - loss: 2.3032 - accuracy: 0.1072\n",
      "Epoch 15/100\n",
      "45/45 [==============================] - 0s 3ms/step - loss: 2.3033 - accuracy: 0.1072\n",
      "Epoch 16/100\n",
      "45/45 [==============================] - 0s 3ms/step - loss: 2.3031 - accuracy: 0.1023\n",
      "Epoch 17/100\n",
      "45/45 [==============================] - 0s 3ms/step - loss: 2.3029 - accuracy: 0.1072\n",
      "Epoch 18/100\n",
      "45/45 [==============================] - 0s 4ms/step - loss: 2.3032 - accuracy: 0.1058\n",
      "Epoch 19/100\n",
      "45/45 [==============================] - 0s 4ms/step - loss: 2.3033 - accuracy: 0.1072\n",
      "Epoch 20/100\n",
      "45/45 [==============================] - 0s 4ms/step - loss: 2.3031 - accuracy: 0.1009\n",
      "Epoch 21/100\n",
      "45/45 [==============================] - 0s 3ms/step - loss: 2.3032 - accuracy: 0.1072\n",
      "Epoch 22/100\n",
      "45/45 [==============================] - 0s 4ms/step - loss: 2.3031 - accuracy: 0.1037\n",
      "Epoch 23/100\n",
      "45/45 [==============================] - 0s 5ms/step - loss: 2.3032 - accuracy: 0.1002\n",
      "Epoch 24/100\n",
      "45/45 [==============================] - 0s 3ms/step - loss: 2.3031 - accuracy: 0.1051\n",
      "Epoch 25/100\n",
      "45/45 [==============================] - 0s 3ms/step - loss: 2.3032 - accuracy: 0.1072\n",
      "Epoch 26/100\n",
      "45/45 [==============================] - 0s 6ms/step - loss: 2.3030 - accuracy: 0.1072\n",
      "Epoch 27/100\n",
      "45/45 [==============================] - 0s 8ms/step - loss: 2.3033 - accuracy: 0.1072\n",
      "Epoch 28/100\n",
      "45/45 [==============================] - 0s 4ms/step - loss: 2.3033 - accuracy: 0.1044\n",
      "Epoch 29/100\n",
      "45/45 [==============================] - 0s 3ms/step - loss: 2.3032 - accuracy: 0.1072\n",
      "Epoch 30/100\n",
      "45/45 [==============================] - 0s 4ms/step - loss: 2.3030 - accuracy: 0.1065\n",
      "Epoch 31/100\n",
      "45/45 [==============================] - 0s 3ms/step - loss: 2.3030 - accuracy: 0.1072\n",
      "Epoch 32/100\n",
      "45/45 [==============================] - 0s 3ms/step - loss: 2.3030 - accuracy: 0.0988\n",
      "Epoch 33/100\n",
      "45/45 [==============================] - 0s 3ms/step - loss: 2.3031 - accuracy: 0.1072\n",
      "Epoch 34/100\n",
      "45/45 [==============================] - 0s 4ms/step - loss: 2.3033 - accuracy: 0.1023\n",
      "Epoch 35/100\n",
      "45/45 [==============================] - 0s 6ms/step - loss: 2.3032 - accuracy: 0.1072\n",
      "Epoch 36/100\n",
      "45/45 [==============================] - 0s 3ms/step - loss: 2.3031 - accuracy: 0.1058\n",
      "Epoch 37/100\n",
      "45/45 [==============================] - 0s 4ms/step - loss: 2.3031 - accuracy: 0.1044\n",
      "Epoch 38/100\n",
      "45/45 [==============================] - 0s 3ms/step - loss: 2.3029 - accuracy: 0.1051\n",
      "Epoch 39/100\n",
      "45/45 [==============================] - 1s 15ms/step - loss: 2.3030 - accuracy: 0.1072\n",
      "Epoch 40/100\n",
      "45/45 [==============================] - 0s 3ms/step - loss: 2.3030 - accuracy: 0.1002\n",
      "Epoch 41/100\n",
      "45/45 [==============================] - 0s 4ms/step - loss: 2.3032 - accuracy: 0.1051\n",
      "Epoch 42/100\n",
      "45/45 [==============================] - 0s 4ms/step - loss: 2.3031 - accuracy: 0.1009\n",
      "Epoch 43/100\n",
      "45/45 [==============================] - 0s 3ms/step - loss: 2.3033 - accuracy: 0.1051\n",
      "Epoch 44/100\n",
      "45/45 [==============================] - 0s 3ms/step - loss: 2.3029 - accuracy: 0.1016\n",
      "Epoch 45/100\n",
      "45/45 [==============================] - 0s 3ms/step - loss: 2.3032 - accuracy: 0.1072\n",
      "Epoch 46/100\n",
      "45/45 [==============================] - 0s 3ms/step - loss: 2.3031 - accuracy: 0.1072\n",
      "Epoch 47/100\n",
      "45/45 [==============================] - 0s 4ms/step - loss: 2.3031 - accuracy: 0.1072\n",
      "Epoch 48/100\n",
      "45/45 [==============================] - 0s 3ms/step - loss: 2.3031 - accuracy: 0.1072\n",
      "Epoch 49/100\n",
      "45/45 [==============================] - 0s 3ms/step - loss: 2.3031 - accuracy: 0.1051\n",
      "Epoch 50/100\n",
      "45/45 [==============================] - 0s 4ms/step - loss: 2.3032 - accuracy: 0.1072\n",
      "Epoch 51/100\n",
      "45/45 [==============================] - 0s 9ms/step - loss: 2.3031 - accuracy: 0.1058\n",
      "Epoch 52/100\n",
      "45/45 [==============================] - 0s 4ms/step - loss: 2.3030 - accuracy: 0.1072\n",
      "Epoch 53/100\n",
      "45/45 [==============================] - 0s 4ms/step - loss: 2.3031 - accuracy: 0.1030\n",
      "Epoch 54/100\n",
      "45/45 [==============================] - 0s 6ms/step - loss: 2.3032 - accuracy: 0.1030\n",
      "Epoch 55/100\n",
      "45/45 [==============================] - 0s 4ms/step - loss: 2.3032 - accuracy: 0.1072\n",
      "Epoch 56/100\n",
      "45/45 [==============================] - 0s 5ms/step - loss: 2.3030 - accuracy: 0.1072\n",
      "Epoch 57/100\n",
      "45/45 [==============================] - 0s 4ms/step - loss: 2.3030 - accuracy: 0.1072\n",
      "Epoch 58/100\n",
      "45/45 [==============================] - 0s 4ms/step - loss: 2.3031 - accuracy: 0.1072\n",
      "Epoch 59/100\n",
      "45/45 [==============================] - 0s 4ms/step - loss: 2.3030 - accuracy: 0.1072\n",
      "Epoch 60/100\n",
      "45/45 [==============================] - 0s 7ms/step - loss: 2.3031 - accuracy: 0.0995\n",
      "Epoch 61/100\n",
      "45/45 [==============================] - 0s 4ms/step - loss: 2.3029 - accuracy: 0.1030\n",
      "Epoch 62/100\n",
      "45/45 [==============================] - 0s 4ms/step - loss: 2.3033 - accuracy: 0.1072\n",
      "Epoch 63/100\n",
      "45/45 [==============================] - 0s 6ms/step - loss: 2.3032 - accuracy: 0.1072\n",
      "Epoch 64/100\n",
      "45/45 [==============================] - 0s 7ms/step - loss: 2.3032 - accuracy: 0.1044\n",
      "Epoch 65/100\n",
      "45/45 [==============================] - 0s 7ms/step - loss: 2.3032 - accuracy: 0.1044\n",
      "Epoch 66/100\n",
      "45/45 [==============================] - 1s 11ms/step - loss: 2.3032 - accuracy: 0.0995\n",
      "Epoch 67/100\n",
      "45/45 [==============================] - 0s 3ms/step - loss: 2.3032 - accuracy: 0.1030\n",
      "Epoch 68/100\n",
      "45/45 [==============================] - 0s 5ms/step - loss: 2.3030 - accuracy: 0.1072\n",
      "Epoch 69/100\n",
      "45/45 [==============================] - 1s 19ms/step - loss: 2.3031 - accuracy: 0.1030\n",
      "Epoch 70/100\n",
      "45/45 [==============================] - 0s 5ms/step - loss: 2.3030 - accuracy: 0.1072\n",
      "Epoch 71/100\n",
      "45/45 [==============================] - 0s 3ms/step - loss: 2.3031 - accuracy: 0.1072\n",
      "Epoch 72/100\n",
      "45/45 [==============================] - 0s 4ms/step - loss: 2.3033 - accuracy: 0.1065\n",
      "Epoch 73/100\n",
      "45/45 [==============================] - 0s 3ms/step - loss: 2.3031 - accuracy: 0.1072\n",
      "Epoch 74/100\n",
      "45/45 [==============================] - 0s 4ms/step - loss: 2.3031 - accuracy: 0.1072\n",
      "Epoch 75/100\n",
      "45/45 [==============================] - 0s 4ms/step - loss: 2.3033 - accuracy: 0.0960\n",
      "Epoch 76/100\n",
      "45/45 [==============================] - 0s 8ms/step - loss: 2.3033 - accuracy: 0.1072\n",
      "Epoch 77/100\n",
      "45/45 [==============================] - 0s 3ms/step - loss: 2.3032 - accuracy: 0.1072\n",
      "Epoch 78/100\n",
      "45/45 [==============================] - 0s 9ms/step - loss: 2.3032 - accuracy: 0.1065\n",
      "Epoch 79/100\n",
      "45/45 [==============================] - 0s 5ms/step - loss: 2.3032 - accuracy: 0.0974\n",
      "Epoch 80/100\n",
      "45/45 [==============================] - 0s 5ms/step - loss: 2.3030 - accuracy: 0.1072\n",
      "Epoch 81/100\n",
      "45/45 [==============================] - 0s 6ms/step - loss: 2.3031 - accuracy: 0.1072\n",
      "Epoch 82/100\n",
      "45/45 [==============================] - 0s 9ms/step - loss: 2.3032 - accuracy: 0.1072\n",
      "Epoch 83/100\n",
      "45/45 [==============================] - 0s 4ms/step - loss: 2.3031 - accuracy: 0.1037\n",
      "Epoch 84/100\n",
      "45/45 [==============================] - 0s 4ms/step - loss: 2.3032 - accuracy: 0.1072\n",
      "Epoch 85/100\n",
      "45/45 [==============================] - 0s 4ms/step - loss: 2.3032 - accuracy: 0.1072\n",
      "Epoch 86/100\n",
      "45/45 [==============================] - 0s 4ms/step - loss: 2.3032 - accuracy: 0.1072\n",
      "Epoch 87/100\n",
      "45/45 [==============================] - 0s 5ms/step - loss: 2.3031 - accuracy: 0.1030\n",
      "Epoch 88/100\n",
      "45/45 [==============================] - 0s 4ms/step - loss: 2.3031 - accuracy: 0.1030\n",
      "Epoch 89/100\n",
      "45/45 [==============================] - 0s 4ms/step - loss: 2.3030 - accuracy: 0.1072\n",
      "Epoch 90/100\n",
      "45/45 [==============================] - 0s 4ms/step - loss: 2.3030 - accuracy: 0.0981\n",
      "Epoch 91/100\n",
      "45/45 [==============================] - 0s 4ms/step - loss: 2.3031 - accuracy: 0.1002\n",
      "Epoch 92/100\n",
      "45/45 [==============================] - 0s 4ms/step - loss: 2.3032 - accuracy: 0.1072\n",
      "Epoch 93/100\n",
      "45/45 [==============================] - 0s 4ms/step - loss: 2.3030 - accuracy: 0.1072\n",
      "Epoch 94/100\n",
      "45/45 [==============================] - 0s 4ms/step - loss: 2.3031 - accuracy: 0.1023\n",
      "Epoch 95/100\n",
      "45/45 [==============================] - 0s 6ms/step - loss: 2.3031 - accuracy: 0.1072\n",
      "Epoch 96/100\n",
      "45/45 [==============================] - 0s 4ms/step - loss: 2.3033 - accuracy: 0.1051\n",
      "Epoch 97/100\n",
      "45/45 [==============================] - 0s 4ms/step - loss: 2.3031 - accuracy: 0.1072\n",
      "Epoch 98/100\n",
      "45/45 [==============================] - 0s 4ms/step - loss: 2.3032 - accuracy: 0.0981\n",
      "Epoch 99/100\n",
      "45/45 [==============================] - 0s 4ms/step - loss: 2.3032 - accuracy: 0.1072\n",
      "Epoch 100/100\n",
      "45/45 [==============================] - 0s 4ms/step - loss: 2.3033 - accuracy: 0.1072\n"
     ]
    },
    {
     "data": {
      "text/plain": [
       "<matplotlib.legend.Legend at 0x1af8ab8f1f0>"
      ]
     },
     "execution_count": 79,
     "metadata": {},
     "output_type": "execute_result"
    },
    {
     "data": {
      "image/png": "[encoded data removed]",
      "text/plain": [
       "<Figure size 1200x400 with 1 Axes>"
      ]
     },
     "metadata": {},
     "output_type": "display_data"
    }
   ],
   "source": [
    "#initialize all weights to 0 (constant initialization)\n",
    "\n",
    "from tensorflow.keras import initializers\n",
    "from tensorflow.keras import optimizers\n",
    "from tensorflow.keras.models import Sequential\n",
    "from tensorflow.keras.layers import Dense\n",
    "\n",
    "input_dim = 64\n",
    "hidden_dim = 64\n",
    "output_dim = 10\n",
    "\n",
    "# In this line we initialize the weights to 0\n",
    "constant_init = initializers.Constant(0.0)\n",
    "\n",
    "model = Sequential()\n",
    "model.add(Dense(hidden_dim, input_dim=input_dim, activation=\"tanh\",\n",
    "                kernel_initializer=constant_init,\n",
    "                bias_initializer=initializers.Zeros()))\n",
    "model.add(Dense(hidden_dim, activation=\"tanh\",\n",
    "                kernel_initializer=constant_init,\n",
    "                bias_initializer=initializers.Zeros()))\n",
    "model.add(Dense(output_dim, activation=\"softmax\",\n",
    "                kernel_initializer=constant_init,\n",
    "                bias_initializer=initializers.Zeros()))\n",
    "\n",
    "model.compile(optimizer=optimizers.SGD(learning_rate=0.1),\n",
    "              loss='categorical_crossentropy', metrics=['accuracy'])\n",
    "\n",
    "history = model.fit(X_train, y_train, epochs=100, batch_size=32)\n",
    "\n",
    "plt.figure(figsize=(12, 4))\n",
    "plt.plot(history.history['loss'], label=\"Constant init (all zeros)\")\n",
    "plt.legend()\n"
   ]
  },
  {
   "cell_type": "code",
   "execution_count": 80,
   "metadata": {},
   "outputs": [
    {
     "data": {
      "text/plain": [
       "[<tf.Variable 'dense_52/kernel:0' shape=(64, 64) dtype=float32, numpy=\n",
       " array([[0., 0., 0., ..., 0., 0., 0.],\n",
       "        [0., 0., 0., ..., 0., 0., 0.],\n",
       "        [0., 0., 0., ..., 0., 0., 0.],\n",
       "        ...,\n",
       "        [0., 0., 0., ..., 0., 0., 0.],\n",
       "        [0., 0., 0., ..., 0., 0., 0.],\n",
       "        [0., 0., 0., ..., 0., 0., 0.]], dtype=float32)>,\n",
       " <tf.Variable 'dense_52/bias:0' shape=(64,) dtype=float32, numpy=\n",
       " array([0., 0., 0., 0., 0., 0., 0., 0., 0., 0., 0., 0., 0., 0., 0., 0., 0.,\n",
       "        0., 0., 0., 0., 0., 0., 0., 0., 0., 0., 0., 0., 0., 0., 0., 0., 0.,\n",
       "        0., 0., 0., 0., 0., 0., 0., 0., 0., 0., 0., 0., 0., 0., 0., 0., 0.,\n",
       "        0., 0., 0., 0., 0., 0., 0., 0., 0., 0., 0., 0., 0.], dtype=float32)>]"
      ]
     },
     "execution_count": 80,
     "metadata": {},
     "output_type": "execute_result"
    }
   ],
   "source": [
    "model.layers[0].weights"
   ]
  },
  {
   "cell_type": "markdown",
   "metadata": {},
   "source": [
    "- What do you observe? Can you find an explanation for those\n",
    "  outcomes?\n",
    "\n",
    "When we init all weights to the same amount (constant) then when we are going to calculate the gradients, all of the neurons will learn the same and that is a problem. \n",
    "\n",
    "Dont do that!\n",
    "\n",
    "\n",
    "\n",
    "\n",
    "- Are more advanced solvers such as SGD with momentum or Adam able\n",
    "  to deal better with such bad initializations?\n",
    "\n",
    "Yes both can do better with the initialization, but all of them will suffer if we put all weights constant too\n",
    "\n",
    "  "
   ]
  },
  {
   "cell_type": "code",
   "execution_count": null,
   "metadata": {},
   "outputs": [],
   "source": []
  },
  {
   "cell_type": "code",
   "execution_count": null,
   "metadata": {},
   "outputs": [],
   "source": []
  }
 ],
 "metadata": {
  "file_extension": ".py",
  "kernelspec": {
   "display_name": "dsi_participant",
   "language": "python",
   "name": "python3"
  },
  "language_info": {
   "codemirror_mode": {
    "name": "ipython",
    "version": 3
   },
   "file_extension": ".py",
   "mimetype": "text/x-python",
   "name": "python",
   "nbconvert_exporter": "python",
   "pygments_lexer": "ipython3",
   "version": "3.9.15"
  },
  "mimetype": "text/x-python",
  "name": "python",
  "npconvert_exporter": "python",
  "pygments_lexer": "ipython3",
  "toc": {
   "base_numbering": 1,
   "nav_menu": {},
   "number_sections": true,
   "sideBar": true,
   "skip_h1_title": false,
   "title_cell": "Table of Contents",
   "title_sidebar": "Contents",
   "toc_cell": false,
   "toc_position": {},
   "toc_section_display": true,
   "toc_window_display": false
  },
  "version": 3
 },
 "nbformat": 4,
 "nbformat_minor": 4
}
