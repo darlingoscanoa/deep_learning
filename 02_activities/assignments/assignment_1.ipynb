{
  "cells": [
    {
      "cell_type": "markdown",
      "id": "927ae8f4",
      "metadata": {
        "id": "927ae8f4"
      },
      "source": [
        "# Assignment 1 - Building a Vision Model with Keras\n",
        "\n",
        "In this assignment, you will build a simple vision model using Keras. The goal is to classify images from the Fashion MNIST dataset, which contains images of clothing items.\n",
        "\n",
        "You will:\n",
        "1. Load and inspect the Fashion MNIST dataset.\n",
        "2. Run a simple baseline model to establish a performance benchmark.\n",
        "3. Build and evaluate a simple CNN model, choosing appropriate loss and metrics.\n",
        "4. Design and run controlled experiments on one hyperparameter (e.g., number of filters, kernel size, etc.) and one regularization technique (e.g., dropout, L2 regularization).\n",
        "5. Analyze the results and visualize the model's performance.\n",
        "\n",
        "# 1. Loading and Inspecting the Dataset\n",
        "\n",
        "Fashion MNIST is a dataset of grayscale images of clothing items, with 10 classes. Each image is 28x28 pixels, like the MNIST dataset of handwritten digits. Keras provides a convenient way to load this dataset.\n",
        "\n",
        "In this section, you should:\n",
        "\n",
        "- [ ] Inspect the shapes of the training and test sets to confirm their size and structure.\n",
        "- [ ] Convert the labels to one-hot encoded format if necessary. (There is a utility function in Keras for this.)\n",
        "- [ ] Visualize a few images from the dataset to understand what the data looks like."
      ]
    },
    {
      "cell_type": "code",
      "execution_count": 1,
      "id": "420c7178",
      "metadata": {
        "colab": {
          "base_uri": "https://localhost:8080/"
        },
        "id": "420c7178",
        "outputId": "817cc55f-262b-486f-da2e-ba05d59f2e6b"
      },
      "outputs": [
        {
          "output_type": "stream",
          "name": "stdout",
          "text": [
            "Downloading data from https://storage.googleapis.com/tensorflow/tf-keras-datasets/train-labels-idx1-ubyte.gz\n",
            "\u001b[1m29515/29515\u001b[0m \u001b[32m━━━━━━━━━━━━━━━━━━━━\u001b[0m\u001b[37m\u001b[0m \u001b[1m0s\u001b[0m 0us/step\n",
            "Downloading data from https://storage.googleapis.com/tensorflow/tf-keras-datasets/train-images-idx3-ubyte.gz\n",
            "\u001b[1m26421880/26421880\u001b[0m \u001b[32m━━━━━━━━━━━━━━━━━━━━\u001b[0m\u001b[37m\u001b[0m \u001b[1m0s\u001b[0m 0us/step\n",
            "Downloading data from https://storage.googleapis.com/tensorflow/tf-keras-datasets/t10k-labels-idx1-ubyte.gz\n",
            "\u001b[1m5148/5148\u001b[0m \u001b[32m━━━━━━━━━━━━━━━━━━━━\u001b[0m\u001b[37m\u001b[0m \u001b[1m0s\u001b[0m 0us/step\n",
            "Downloading data from https://storage.googleapis.com/tensorflow/tf-keras-datasets/t10k-images-idx3-ubyte.gz\n",
            "\u001b[1m4422102/4422102\u001b[0m \u001b[32m━━━━━━━━━━━━━━━━━━━━\u001b[0m\u001b[37m\u001b[0m \u001b[1m0s\u001b[0m 0us/step\n"
          ]
        }
      ],
      "source": [
        "from tensorflow.keras.datasets import fashion_mnist\n",
        "(X_train, y_train), (X_test, y_test) = fashion_mnist.load_data()\n",
        "\n",
        "# Normalize the pixel values to be between 0 and 1\n",
        "X_train = X_train.astype('float32') / 255.0\n",
        "X_test = X_test.astype('float32') / 255.0\n",
        "\n",
        "# Classes in the Fashion MNIST dataset\n",
        "class_names = [\"T-shirt/top\", \"Trouser\", \"Pullover\", \"Dress\", \"Coat\", \"Sandal\", \"Shirt\", \"Sneaker\", \"Bag\", \"Ankle boot\"]"
      ]
    },
    {
      "cell_type": "code",
      "execution_count": 2,
      "id": "a6c89fe7",
      "metadata": {
        "colab": {
          "base_uri": "https://localhost:8080/"
        },
        "id": "a6c89fe7",
        "outputId": "08eef2b5-c500-42f7-dcf4-cf5d95f56eb2"
      },
      "outputs": [
        {
          "output_type": "stream",
          "name": "stdout",
          "text": [
            "X_train shape: (60000, 28, 28)\n",
            "y_train shape: (60000,)\n",
            "X_test shape: (10000, 28, 28)\n",
            "y_test shape: (10000,)\n",
            "First few samples of X_train:\n",
            " [[[0. 0. 0. ... 0. 0. 0.]\n",
            "  [0. 0. 0. ... 0. 0. 0.]\n",
            "  [0. 0. 0. ... 0. 0. 0.]\n",
            "  ...\n",
            "  [0. 0. 0. ... 0. 0. 0.]\n",
            "  [0. 0. 0. ... 0. 0. 0.]\n",
            "  [0. 0. 0. ... 0. 0. 0.]]\n",
            "\n",
            " [[0. 0. 0. ... 0. 0. 0.]\n",
            "  [0. 0. 0. ... 0. 0. 0.]\n",
            "  [0. 0. 0. ... 0. 0. 0.]\n",
            "  ...\n",
            "  [0. 0. 0. ... 0. 0. 0.]\n",
            "  [0. 0. 0. ... 0. 0. 0.]\n",
            "  [0. 0. 0. ... 0. 0. 0.]]\n",
            "\n",
            " [[0. 0. 0. ... 0. 0. 0.]\n",
            "  [0. 0. 0. ... 0. 0. 0.]\n",
            "  [0. 0. 0. ... 0. 0. 0.]\n",
            "  ...\n",
            "  [0. 0. 0. ... 0. 0. 0.]\n",
            "  [0. 0. 0. ... 0. 0. 0.]\n",
            "  [0. 0. 0. ... 0. 0. 0.]]\n",
            "\n",
            " [[0. 0. 0. ... 0. 0. 0.]\n",
            "  [0. 0. 0. ... 0. 0. 0.]\n",
            "  [0. 0. 0. ... 0. 0. 0.]\n",
            "  ...\n",
            "  [0. 0. 0. ... 0. 0. 0.]\n",
            "  [0. 0. 0. ... 0. 0. 0.]\n",
            "  [0. 0. 0. ... 0. 0. 0.]]\n",
            "\n",
            " [[0. 0. 0. ... 0. 0. 0.]\n",
            "  [0. 0. 0. ... 0. 0. 0.]\n",
            "  [0. 0. 0. ... 0. 0. 0.]\n",
            "  ...\n",
            "  [0. 0. 0. ... 0. 0. 0.]\n",
            "  [0. 0. 0. ... 0. 0. 0.]\n",
            "  [0. 0. 0. ... 0. 0. 0.]]]\n",
            "First few samples of y_train:\n",
            " [9 0 0 3 0]\n",
            "First few samples of X_test:\n",
            " [[[0. 0. 0. ... 0. 0. 0.]\n",
            "  [0. 0. 0. ... 0. 0. 0.]\n",
            "  [0. 0. 0. ... 0. 0. 0.]\n",
            "  ...\n",
            "  [0. 0. 0. ... 0. 0. 0.]\n",
            "  [0. 0. 0. ... 0. 0. 0.]\n",
            "  [0. 0. 0. ... 0. 0. 0.]]\n",
            "\n",
            " [[0. 0. 0. ... 0. 0. 0.]\n",
            "  [0. 0. 0. ... 0. 0. 0.]\n",
            "  [0. 0. 0. ... 0. 0. 0.]\n",
            "  ...\n",
            "  [0. 0. 0. ... 0. 0. 0.]\n",
            "  [0. 0. 0. ... 0. 0. 0.]\n",
            "  [0. 0. 0. ... 0. 0. 0.]]\n",
            "\n",
            " [[0. 0. 0. ... 0. 0. 0.]\n",
            "  [0. 0. 0. ... 0. 0. 0.]\n",
            "  [0. 0. 0. ... 0. 0. 0.]\n",
            "  ...\n",
            "  [0. 0. 0. ... 0. 0. 0.]\n",
            "  [0. 0. 0. ... 0. 0. 0.]\n",
            "  [0. 0. 0. ... 0. 0. 0.]]\n",
            "\n",
            " [[0. 0. 0. ... 0. 0. 0.]\n",
            "  [0. 0. 0. ... 0. 0. 0.]\n",
            "  [0. 0. 0. ... 0. 0. 0.]\n",
            "  ...\n",
            "  [0. 0. 0. ... 0. 0. 0.]\n",
            "  [0. 0. 0. ... 0. 0. 0.]\n",
            "  [0. 0. 0. ... 0. 0. 0.]]\n",
            "\n",
            " [[0. 0. 0. ... 0. 0. 0.]\n",
            "  [0. 0. 0. ... 0. 0. 0.]\n",
            "  [0. 0. 0. ... 0. 0. 0.]\n",
            "  ...\n",
            "  [0. 0. 0. ... 0. 0. 0.]\n",
            "  [0. 0. 0. ... 0. 0. 0.]\n",
            "  [0. 0. 0. ... 0. 0. 0.]]]\n",
            "First few samples of y_test:\n",
            " [9 2 1 1 6]\n",
            "y_train_onehot shape: (60000, 10)\n",
            "y_test_onehot shape: (10000, 10)\n"
          ]
        }
      ],
      "source": [
        "# Inspect the shapes of the datasets\n",
        "print(\"X_train shape:\", X_train.shape)\n",
        "print(\"y_train shape:\", y_train.shape)\n",
        "print(\"X_test shape:\", X_test.shape)\n",
        "print(\"y_test shape:\", y_test.shape)\n",
        "\n",
        "# Inspect the first few samples\n",
        "print(\"First few samples of X_train:\\n\", X_train[:5])\n",
        "print(\"First few samples of y_train:\\n\", y_train[:5])\n",
        "print(\"First few samples of X_test:\\n\", X_test[:5])\n",
        "print(\"First few samples of y_test:\\n\", y_test[:5])\n",
        "\n",
        "# Convert labels to one-hot encoding\n",
        "from tensorflow.keras.utils import to_categorical\n",
        "\n",
        "num_classes = 10  # Fashion MNIST has 10 classes\n",
        "y_train_onehot = to_categorical(y_train, num_classes)\n",
        "y_test_onehot = to_categorical(y_test, num_classes)\n",
        "\n",
        "print(\"y_train_onehot shape:\", y_train_onehot.shape)  # (60000, 10)\n",
        "print(\"y_test_onehot shape:\", y_test_onehot.shape)    # (10000, 10)\n"
      ]
    },
    {
      "cell_type": "markdown",
      "source": [
        "Is ok after reviewing the dataset documentation"
      ],
      "metadata": {
        "id": "p-DOhhbHv8_U"
      },
      "id": "p-DOhhbHv8_U"
    },
    {
      "cell_type": "code",
      "execution_count": 3,
      "id": "13e100db",
      "metadata": {
        "colab": {
          "base_uri": "https://localhost:8080/",
          "height": 381
        },
        "id": "13e100db",
        "outputId": "e75841d8-631b-469c-9881-9d34f9e49a42"
      },
      "outputs": [
        {
          "output_type": "display_data",
          "data": {
            "text/plain": [
              "<Figure size 1000x400 with 10 Axes>"
            ],
            "image/png": "[encoded data removed]"
          },
          "metadata": {}
        }
      ],
      "source": [
        "import matplotlib.pyplot as plt\n",
        "# Verify the data looks as expected\n",
        "\n",
        "class_names = [\n",
        "    \"T-shirt/top\", \"Trouser\", \"Pullover\", \"Dress\", \"Coat\",\n",
        "    \"Sandal\", \"Shirt\", \"Sneaker\", \"Bag\", \"Ankle boot\"\n",
        "]\n",
        "\n",
        "plt.figure(figsize=(10, 4))\n",
        "for i in range(10):\n",
        "    plt.subplot(2, 5, i + 1)\n",
        "    plt.imshow(X_train[i], cmap='gray')\n",
        "    plt.title(class_names[y_train[i]])\n",
        "    plt.axis('off')\n",
        "\n",
        "plt.suptitle(\"Sample images from Fashion MNIST training set\")\n",
        "plt.show()\n"
      ]
    },
    {
      "cell_type": "markdown",
      "source": [
        "These are the first 10 but there are some repeated, so lets look the first per each class:"
      ],
      "metadata": {
        "id": "FE_KL3Kiw85z"
      },
      "id": "FE_KL3Kiw85z"
    },
    {
      "cell_type": "code",
      "source": [
        "import matplotlib.pyplot as plt\n",
        "import numpy as np\n",
        "\n",
        "class_names = [\n",
        "    \"T-shirt/top\", \"Trouser\", \"Pullover\", \"Dress\", \"Coat\",\n",
        "    \"Sandal\", \"Shirt\", \"Sneaker\", \"Bag\", \"Ankle boot\"\n",
        "]\n",
        "\n",
        "plt.figure(figsize=(12, 5))\n",
        "\n",
        "# For each class, find the first occurrence index in y_train\n",
        "for class_idx in range(10):\n",
        "    idx = np.where(y_train == class_idx)[0][0]  # first index of class_idx\n",
        "    plt.subplot(2, 5, class_idx + 1)\n",
        "    plt.imshow(X_train[idx], cmap='gray')\n",
        "    plt.title(class_names[class_idx])\n",
        "    plt.axis('off')\n",
        "\n",
        "plt.suptitle(\"One example image per class from Fashion MNIST\")\n",
        "plt.show()\n"
      ],
      "metadata": {
        "colab": {
          "base_uri": "https://localhost:8080/",
          "height": 464
        },
        "id": "nWRxeV1atQ30",
        "outputId": "fb56c039-317b-4f08-8c81-8bb4bf258168"
      },
      "id": "nWRxeV1atQ30",
      "execution_count": 4,
      "outputs": [
        {
          "output_type": "display_data",
          "data": {
            "text/plain": [
              "<Figure size 1200x500 with 10 Axes>"
            ],
            "image/png": "[encoded data removed]"
          },
          "metadata": {}
        }
      ]
    },
    {
      "cell_type": "markdown",
      "id": "989f7dd0",
      "metadata": {
        "id": "989f7dd0"
      },
      "source": [
        "Reflection: Does the data look as expected? How is the quality of the images? Are there any issues with the dataset that you notice?\n",
        "\n",
        "**Your answer here**"
      ]
    },
    {
      "cell_type": "markdown",
      "source": [
        "Yes, they look as expected but the quality is so low. However, after coming from the digits experiment with so low quality I believe wouldn't be a problem for ANN to learn from these patterns"
      ],
      "metadata": {
        "id": "SFptvH2qtT4Z"
      },
      "id": "SFptvH2qtT4Z"
    },
    {
      "cell_type": "markdown",
      "id": "c9e8ad60",
      "metadata": {
        "id": "c9e8ad60"
      },
      "source": [
        "# 2. Baseline Model\n",
        "\n",
        "In this section, you will create a linear regression model as a baseline. This model will not use any convolutional layers, but it will help you understand the performance of a simple model on this dataset.\n",
        "You should:\n",
        "- [ ] Create a simple linear regression model using Keras.\n",
        "- [ ] Compile the model with an appropriate loss function and optimizer.\n",
        "- [ ] Train the model on the training set and evaluate it on the test set.\n",
        "\n",
        "A linear regression model can be created using the `Sequential` API in Keras. Using a single `Dense` layer with no activation function is equivalent to a simple linear regression model. Make sure that the number of units in the output layer matches the number of classes in the dataset.\n",
        "\n",
        "Note that for this step, we will need to use `Flatten` to convert the 2D images into 1D vectors before passing them to the model. Put a `Flatten()` layer as the first layer in your model so that the 2D image data can be flattened into 1D vectors."
      ]
    },
    {
      "cell_type": "code",
      "execution_count": 6,
      "id": "8563a7aa",
      "metadata": {
        "colab": {
          "base_uri": "https://localhost:8080/"
        },
        "id": "8563a7aa",
        "outputId": "9b24731a-dfd6-4879-d7da-25d7d035e0e7"
      },
      "outputs": [
        {
          "output_type": "stream",
          "name": "stdout",
          "text": [
            "Epoch 1/10\n",
            "469/469 - 3s - 6ms/step - accuracy: 0.2301 - loss: 9.8926 - val_accuracy: 0.1835 - val_loss: 9.5336\n",
            "Epoch 2/10\n",
            "469/469 - 2s - 5ms/step - accuracy: 0.2734 - loss: 10.0116 - val_accuracy: 0.3476 - val_loss: 9.1802\n",
            "Epoch 3/10\n",
            "469/469 - 3s - 6ms/step - accuracy: 0.3251 - loss: 9.0048 - val_accuracy: 0.3407 - val_loss: 9.8564\n",
            "Epoch 4/10\n",
            "469/469 - 2s - 5ms/step - accuracy: 0.3296 - loss: 10.6505 - val_accuracy: 0.3173 - val_loss: 10.0286\n",
            "Epoch 5/10\n",
            "469/469 - 2s - 4ms/step - accuracy: 0.3250 - loss: 10.1766 - val_accuracy: 0.3198 - val_loss: 10.8751\n",
            "Epoch 6/10\n",
            "469/469 - 3s - 6ms/step - accuracy: 0.3232 - loss: 10.9700 - val_accuracy: 0.3348 - val_loss: 10.6719\n",
            "Epoch 7/10\n",
            "469/469 - 2s - 4ms/step - accuracy: 0.2775 - loss: 11.0794 - val_accuracy: 0.2744 - val_loss: 11.6531\n",
            "Epoch 8/10\n",
            "469/469 - 2s - 4ms/step - accuracy: 0.2907 - loss: 11.8075 - val_accuracy: 0.3098 - val_loss: 12.3776\n",
            "Epoch 9/10\n",
            "469/469 - 3s - 6ms/step - accuracy: 0.3156 - loss: 11.6243 - val_accuracy: 0.3241 - val_loss: 12.0091\n",
            "Epoch 10/10\n",
            "469/469 - 3s - 6ms/step - accuracy: 0.3310 - loss: 11.6325 - val_accuracy: 0.3425 - val_loss: 11.6651\n",
            "Test loss: 11.6651\n",
            "Test accuracy: 0.3425\n"
          ]
        }
      ],
      "source": [
        "from keras.models import Sequential\n",
        "from keras.layers import Dense, Flatten\n",
        "\n",
        "# Create a simple linear regression model\n",
        "model = Sequential()\n",
        "\n",
        "# You can use `model.add(<layer>)` to add layers to the model\n",
        "## Flatten layer to convert 28x28 images to 784-length vectors\n",
        "model.add(Flatten(input_shape=(28, 28)))\n",
        "\n",
        "## Dense layer with 10 units (one per class), no activation (so we are creating a linear regression)\n",
        "model.add(Dense(num_classes))\n",
        "\n",
        "# Compile the model using `model.compile()`\n",
        "model.compile(\n",
        "    optimizer='adam',\n",
        "    loss='categorical_crossentropy',\n",
        "    metrics=['accuracy']\n",
        ")\n",
        "\n",
        "# Train the model with `model.fit()`\n",
        "model.fit(\n",
        "    X_train, y_train_onehot,\n",
        "    batch_size=128,\n",
        "    epochs=10,\n",
        "    validation_data=(X_test, y_test_onehot),\n",
        "    verbose=2\n",
        ")\n",
        "\n",
        "# Evaluate the model with `model.evaluate()`\n",
        "test_loss, test_accuracy = model.evaluate(X_test, y_test_onehot, verbose=0)\n",
        "print(f\"Test loss: {test_loss:.4f}\")\n",
        "print(f\"Test accuracy: {test_accuracy:.4f}\")\n"
      ]
    },
    {
      "cell_type": "markdown",
      "id": "9a07e9f7",
      "metadata": {
        "id": "9a07e9f7"
      },
      "source": [
        "Reflection: What is the performance of the baseline model? How does it compare to what you expected? Why do you think the performance is at this level?\n",
        "\n",
        "**Your answer here**"
      ]
    },
    {
      "cell_type": "markdown",
      "source": [
        "Is very low (0.3425) because has only one layer without any single layer (like old times where ANN were not so adopted) and also is very basic model (linear regresion) meaning doesnt have a non linear activation function, not appropiate to this classification task.\n",
        "\n",
        "Furthermore, this basic model doesnt exploit the spatial structure because it flatten 2d into 1d vector and didnt manage the pixels dependencies, it means cannot learn about edges, textures or shapes.\n",
        "\n",
        "If we could use more advanced models like CNN which are specificilly designed to learn these spatial hierarchies because apply convulotional filters so we can detect patterns and help to generalize better.\n",
        "\n",
        "\n"
      ],
      "metadata": {
        "id": "ynRQ7p_SzT2T"
      },
      "id": "ynRQ7p_SzT2T"
    },
    {
      "cell_type": "markdown",
      "id": "fa107b59",
      "metadata": {
        "id": "fa107b59"
      },
      "source": [
        "# 3. Building and Evaluating a Simple CNN Model\n",
        "\n",
        "In this section, you will build a simple Convolutional Neural Network (CNN) model using Keras. A convolutional neural network is a type of deep learning model that is particularly effective for image classification tasks. Unlike the basic neural networks we have built in the labs, CNNs can accept images as input without needing to flatten them into vectors.\n",
        "\n",
        "You should:\n",
        "- [ ] Build a simple CNN model with at least one convolutional layer (to learn spatial hierarchies in images) and one fully connected layer (to make predictions).\n",
        "- [ ] Compile the model with an appropriate loss function and metrics for a multi-class classification problem.\n",
        "- [ ] Train the model on the training set and evaluate it on the test set.\n",
        "\n",
        "Convolutional layers are designed to accept inputs with three dimensions: height, width and channels (e.g., RGB for color images). For grayscale images like those in Fashion MNIST, the input shape will be (28, 28, 1).\n",
        "\n",
        "When you progress from the convolutional layers to the fully connected layers, you will need to flatten the output of the convolutional layers. This can be done using the `Flatten` layer in Keras, which doesn't require any parameters."
      ]
    },
    {
      "cell_type": "code",
      "execution_count": 8,
      "id": "3513cf3d",
      "metadata": {
        "colab": {
          "base_uri": "https://localhost:8080/"
        },
        "id": "3513cf3d",
        "outputId": "e0febebc-4a94-42ab-e9c1-f34be8edd2ed"
      },
      "outputs": [
        {
          "output_type": "stream",
          "name": "stdout",
          "text": [
            "Epoch 1/10\n",
            "422/422 - 22s - 53ms/step - accuracy: 0.8082 - loss: 0.5606 - val_accuracy: 0.8622 - val_loss: 0.4021\n",
            "Epoch 2/10\n",
            "422/422 - 21s - 51ms/step - accuracy: 0.8702 - loss: 0.3761 - val_accuracy: 0.8808 - val_loss: 0.3499\n",
            "Epoch 3/10\n",
            "422/422 - 41s - 96ms/step - accuracy: 0.8838 - loss: 0.3359 - val_accuracy: 0.8853 - val_loss: 0.3309\n",
            "Epoch 4/10\n",
            "422/422 - 42s - 101ms/step - accuracy: 0.8909 - loss: 0.3142 - val_accuracy: 0.8817 - val_loss: 0.3322\n",
            "Epoch 5/10\n",
            "422/422 - 39s - 94ms/step - accuracy: 0.8960 - loss: 0.2965 - val_accuracy: 0.8942 - val_loss: 0.3058\n",
            "Epoch 6/10\n",
            "422/422 - 42s - 100ms/step - accuracy: 0.9009 - loss: 0.2832 - val_accuracy: 0.8913 - val_loss: 0.3119\n",
            "Epoch 7/10\n",
            "422/422 - 22s - 51ms/step - accuracy: 0.9047 - loss: 0.2717 - val_accuracy: 0.8948 - val_loss: 0.2992\n",
            "Epoch 8/10\n",
            "422/422 - 41s - 97ms/step - accuracy: 0.9083 - loss: 0.2618 - val_accuracy: 0.9025 - val_loss: 0.2832\n",
            "Epoch 9/10\n",
            "422/422 - 41s - 98ms/step - accuracy: 0.9112 - loss: 0.2534 - val_accuracy: 0.9017 - val_loss: 0.2802\n",
            "Epoch 10/10\n",
            "422/422 - 41s - 98ms/step - accuracy: 0.9132 - loss: 0.2454 - val_accuracy: 0.9003 - val_loss: 0.2815\n",
            "Test loss: 0.2962\n",
            "Test accuracy: 0.8939\n"
          ]
        }
      ],
      "source": [
        "from keras.layers import Conv2D\n",
        "from keras.layers import Conv2D, Flatten, Dense, MaxPooling2D\n",
        "\n",
        "# Reshape the data to include the channel dimension\n",
        "X_train = X_train.reshape(-1, 28, 28, 1)\n",
        "X_test = X_test.reshape(-1, 28, 28, 1)\n",
        "\n",
        "# Create a simple CNN model\n",
        "model = Sequential()\n",
        "model.add(Conv2D(filters=32, kernel_size=(3,3), activation='relu', input_shape=(28,28,1)))\n",
        "model.add(MaxPooling2D(pool_size=(2,2)))\n",
        "model.add(Flatten())\n",
        "model.add(Dense(num_classes, activation='softmax'))\n",
        "\n",
        "# Compile the model\n",
        "model.compile(optimizer='adam',\n",
        "              loss='categorical_crossentropy',\n",
        "              metrics=['accuracy'])\n",
        "\n",
        "# Train the model\n",
        "model.fit(X_train, y_train_onehot, epochs=10, batch_size=128, validation_split=0.1, verbose=2)\n",
        "\n",
        "# Evaluate the model\n",
        "test_loss, test_accuracy = model.evaluate(X_test, y_test_onehot, verbose=0)\n",
        "print(f\"Test loss: {test_loss:.4f}\")\n",
        "print(f\"Test accuracy: {test_accuracy:.4f}\")"
      ]
    },
    {
      "cell_type": "markdown",
      "id": "fabe379c",
      "metadata": {
        "id": "fabe379c"
      },
      "source": [
        "Reflection: Did the CNN model perform better than the baseline model? If so, by how much? What do you think contributed to this improvement?\n",
        "\n",
        "**Your answer here**"
      ]
    },
    {
      "cell_type": "markdown",
      "source": [
        "This CNN model did perform much better than the baseline, improving from 34.5% to 89.4%, which account for 55% of improvement, which is substantial.\n",
        "\n",
        "The improvement comes from mainly from 2 key aspects:\n",
        "\n",
        "1) Convolutional Filters: this CNN model apply multiple filters to the input images. These filters can detect some local spatial patterns like edge, textures and shapes and now having this knowledge between neighour pixels let the model learn these hierarchical features.\n",
        "\n",
        "2) Deep architecture with multiple layers: This CNN include 2 layers -one convolutional layer followed by a fully connected (dense) layer and also in this part by applying a softmax to put some non linear probability to the solution helps to improve."
      ],
      "metadata": {
        "id": "KP2skIGs2fvw"
      },
      "id": "KP2skIGs2fvw"
    },
    {
      "cell_type": "markdown",
      "id": "1a5e2463",
      "metadata": {
        "id": "1a5e2463"
      },
      "source": [
        "# 3. Designing and Running Controlled Experiments\n",
        "\n",
        "In this section, you will design and run controlled experiments to improve the model's performance. You will focus on one hyperparameter and one regularization technique.\n",
        "You should:\n",
        "- [ ] Choose one hyperparameter to experiment with (e.g., number of filters, kernel size, number of layers, etc.) and one regularization technique (e.g., dropout, L2 regularization). For your hyperparameter, you should choose at least three different values to test (but there is no upper limit). For your regularization technique, simply test the presence or absence of the technique.\n",
        "- [ ] Run experiments by modifying the model architecture or hyperparameters, and evaluate the performance of each model on the test set.\n",
        "- [ ] Record the results of your experiments, including the test accuracy and any other relevant metrics.\n",
        "- [ ] Visualize the results of your experiments using plots or tables to compare the performance of different models.\n",
        "\n",
        "The best way to run your experiments is to create a `for` loop that iterates over a range of values for the hyperparameter you are testing. For example, if you are testing different numbers of filters, you can create a loop that runs the model with 32, 64, and 128 filters. Within the loop, you can compile and train the model, then evaluate it on the test set. After each iteration, you can store the results in a list or a dictionary for later analysis.\n",
        "\n",
        "Note: It's critical that you re-initialize the model (by creating a new instance of the model) before each experiment. If you don't, the model will retain the weights from the previous experiment, which can lead to misleading results."
      ]
    },
    {
      "cell_type": "code",
      "execution_count": 9,
      "id": "99d6f46c",
      "metadata": {
        "colab": {
          "base_uri": "https://localhost:8080/",
          "height": 524
        },
        "id": "99d6f46c",
        "outputId": "845a4072-6b8f-49ba-fc15-96fc82a385d5"
      },
      "outputs": [
        {
          "output_type": "stream",
          "name": "stdout",
          "text": [
            "Filters: 16, Test Accuracy: 0.8731\n",
            "Filters: 32, Test Accuracy: 0.8911\n",
            "Filters: 64, Test Accuracy: 0.8971\n"
          ]
        },
        {
          "output_type": "display_data",
          "data": {
            "text/plain": [
              "<Figure size 640x480 with 1 Axes>"
            ],
            "image/png": "[encoded data removed]"
          },
          "metadata": {}
        }
      ],
      "source": [
        "# A. Test Hyperparameters\n",
        "\n",
        "from keras.layers import Conv2D\n",
        "from keras.layers import Conv2D, Flatten, Dense, MaxPooling2D\n",
        "\n",
        "# Reshape the data to include the channel dimension\n",
        "X_train = X_train.reshape(-1, 28, 28, 1)\n",
        "X_test = X_test.reshape(-1, 28, 28, 1)\n",
        "\n",
        "filter_options = [16, 32, 64]\n",
        "results_hyper = []\n",
        "\n",
        "for filters in filter_options:\n",
        "    model = Sequential()\n",
        "    model.add(Conv2D(filters=filters, kernel_size=(3,3), activation='relu', input_shape=(28,28,1)))\n",
        "    model.add(MaxPooling2D(pool_size=(2,2)))\n",
        "    model.add(Flatten())\n",
        "    model.add(Dense(num_classes, activation='softmax'))\n",
        "\n",
        "    model.compile(optimizer='adam',\n",
        "                  loss='categorical_crossentropy',\n",
        "                  metrics=['accuracy'])\n",
        "\n",
        "    model.fit(X_train, y_train_onehot, epochs=5, batch_size=128, verbose=0)\n",
        "\n",
        "    loss, accuracy = model.evaluate(X_test, y_test_onehot, verbose=0)\n",
        "    results_hyper.append({'filters': filters, 'test_accuracy': accuracy})\n",
        "    print(f\"Filters: {filters}, Test Accuracy: {accuracy:.4f}\")\n",
        "\n",
        "# Visualization\n",
        "import pandas as pd\n",
        "import seaborn as sns\n",
        "\n",
        "df_hyper = pd.DataFrame(results_hyper)\n",
        "sns.barplot(data=df_hyper, x='filters', y='test_accuracy')\n",
        "plt.title('Test Accuracy vs Number of Filters')\n",
        "plt.xlabel('Number of Filters')\n",
        "plt.ylabel('Test Accuracy')\n",
        "plt.show()\n"
      ]
    },
    {
      "cell_type": "code",
      "execution_count": 10,
      "id": "dc43ac81",
      "metadata": {
        "colab": {
          "base_uri": "https://localhost:8080/",
          "height": 561
        },
        "id": "dc43ac81",
        "outputId": "60c07015-1b1a-4774-90fc-3d42e8a3379b"
      },
      "outputs": [
        {
          "output_type": "stream",
          "name": "stderr",
          "text": [
            "/usr/local/lib/python3.11/dist-packages/keras/src/layers/convolutional/base_conv.py:107: UserWarning: Do not pass an `input_shape`/`input_dim` argument to a layer. When using Sequential models, prefer using an `Input(shape)` object as the first layer in the model instead.\n",
            "  super().__init__(activity_regularizer=activity_regularizer, **kwargs)\n"
          ]
        },
        {
          "output_type": "stream",
          "name": "stdout",
          "text": [
            "Dropout: False, Test Accuracy: 0.8874\n",
            "Dropout: True, Test Accuracy: 0.8837\n"
          ]
        },
        {
          "output_type": "display_data",
          "data": {
            "text/plain": [
              "<Figure size 640x480 with 1 Axes>"
            ],
            "image/png": "[encoded data removed]"
          },
          "metadata": {}
        }
      ],
      "source": [
        "# B. Test presence or absence of regularization\n",
        "\n",
        "from keras.layers import Dropout\n",
        "\n",
        "dropout_options = [False, True]\n",
        "filters_fixed = 32  # Fix filters to a reasonable value for this test\n",
        "results_reg = []\n",
        "\n",
        "for use_dropout in dropout_options:\n",
        "    model = Sequential()\n",
        "    model.add(Conv2D(filters=filters_fixed, kernel_size=(3,3), activation='relu', input_shape=(28,28,1)))\n",
        "    model.add(MaxPooling2D(pool_size=(2,2)))\n",
        "    if use_dropout:\n",
        "        model.add(Dropout(0.25))\n",
        "    model.add(Flatten())\n",
        "    model.add(Dense(num_classes, activation='softmax'))\n",
        "\n",
        "    model.compile(optimizer='adam',\n",
        "                  loss='categorical_crossentropy',\n",
        "                  metrics=['accuracy'])\n",
        "\n",
        "    model.fit(X_train, y_train_onehot, epochs=5, batch_size=128, verbose=0)\n",
        "\n",
        "    loss, accuracy = model.evaluate(X_test, y_test_onehot, verbose=0)\n",
        "    results_reg.append({'dropout': use_dropout, 'test_accuracy': accuracy})\n",
        "    print(f\"Dropout: {use_dropout}, Test Accuracy: {accuracy:.4f}\")\n",
        "\n",
        "# Visualization\n",
        "df_reg = pd.DataFrame(results_reg)\n",
        "sns.barplot(data=df_reg, x='dropout', y='test_accuracy')\n",
        "plt.title('Test Accuracy with and without Dropout')\n",
        "plt.xlabel('Dropout Used')\n",
        "plt.ylabel('Test Accuracy')\n",
        "plt.show()"
      ]
    },
    {
      "cell_type": "markdown",
      "id": "cb426f26",
      "metadata": {
        "id": "cb426f26"
      },
      "source": [
        "Reflection: Report on the performance of the models you tested. Did any of the changes you made improve the model's performance? If so, which ones? What do you think contributed to these improvements? Finally, what combination of hyperparameters and regularization techniques yielded the best performance?\n",
        "\n",
        "**Your answer here**"
      ]
    },
    {
      "cell_type": "markdown",
      "source": [
        "A. Regarding the hyperparameters, changing the qty of filters improve but a little and are more computational expensive, thats why the 32 is the default value having a good balance in my case.\n",
        "\n",
        "B. Although in my test the Dropout False (not regularization technique in use) was a little better, normally is better to use True. So we will prefer to use as a more robust technique."
      ],
      "metadata": {
        "id": "O4GOxsHC8QHs"
      },
      "id": "O4GOxsHC8QHs"
    },
    {
      "cell_type": "markdown",
      "id": "46c43a3d",
      "metadata": {
        "id": "46c43a3d"
      },
      "source": [
        "# 5. Training Final Model and Evaluation\n",
        "\n",
        "In this section, you will train the final model using the best hyperparameters and regularization techniques you found in the previous section. You should:\n",
        "- [ ] Compile the final model with the best hyperparameters and regularization techniques.\n",
        "- [ ] Train the final model on the training set and evaluate it on the test set.\n",
        "- [ ] Report the final model's performance on the test set, including accuracy and any other relevant metrics."
      ]
    },
    {
      "cell_type": "code",
      "execution_count": 11,
      "id": "31f926d1",
      "metadata": {
        "colab": {
          "base_uri": "https://localhost:8080/"
        },
        "id": "31f926d1",
        "outputId": "c6a4687c-b989-4a4a-cad9-b6533528751c"
      },
      "outputs": [
        {
          "output_type": "stream",
          "name": "stderr",
          "text": [
            "/usr/local/lib/python3.11/dist-packages/keras/src/layers/convolutional/base_conv.py:107: UserWarning: Do not pass an `input_shape`/`input_dim` argument to a layer. When using Sequential models, prefer using an `Input(shape)` object as the first layer in the model instead.\n",
            "  super().__init__(activity_regularizer=activity_regularizer, **kwargs)\n"
          ]
        },
        {
          "output_type": "stream",
          "name": "stdout",
          "text": [
            "Epoch 1/10\n",
            "422/422 - 46s - 109ms/step - accuracy: 0.8199 - loss: 0.5262 - val_accuracy: 0.8672 - val_loss: 0.3760\n",
            "Epoch 2/10\n",
            "422/422 - 45s - 106ms/step - accuracy: 0.8749 - loss: 0.3579 - val_accuracy: 0.8848 - val_loss: 0.3348\n",
            "Epoch 3/10\n",
            "422/422 - 82s - 194ms/step - accuracy: 0.8869 - loss: 0.3234 - val_accuracy: 0.8853 - val_loss: 0.3325\n",
            "Epoch 4/10\n",
            "422/422 - 82s - 193ms/step - accuracy: 0.8931 - loss: 0.3002 - val_accuracy: 0.8928 - val_loss: 0.2991\n",
            "Epoch 5/10\n",
            "422/422 - 83s - 196ms/step - accuracy: 0.8993 - loss: 0.2859 - val_accuracy: 0.9033 - val_loss: 0.2835\n",
            "Epoch 6/10\n",
            "422/422 - 45s - 106ms/step - accuracy: 0.9048 - loss: 0.2709 - val_accuracy: 0.8965 - val_loss: 0.2946\n",
            "Epoch 7/10\n",
            "422/422 - 82s - 195ms/step - accuracy: 0.9070 - loss: 0.2613 - val_accuracy: 0.9022 - val_loss: 0.2796\n",
            "Epoch 8/10\n",
            "422/422 - 81s - 193ms/step - accuracy: 0.9103 - loss: 0.2528 - val_accuracy: 0.9007 - val_loss: 0.2780\n",
            "Epoch 9/10\n",
            "422/422 - 46s - 108ms/step - accuracy: 0.9128 - loss: 0.2450 - val_accuracy: 0.8978 - val_loss: 0.2847\n",
            "Epoch 10/10\n",
            "422/422 - 85s - 201ms/step - accuracy: 0.9144 - loss: 0.2371 - val_accuracy: 0.9018 - val_loss: 0.2795\n",
            "Final model test loss: 0.2908\n",
            "Final model test accuracy: 0.8957\n"
          ]
        }
      ],
      "source": [
        "from keras.models import Sequential\n",
        "from keras.layers import Conv2D, MaxPooling2D, Flatten, Dense, Dropout\n",
        "from tensorflow.keras.utils import to_categorical\n",
        "\n",
        "# Preparar datos (suponiendo que X_train, y_train, X_test, y_test ya están cargados y normalizados)\n",
        "X_train = X_train.reshape(-1, 28, 28, 1)\n",
        "X_test = X_test.reshape(-1, 28, 28, 1)\n",
        "num_classes = 10\n",
        "y_train_onehot = to_categorical(y_train, num_classes)\n",
        "y_test_onehot = to_categorical(y_test, num_classes)\n",
        "\n",
        "# Construir el modelo final con 64 filtros y dropout\n",
        "model_final = Sequential()\n",
        "model_final.add(Conv2D(filters=64, kernel_size=(3,3), activation='relu', input_shape=(28,28,1)))\n",
        "model_final.add(MaxPooling2D(pool_size=(2,2)))\n",
        "model_final.add(Dropout(0.25))  # Regularización dropout para evitar sobreajuste\n",
        "model_final.add(Flatten())\n",
        "model_final.add(Dense(num_classes, activation='softmax'))\n",
        "\n",
        "# Compilar el modelo\n",
        "model_final.compile(\n",
        "    optimizer='adam',\n",
        "    loss='categorical_crossentropy',\n",
        "    metrics=['accuracy']\n",
        ")\n",
        "\n",
        "# Entrenar el modelo con 10 épocas para mejor convergencia\n",
        "model_final.fit(\n",
        "    X_train, y_train_onehot,\n",
        "    epochs=10,\n",
        "    batch_size=128,\n",
        "    validation_split=0.1,\n",
        "    verbose=2\n",
        ")\n",
        "\n",
        "# Evaluar el modelo en el conjunto de prueba\n",
        "test_loss, test_accuracy = model_final.evaluate(X_test, y_test_onehot, verbose=0)\n",
        "print(f\"Final model test loss: {test_loss:.4f}\")\n",
        "print(f\"Final model test accuracy: {test_accuracy:.4f}\")\n"
      ]
    },
    {
      "cell_type": "markdown",
      "id": "a01f8ebc",
      "metadata": {
        "id": "a01f8ebc"
      },
      "source": [
        "Reflection: How does the final model's performance compare to the baseline and the CNN model? What do you think contributed to the final model's performance? If you had time, what other experiments would you run to further improve the model's performance?\n",
        "\n",
        "**Your answer here**"
      ]
    },
    {
      "cell_type": "markdown",
      "source": [
        "-The final model of course will significantly outperform the baseline linear model because the inclusion of more appropiate architectures for image data.\n",
        "\n",
        "-Compared to initial CNN, the final model showed slight improvement by tuning the number of filters and applying regularization technique (dropout). This approach remind me when talking about radar defense when you start by using low precision radar to check your borders but once is in your air you take the cost for more precise radars to improve your defense detection systems.\n",
        "\n",
        "-The final model performance was influenced mainly for the ability to learn spacial feature by using CNN filters and more complex ANN architectures (layers)\n",
        "\n",
        "-If I would have more time i would experiment with more hyperparameters suchs as more layers, maybe different kernel sizes and of course learning rates. Also I would investigate with image advanced technique like data augmentation, I would also try another optimizers and more epochs\n",
        "\n"
      ],
      "metadata": {
        "id": "e9LFrji4-F53"
      },
      "id": "e9LFrji4-F53"
    },
    {
      "cell_type": "markdown",
      "id": "01db8512",
      "metadata": {
        "id": "01db8512"
      },
      "source": [
        "🚨 **Please review our [Assignment Submission Guide](https://github.com/UofT-DSI/onboarding/blob/main/onboarding_documents/submissions.md)** 🚨 for detailed instructions on how to format, branch, and submit your work. Following these guidelines is crucial for your submissions to be evaluated correctly.\n",
        "### Submission Parameters:\n",
        "* Submission Due Date: `23:59 PM - 06/07/2025`\n",
        "* The branch name for your repo should be: `assignment-1`\n",
        "* What to submit for this assignment:\n",
        "    * This Jupyter Notebook (assignment_1.ipynb)\n",
        "    * The Lab 1 notebook (labs/lab_1.ipynb)\n",
        "    * The Lab 2 notebook (labs/lab_2.ipynb)\n",
        "* What the pull request link should look like for this assignment: `https://github.com/<your_github_username>/deep_learning/pull/<pr_id>`\n",
        "* Open a private window in your browser. Copy and paste the link to your pull request into the address bar. Make sure you can see your pull request properly. This helps the technical facilitator and learning support staff review your submission easily.\n",
        "Checklist:\n",
        "- [ ] Created a branch with the correct naming convention.\n",
        "- [ ] Ensured that the repository is public.\n",
        "- [ ] Reviewed the PR description guidelines and adhered to them.\n",
        "- [ ] Verify that the link is accessible in a private browser window.\n",
        "If you encounter any difficulties or have questions, please don't hesitate to reach out to our team via our Slack at `#cohort-6-ml-help`. Our Technical Facilitators and Learning Support staff are here to help you navigate any challenges."
      ]
    }
  ],
  "metadata": {
    "kernelspec": {
      "display_name": "deep_learning",
      "language": "python",
      "name": "python3"
    },
    "language_info": {
      "codemirror_mode": {
        "name": "ipython",
        "version": 3
      },
      "file_extension": ".py",
      "mimetype": "text/x-python",
      "name": "python",
      "nbconvert_exporter": "python",
      "pygments_lexer": "ipython3",
      "version": "3.12.11"
    },
    "colab": {
      "provenance": []
    }
  },
  "nbformat": 4,
  "nbformat_minor": 5
}